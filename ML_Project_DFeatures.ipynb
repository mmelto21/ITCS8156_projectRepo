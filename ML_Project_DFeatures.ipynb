{
  "nbformat": 4,
  "nbformat_minor": 0,
  "metadata": {
    "colab": {
      "provenance": []
    },
    "kernelspec": {
      "name": "python3",
      "display_name": "Python 3"
    },
    "language_info": {
      "name": "python"
    },
    "gpuClass": "standard",
    "widgets": {
      "application/vnd.jupyter.widget-state+json": {
        "eafb5d6d3f2e4bed970e9bad45ad94be": {
          "model_module": "@jupyter-widgets/controls",
          "model_name": "HBoxModel",
          "model_module_version": "1.5.0",
          "state": {
            "_dom_classes": [],
            "_model_module": "@jupyter-widgets/controls",
            "_model_module_version": "1.5.0",
            "_model_name": "HBoxModel",
            "_view_count": null,
            "_view_module": "@jupyter-widgets/controls",
            "_view_module_version": "1.5.0",
            "_view_name": "HBoxView",
            "box_style": "",
            "children": [
              "IPY_MODEL_09503bff088c40dda14d9c561cd0b2e0",
              "IPY_MODEL_7a07eee9af964935a1a419e9e3eaebd8",
              "IPY_MODEL_c3711fdca7864cc0ae2f5ff9c3880864"
            ],
            "layout": "IPY_MODEL_e6c95225fcb241fcb9bae3e81a76c053"
          }
        },
        "09503bff088c40dda14d9c561cd0b2e0": {
          "model_module": "@jupyter-widgets/controls",
          "model_name": "HTMLModel",
          "model_module_version": "1.5.0",
          "state": {
            "_dom_classes": [],
            "_model_module": "@jupyter-widgets/controls",
            "_model_module_version": "1.5.0",
            "_model_name": "HTMLModel",
            "_view_count": null,
            "_view_module": "@jupyter-widgets/controls",
            "_view_module_version": "1.5.0",
            "_view_name": "HTMLView",
            "description": "",
            "description_tooltip": null,
            "layout": "IPY_MODEL_517bba2476b4450b9ee2b6edcc1ca66a",
            "placeholder": "​",
            "style": "IPY_MODEL_3d173e0c7af0405586709488a5e5e13f",
            "value": "100%"
          }
        },
        "7a07eee9af964935a1a419e9e3eaebd8": {
          "model_module": "@jupyter-widgets/controls",
          "model_name": "FloatProgressModel",
          "model_module_version": "1.5.0",
          "state": {
            "_dom_classes": [],
            "_model_module": "@jupyter-widgets/controls",
            "_model_module_version": "1.5.0",
            "_model_name": "FloatProgressModel",
            "_view_count": null,
            "_view_module": "@jupyter-widgets/controls",
            "_view_module_version": "1.5.0",
            "_view_name": "ProgressView",
            "bar_style": "success",
            "description": "",
            "description_tooltip": null,
            "layout": "IPY_MODEL_7c46ef5890674dc08b7a29cdf9431f2f",
            "max": 382563,
            "min": 0,
            "orientation": "horizontal",
            "style": "IPY_MODEL_afe273de29804691a82d417f29fd2aeb",
            "value": 382563
          }
        },
        "c3711fdca7864cc0ae2f5ff9c3880864": {
          "model_module": "@jupyter-widgets/controls",
          "model_name": "HTMLModel",
          "model_module_version": "1.5.0",
          "state": {
            "_dom_classes": [],
            "_model_module": "@jupyter-widgets/controls",
            "_model_module_version": "1.5.0",
            "_model_name": "HTMLModel",
            "_view_count": null,
            "_view_module": "@jupyter-widgets/controls",
            "_view_module_version": "1.5.0",
            "_view_name": "HTMLView",
            "description": "",
            "description_tooltip": null,
            "layout": "IPY_MODEL_5817df185d184cd78dfdde32c126f7c7",
            "placeholder": "​",
            "style": "IPY_MODEL_a792a515d2f8450e9fa1eca31a3f0288",
            "value": " 382563/382563 [21:18&lt;00:00, 435.90it/s]"
          }
        },
        "e6c95225fcb241fcb9bae3e81a76c053": {
          "model_module": "@jupyter-widgets/base",
          "model_name": "LayoutModel",
          "model_module_version": "1.2.0",
          "state": {
            "_model_module": "@jupyter-widgets/base",
            "_model_module_version": "1.2.0",
            "_model_name": "LayoutModel",
            "_view_count": null,
            "_view_module": "@jupyter-widgets/base",
            "_view_module_version": "1.2.0",
            "_view_name": "LayoutView",
            "align_content": null,
            "align_items": null,
            "align_self": null,
            "border": null,
            "bottom": null,
            "display": null,
            "flex": null,
            "flex_flow": null,
            "grid_area": null,
            "grid_auto_columns": null,
            "grid_auto_flow": null,
            "grid_auto_rows": null,
            "grid_column": null,
            "grid_gap": null,
            "grid_row": null,
            "grid_template_areas": null,
            "grid_template_columns": null,
            "grid_template_rows": null,
            "height": null,
            "justify_content": null,
            "justify_items": null,
            "left": null,
            "margin": null,
            "max_height": null,
            "max_width": null,
            "min_height": null,
            "min_width": null,
            "object_fit": null,
            "object_position": null,
            "order": null,
            "overflow": null,
            "overflow_x": null,
            "overflow_y": null,
            "padding": null,
            "right": null,
            "top": null,
            "visibility": null,
            "width": null
          }
        },
        "517bba2476b4450b9ee2b6edcc1ca66a": {
          "model_module": "@jupyter-widgets/base",
          "model_name": "LayoutModel",
          "model_module_version": "1.2.0",
          "state": {
            "_model_module": "@jupyter-widgets/base",
            "_model_module_version": "1.2.0",
            "_model_name": "LayoutModel",
            "_view_count": null,
            "_view_module": "@jupyter-widgets/base",
            "_view_module_version": "1.2.0",
            "_view_name": "LayoutView",
            "align_content": null,
            "align_items": null,
            "align_self": null,
            "border": null,
            "bottom": null,
            "display": null,
            "flex": null,
            "flex_flow": null,
            "grid_area": null,
            "grid_auto_columns": null,
            "grid_auto_flow": null,
            "grid_auto_rows": null,
            "grid_column": null,
            "grid_gap": null,
            "grid_row": null,
            "grid_template_areas": null,
            "grid_template_columns": null,
            "grid_template_rows": null,
            "height": null,
            "justify_content": null,
            "justify_items": null,
            "left": null,
            "margin": null,
            "max_height": null,
            "max_width": null,
            "min_height": null,
            "min_width": null,
            "object_fit": null,
            "object_position": null,
            "order": null,
            "overflow": null,
            "overflow_x": null,
            "overflow_y": null,
            "padding": null,
            "right": null,
            "top": null,
            "visibility": null,
            "width": null
          }
        },
        "3d173e0c7af0405586709488a5e5e13f": {
          "model_module": "@jupyter-widgets/controls",
          "model_name": "DescriptionStyleModel",
          "model_module_version": "1.5.0",
          "state": {
            "_model_module": "@jupyter-widgets/controls",
            "_model_module_version": "1.5.0",
            "_model_name": "DescriptionStyleModel",
            "_view_count": null,
            "_view_module": "@jupyter-widgets/base",
            "_view_module_version": "1.2.0",
            "_view_name": "StyleView",
            "description_width": ""
          }
        },
        "7c46ef5890674dc08b7a29cdf9431f2f": {
          "model_module": "@jupyter-widgets/base",
          "model_name": "LayoutModel",
          "model_module_version": "1.2.0",
          "state": {
            "_model_module": "@jupyter-widgets/base",
            "_model_module_version": "1.2.0",
            "_model_name": "LayoutModel",
            "_view_count": null,
            "_view_module": "@jupyter-widgets/base",
            "_view_module_version": "1.2.0",
            "_view_name": "LayoutView",
            "align_content": null,
            "align_items": null,
            "align_self": null,
            "border": null,
            "bottom": null,
            "display": null,
            "flex": null,
            "flex_flow": null,
            "grid_area": null,
            "grid_auto_columns": null,
            "grid_auto_flow": null,
            "grid_auto_rows": null,
            "grid_column": null,
            "grid_gap": null,
            "grid_row": null,
            "grid_template_areas": null,
            "grid_template_columns": null,
            "grid_template_rows": null,
            "height": null,
            "justify_content": null,
            "justify_items": null,
            "left": null,
            "margin": null,
            "max_height": null,
            "max_width": null,
            "min_height": null,
            "min_width": null,
            "object_fit": null,
            "object_position": null,
            "order": null,
            "overflow": null,
            "overflow_x": null,
            "overflow_y": null,
            "padding": null,
            "right": null,
            "top": null,
            "visibility": null,
            "width": null
          }
        },
        "afe273de29804691a82d417f29fd2aeb": {
          "model_module": "@jupyter-widgets/controls",
          "model_name": "ProgressStyleModel",
          "model_module_version": "1.5.0",
          "state": {
            "_model_module": "@jupyter-widgets/controls",
            "_model_module_version": "1.5.0",
            "_model_name": "ProgressStyleModel",
            "_view_count": null,
            "_view_module": "@jupyter-widgets/base",
            "_view_module_version": "1.2.0",
            "_view_name": "StyleView",
            "bar_color": null,
            "description_width": ""
          }
        },
        "5817df185d184cd78dfdde32c126f7c7": {
          "model_module": "@jupyter-widgets/base",
          "model_name": "LayoutModel",
          "model_module_version": "1.2.0",
          "state": {
            "_model_module": "@jupyter-widgets/base",
            "_model_module_version": "1.2.0",
            "_model_name": "LayoutModel",
            "_view_count": null,
            "_view_module": "@jupyter-widgets/base",
            "_view_module_version": "1.2.0",
            "_view_name": "LayoutView",
            "align_content": null,
            "align_items": null,
            "align_self": null,
            "border": null,
            "bottom": null,
            "display": null,
            "flex": null,
            "flex_flow": null,
            "grid_area": null,
            "grid_auto_columns": null,
            "grid_auto_flow": null,
            "grid_auto_rows": null,
            "grid_column": null,
            "grid_gap": null,
            "grid_row": null,
            "grid_template_areas": null,
            "grid_template_columns": null,
            "grid_template_rows": null,
            "height": null,
            "justify_content": null,
            "justify_items": null,
            "left": null,
            "margin": null,
            "max_height": null,
            "max_width": null,
            "min_height": null,
            "min_width": null,
            "object_fit": null,
            "object_position": null,
            "order": null,
            "overflow": null,
            "overflow_x": null,
            "overflow_y": null,
            "padding": null,
            "right": null,
            "top": null,
            "visibility": null,
            "width": null
          }
        },
        "a792a515d2f8450e9fa1eca31a3f0288": {
          "model_module": "@jupyter-widgets/controls",
          "model_name": "DescriptionStyleModel",
          "model_module_version": "1.5.0",
          "state": {
            "_model_module": "@jupyter-widgets/controls",
            "_model_module_version": "1.5.0",
            "_model_name": "DescriptionStyleModel",
            "_view_count": null,
            "_view_module": "@jupyter-widgets/base",
            "_view_module_version": "1.2.0",
            "_view_name": "StyleView",
            "description_width": ""
          }
        },
        "1445c7159a0a438aade41e1a80114baf": {
          "model_module": "@jupyter-widgets/controls",
          "model_name": "HBoxModel",
          "model_module_version": "1.5.0",
          "state": {
            "_dom_classes": [],
            "_model_module": "@jupyter-widgets/controls",
            "_model_module_version": "1.5.0",
            "_model_name": "HBoxModel",
            "_view_count": null,
            "_view_module": "@jupyter-widgets/controls",
            "_view_module_version": "1.5.0",
            "_view_name": "HBoxView",
            "box_style": "",
            "children": [
              "IPY_MODEL_ef6e695c94b8409a896c12ec009f7a2e",
              "IPY_MODEL_878cf0230e994eca923a4c16a9b97761",
              "IPY_MODEL_a1e93ac1285a4053b5d3361465142bd2"
            ],
            "layout": "IPY_MODEL_f91c9ad4abad4d41a3b05a195d6aceca"
          }
        },
        "ef6e695c94b8409a896c12ec009f7a2e": {
          "model_module": "@jupyter-widgets/controls",
          "model_name": "HTMLModel",
          "model_module_version": "1.5.0",
          "state": {
            "_dom_classes": [],
            "_model_module": "@jupyter-widgets/controls",
            "_model_module_version": "1.5.0",
            "_model_name": "HTMLModel",
            "_view_count": null,
            "_view_module": "@jupyter-widgets/controls",
            "_view_module_version": "1.5.0",
            "_view_name": "HTMLView",
            "description": "",
            "description_tooltip": null,
            "layout": "IPY_MODEL_3acdd35bf8a446569c2be07d60fc64e3",
            "placeholder": "​",
            "style": "IPY_MODEL_a3c13c930f394689bf6628267df193ad",
            "value": "100%"
          }
        },
        "878cf0230e994eca923a4c16a9b97761": {
          "model_module": "@jupyter-widgets/controls",
          "model_name": "FloatProgressModel",
          "model_module_version": "1.5.0",
          "state": {
            "_dom_classes": [],
            "_model_module": "@jupyter-widgets/controls",
            "_model_module_version": "1.5.0",
            "_model_name": "FloatProgressModel",
            "_view_count": null,
            "_view_module": "@jupyter-widgets/controls",
            "_view_module_version": "1.5.0",
            "_view_name": "ProgressView",
            "bar_style": "success",
            "description": "",
            "description_tooltip": null,
            "layout": "IPY_MODEL_7409d7a5947b49dba19a7743faf0ef16",
            "max": 382563,
            "min": 0,
            "orientation": "horizontal",
            "style": "IPY_MODEL_d67bb77751464729849985fdfd0d1ac6",
            "value": 382563
          }
        },
        "a1e93ac1285a4053b5d3361465142bd2": {
          "model_module": "@jupyter-widgets/controls",
          "model_name": "HTMLModel",
          "model_module_version": "1.5.0",
          "state": {
            "_dom_classes": [],
            "_model_module": "@jupyter-widgets/controls",
            "_model_module_version": "1.5.0",
            "_model_name": "HTMLModel",
            "_view_count": null,
            "_view_module": "@jupyter-widgets/controls",
            "_view_module_version": "1.5.0",
            "_view_name": "HTMLView",
            "description": "",
            "description_tooltip": null,
            "layout": "IPY_MODEL_559b27813d4c4b46ab4f801644d2773a",
            "placeholder": "​",
            "style": "IPY_MODEL_c25fb412d2544a2b85c8cfb04cf8e20a",
            "value": " 382563/382563 [00:06&lt;00:00, 69757.71it/s]"
          }
        },
        "f91c9ad4abad4d41a3b05a195d6aceca": {
          "model_module": "@jupyter-widgets/base",
          "model_name": "LayoutModel",
          "model_module_version": "1.2.0",
          "state": {
            "_model_module": "@jupyter-widgets/base",
            "_model_module_version": "1.2.0",
            "_model_name": "LayoutModel",
            "_view_count": null,
            "_view_module": "@jupyter-widgets/base",
            "_view_module_version": "1.2.0",
            "_view_name": "LayoutView",
            "align_content": null,
            "align_items": null,
            "align_self": null,
            "border": null,
            "bottom": null,
            "display": null,
            "flex": null,
            "flex_flow": null,
            "grid_area": null,
            "grid_auto_columns": null,
            "grid_auto_flow": null,
            "grid_auto_rows": null,
            "grid_column": null,
            "grid_gap": null,
            "grid_row": null,
            "grid_template_areas": null,
            "grid_template_columns": null,
            "grid_template_rows": null,
            "height": null,
            "justify_content": null,
            "justify_items": null,
            "left": null,
            "margin": null,
            "max_height": null,
            "max_width": null,
            "min_height": null,
            "min_width": null,
            "object_fit": null,
            "object_position": null,
            "order": null,
            "overflow": null,
            "overflow_x": null,
            "overflow_y": null,
            "padding": null,
            "right": null,
            "top": null,
            "visibility": null,
            "width": null
          }
        },
        "3acdd35bf8a446569c2be07d60fc64e3": {
          "model_module": "@jupyter-widgets/base",
          "model_name": "LayoutModel",
          "model_module_version": "1.2.0",
          "state": {
            "_model_module": "@jupyter-widgets/base",
            "_model_module_version": "1.2.0",
            "_model_name": "LayoutModel",
            "_view_count": null,
            "_view_module": "@jupyter-widgets/base",
            "_view_module_version": "1.2.0",
            "_view_name": "LayoutView",
            "align_content": null,
            "align_items": null,
            "align_self": null,
            "border": null,
            "bottom": null,
            "display": null,
            "flex": null,
            "flex_flow": null,
            "grid_area": null,
            "grid_auto_columns": null,
            "grid_auto_flow": null,
            "grid_auto_rows": null,
            "grid_column": null,
            "grid_gap": null,
            "grid_row": null,
            "grid_template_areas": null,
            "grid_template_columns": null,
            "grid_template_rows": null,
            "height": null,
            "justify_content": null,
            "justify_items": null,
            "left": null,
            "margin": null,
            "max_height": null,
            "max_width": null,
            "min_height": null,
            "min_width": null,
            "object_fit": null,
            "object_position": null,
            "order": null,
            "overflow": null,
            "overflow_x": null,
            "overflow_y": null,
            "padding": null,
            "right": null,
            "top": null,
            "visibility": null,
            "width": null
          }
        },
        "a3c13c930f394689bf6628267df193ad": {
          "model_module": "@jupyter-widgets/controls",
          "model_name": "DescriptionStyleModel",
          "model_module_version": "1.5.0",
          "state": {
            "_model_module": "@jupyter-widgets/controls",
            "_model_module_version": "1.5.0",
            "_model_name": "DescriptionStyleModel",
            "_view_count": null,
            "_view_module": "@jupyter-widgets/base",
            "_view_module_version": "1.2.0",
            "_view_name": "StyleView",
            "description_width": ""
          }
        },
        "7409d7a5947b49dba19a7743faf0ef16": {
          "model_module": "@jupyter-widgets/base",
          "model_name": "LayoutModel",
          "model_module_version": "1.2.0",
          "state": {
            "_model_module": "@jupyter-widgets/base",
            "_model_module_version": "1.2.0",
            "_model_name": "LayoutModel",
            "_view_count": null,
            "_view_module": "@jupyter-widgets/base",
            "_view_module_version": "1.2.0",
            "_view_name": "LayoutView",
            "align_content": null,
            "align_items": null,
            "align_self": null,
            "border": null,
            "bottom": null,
            "display": null,
            "flex": null,
            "flex_flow": null,
            "grid_area": null,
            "grid_auto_columns": null,
            "grid_auto_flow": null,
            "grid_auto_rows": null,
            "grid_column": null,
            "grid_gap": null,
            "grid_row": null,
            "grid_template_areas": null,
            "grid_template_columns": null,
            "grid_template_rows": null,
            "height": null,
            "justify_content": null,
            "justify_items": null,
            "left": null,
            "margin": null,
            "max_height": null,
            "max_width": null,
            "min_height": null,
            "min_width": null,
            "object_fit": null,
            "object_position": null,
            "order": null,
            "overflow": null,
            "overflow_x": null,
            "overflow_y": null,
            "padding": null,
            "right": null,
            "top": null,
            "visibility": null,
            "width": null
          }
        },
        "d67bb77751464729849985fdfd0d1ac6": {
          "model_module": "@jupyter-widgets/controls",
          "model_name": "ProgressStyleModel",
          "model_module_version": "1.5.0",
          "state": {
            "_model_module": "@jupyter-widgets/controls",
            "_model_module_version": "1.5.0",
            "_model_name": "ProgressStyleModel",
            "_view_count": null,
            "_view_module": "@jupyter-widgets/base",
            "_view_module_version": "1.2.0",
            "_view_name": "StyleView",
            "bar_color": null,
            "description_width": ""
          }
        },
        "559b27813d4c4b46ab4f801644d2773a": {
          "model_module": "@jupyter-widgets/base",
          "model_name": "LayoutModel",
          "model_module_version": "1.2.0",
          "state": {
            "_model_module": "@jupyter-widgets/base",
            "_model_module_version": "1.2.0",
            "_model_name": "LayoutModel",
            "_view_count": null,
            "_view_module": "@jupyter-widgets/base",
            "_view_module_version": "1.2.0",
            "_view_name": "LayoutView",
            "align_content": null,
            "align_items": null,
            "align_self": null,
            "border": null,
            "bottom": null,
            "display": null,
            "flex": null,
            "flex_flow": null,
            "grid_area": null,
            "grid_auto_columns": null,
            "grid_auto_flow": null,
            "grid_auto_rows": null,
            "grid_column": null,
            "grid_gap": null,
            "grid_row": null,
            "grid_template_areas": null,
            "grid_template_columns": null,
            "grid_template_rows": null,
            "height": null,
            "justify_content": null,
            "justify_items": null,
            "left": null,
            "margin": null,
            "max_height": null,
            "max_width": null,
            "min_height": null,
            "min_width": null,
            "object_fit": null,
            "object_position": null,
            "order": null,
            "overflow": null,
            "overflow_x": null,
            "overflow_y": null,
            "padding": null,
            "right": null,
            "top": null,
            "visibility": null,
            "width": null
          }
        },
        "c25fb412d2544a2b85c8cfb04cf8e20a": {
          "model_module": "@jupyter-widgets/controls",
          "model_name": "DescriptionStyleModel",
          "model_module_version": "1.5.0",
          "state": {
            "_model_module": "@jupyter-widgets/controls",
            "_model_module_version": "1.5.0",
            "_model_name": "DescriptionStyleModel",
            "_view_count": null,
            "_view_module": "@jupyter-widgets/base",
            "_view_module_version": "1.2.0",
            "_view_name": "StyleView",
            "description_width": ""
          }
        }
      }
    }
  },
  "cells": [
    {
      "cell_type": "code",
      "execution_count": null,
      "metadata": {
        "id": "3OAHpriL5lPO"
      },
      "outputs": [],
      "source": [
        "# Text length, POS tagging, Lexical diversity (unique vocabulary), stop word frequency, Sentiments, "
      ]
    },
    {
      "cell_type": "code",
      "source": [
        "import pandas as pd\n",
        "import numpy as np\n",
        "from tqdm import tqdm\n",
        "!pip install nltk"
      ],
      "metadata": {
        "id": "iagyii9dVrwJ",
        "colab": {
          "base_uri": "https://localhost:8080/"
        },
        "outputId": "8ab1469f-f323-427e-87e1-2a238fb008e5"
      },
      "execution_count": null,
      "outputs": [
        {
          "output_type": "stream",
          "name": "stdout",
          "text": [
            "Looking in indexes: https://pypi.org/simple, https://us-python.pkg.dev/colab-wheels/public/simple/\n",
            "Requirement already satisfied: nltk in /usr/local/lib/python3.9/dist-packages (3.8.1)\n",
            "Requirement already satisfied: joblib in /usr/local/lib/python3.9/dist-packages (from nltk) (1.1.1)\n",
            "Requirement already satisfied: click in /usr/local/lib/python3.9/dist-packages (from nltk) (8.1.3)\n",
            "Requirement already satisfied: tqdm in /usr/local/lib/python3.9/dist-packages (from nltk) (4.65.0)\n",
            "Requirement already satisfied: regex>=2021.8.3 in /usr/local/lib/python3.9/dist-packages (from nltk) (2022.10.31)\n"
          ]
        }
      ]
    },
    {
      "cell_type": "code",
      "source": [
        "import nltk\n",
        "nltk.download('punkt')\n",
        "nltk.download('stopwords')\n",
        "nltk.download('averaged_perceptron_tagger')"
      ],
      "metadata": {
        "colab": {
          "base_uri": "https://localhost:8080/"
        },
        "id": "eUAq8mcyjtp5",
        "outputId": "ec803511-3199-40fc-b8df-6a82c54302b5"
      },
      "execution_count": null,
      "outputs": [
        {
          "output_type": "stream",
          "name": "stderr",
          "text": [
            "[nltk_data] Downloading package punkt to /root/nltk_data...\n",
            "[nltk_data]   Unzipping tokenizers/punkt.zip.\n",
            "[nltk_data] Downloading package stopwords to /root/nltk_data...\n",
            "[nltk_data]   Unzipping corpora/stopwords.zip.\n",
            "[nltk_data] Downloading package averaged_perceptron_tagger to\n",
            "[nltk_data]     /root/nltk_data...\n",
            "[nltk_data]   Unzipping taggers/averaged_perceptron_tagger.zip.\n"
          ]
        },
        {
          "output_type": "execute_result",
          "data": {
            "text/plain": [
              "True"
            ]
          },
          "metadata": {},
          "execution_count": 3
        }
      ]
    },
    {
      "cell_type": "code",
      "source": [
        "nltk.download('wordnet')"
      ],
      "metadata": {
        "colab": {
          "base_uri": "https://localhost:8080/"
        },
        "id": "4HC2C7Rjgj-e",
        "outputId": "2753ee1a-0ea3-44cd-e8bc-e47e61709644"
      },
      "execution_count": null,
      "outputs": [
        {
          "output_type": "stream",
          "name": "stderr",
          "text": [
            "[nltk_data] Downloading package wordnet to /root/nltk_data...\n"
          ]
        },
        {
          "output_type": "execute_result",
          "data": {
            "text/plain": [
              "True"
            ]
          },
          "metadata": {},
          "execution_count": 4
        }
      ]
    },
    {
      "cell_type": "code",
      "source": [
        "asian = pd.read_csv(\"/content/drive/MyDrive/DATA/Race/Processed/asian.csv\")\n",
        "black = pd.read_csv(\"/content/drive/MyDrive/DATA/Race/Processed/black.csv\")\n",
        "white = pd.read_csv(\"/content/drive/MyDrive/DATA/Race/Processed/white.csv\")\n",
        "native = pd.read_csv(\"/content/drive/MyDrive/DATA/Race/Processed/native.csv\")"
      ],
      "metadata": {
        "id": "9raqvqJfV5vP"
      },
      "execution_count": null,
      "outputs": []
    },
    {
      "cell_type": "code",
      "source": [
        "print(black['body'][50:70])"
      ],
      "metadata": {
        "colab": {
          "base_uri": "https://localhost:8080/"
        },
        "id": "TfuC09BnbL-8",
        "outputId": "27457a10-6d5a-4dc7-82e9-2323ea2b8cd6"
      },
      "execution_count": null,
      "outputs": [
        {
          "output_type": "stream",
          "name": "stdout",
          "text": [
            "50    At least two of his kids don’t have to worry a...\n",
            "51    No. But I had friends I a ton of time with and...\n",
            "52    Rule #1. This is a sub for the black community...\n",
            "53                                                 Yes.\n",
            "54    I voluntarily signed for myself out of high-sc...\n",
            "55    All of this. And hugs were never really a thin...\n",
            "56    Nope. Not as a kid\\n\\n\\nLater on when I was an...\n",
            "57    I’m starting to think that the majority of ppl...\n",
            "58    So basically the EWF an American organization ...\n",
            "59    Nick Canon is trying to promote animal husband...\n",
            "60                                   Great interview...\n",
            "61    So firstly, there is a distinction between con...\n",
            "62                             This! ALL of this! THIS!\n",
            "63    why? more Native Americans died, and we are no...\n",
            "64    Memphis is the 26th most dangerous city in the...\n",
            "65        I could absolutely do that! I’ll message you!\n",
            "66    &gt;but they were allowed to at least exist un...\n",
            "67    I figured... I do not live anywhere near Memph...\n",
            "68    I’d love something like this done of me! I cou...\n",
            "69    I really hope he just give some of his money t...\n",
            "Name: body, dtype: object\n"
          ]
        }
      ]
    },
    {
      "cell_type": "code",
      "source": [
        "#data = pd.read_csv(\"/content/drive/MyDrive/DATA/Race/Processed/race.csv\")"
      ],
      "metadata": {
        "id": "Aifs536MXcat"
      },
      "execution_count": null,
      "outputs": []
    },
    {
      "cell_type": "code",
      "source": [
        "#print(data.columns)\n",
        "#print(len(data))"
      ],
      "metadata": {
        "id": "Q2tmeaP_Md8D"
      },
      "execution_count": null,
      "outputs": []
    },
    {
      "cell_type": "code",
      "source": [
        "def get_total_length(df, x):\n",
        "  len = df[x].str.len().sum()\n",
        "  return len"
      ],
      "metadata": {
        "id": "DSKsguQoWBJX"
      },
      "execution_count": null,
      "outputs": []
    },
    {
      "cell_type": "code",
      "source": [
        "def get_mean(df):\n",
        "  return df['body'].str.len().mean()\n",
        "\n",
        "def get_std(df):\n",
        "  return df['body'].str.len().std()"
      ],
      "metadata": {
        "id": "XUmFDHXxZR7x"
      },
      "execution_count": null,
      "outputs": []
    },
    {
      "cell_type": "code",
      "source": [
        "len_asian = get_total_length(asian, 'body')\n",
        "len_black = get_total_length(black, 'body')\n",
        "len_white = get_total_length(white, 'body')\n",
        "len_native = get_total_length(native, 'body')"
      ],
      "metadata": {
        "id": "O1WahS1rWxop"
      },
      "execution_count": null,
      "outputs": []
    },
    {
      "cell_type": "code",
      "source": [
        "print(len_asian)\n",
        "print(len_black)\n",
        "print(len_white)\n",
        "print(len_native)"
      ],
      "metadata": {
        "id": "CQ4NzogHXJuL",
        "colab": {
          "base_uri": "https://localhost:8080/"
        },
        "outputId": "27de8468-b18c-479b-f543-3c81f148beaf"
      },
      "execution_count": null,
      "outputs": [
        {
          "output_type": "stream",
          "name": "stdout",
          "text": [
            "23774794\n",
            "41295450\n",
            "15663327\n",
            "20589033\n"
          ]
        }
      ]
    },
    {
      "cell_type": "code",
      "source": [
        "asian_mean = get_mean(asian)\n",
        "black_mean = get_mean(black)\n",
        "white_mean = get_mean(white)\n",
        "native_mean = get_mean(native)\n",
        "print(white_mean)"
      ],
      "metadata": {
        "colab": {
          "base_uri": "https://localhost:8080/"
        },
        "id": "mcT3zmO_ZeW-",
        "outputId": "70b3f537-6b74-41f7-baf5-ed05ab48f9c3"
      },
      "execution_count": null,
      "outputs": [
        {
          "output_type": "stream",
          "name": "stdout",
          "text": [
            "159.034693877551\n"
          ]
        }
      ]
    },
    {
      "cell_type": "code",
      "source": [
        "asian_std = get_std(asian)\n",
        "black_std = get_std(black)\n",
        "white_std = get_std(white)\n",
        "native_std = get_std(native)"
      ],
      "metadata": {
        "id": "c4a8sFr0aFbF"
      },
      "execution_count": null,
      "outputs": []
    },
    {
      "cell_type": "code",
      "source": [
        "asian['text_len_norm'] = (asian['body'].str.len()-asian_mean)/asian_std\n",
        "black['text_len_norm'] = (black['body'].str.len()-black_mean)/black_std\n",
        "white['text_len_norm'] = (white['body'].str.len()-white_mean)/white_std\n",
        "native['text_len_norm'] = (native['body'].str.len()-native_mean)/native_std"
      ],
      "metadata": {
        "id": "mNi3rB_iXZB0"
      },
      "execution_count": null,
      "outputs": []
    },
    {
      "cell_type": "code",
      "source": [
        "print(black['body'][3])"
      ],
      "metadata": {
        "colab": {
          "base_uri": "https://localhost:8080/"
        },
        "id": "30czkKDdX45I",
        "outputId": "39246520-e028-4439-faf0-548504d0a410"
      },
      "execution_count": null,
      "outputs": [
        {
          "output_type": "stream",
          "name": "stdout",
          "text": [
            "You’re doing what’s best for you and that’s a good thing.  If you feel you don’t need it at this time, then yes, cut it off.  I think your mom is trying to “prepare you for the future” (lol) in her own way but need to understand that you’re an adult and you have to do what you need to take care of yourself.\n"
          ]
        }
      ]
    },
    {
      "cell_type": "code",
      "source": [
        "temp = asian.append(black)\n",
        "temp1 = temp.append(white)\n",
        "data = temp1.append(native)\n",
        "\n",
        "data.reset_index(inplace=True, drop=True)"
      ],
      "metadata": {
        "id": "zWhwLKXfXc06",
        "colab": {
          "base_uri": "https://localhost:8080/"
        },
        "outputId": "53d01ec9-f1ad-44a3-9bbf-60d602ea1290"
      },
      "execution_count": null,
      "outputs": [
        {
          "output_type": "stream",
          "name": "stderr",
          "text": [
            "<ipython-input-15-d2e06a854ba8>:1: FutureWarning: The frame.append method is deprecated and will be removed from pandas in a future version. Use pandas.concat instead.\n",
            "  temp = asian.append(black)\n",
            "<ipython-input-15-d2e06a854ba8>:2: FutureWarning: The frame.append method is deprecated and will be removed from pandas in a future version. Use pandas.concat instead.\n",
            "  temp1 = temp.append(white)\n",
            "<ipython-input-15-d2e06a854ba8>:3: FutureWarning: The frame.append method is deprecated and will be removed from pandas in a future version. Use pandas.concat instead.\n",
            "  data = temp1.append(native)\n"
          ]
        }
      ]
    },
    {
      "cell_type": "code",
      "source": [
        "data['text_length'] = data['body'].str.len()"
      ],
      "metadata": {
        "id": "h1CrPb0-GUua"
      },
      "execution_count": null,
      "outputs": []
    },
    {
      "cell_type": "code",
      "source": [
        "# Average word embedding vector score\n",
        "# importing all necessary modules\n",
        "from nltk.tokenize import sent_tokenize, word_tokenize\n",
        "import warnings\n",
        " \n",
        "warnings.filterwarnings(action = 'ignore')\n",
        " \n",
        "import gensim\n",
        "from gensim.models import Word2Vec\n",
        "'''from gensim.parsing.preprocessing import STOPWORDS\n",
        "\n",
        "from gensim import corpora\n",
        "from gensim.utils import simple_preprocess'''\n",
        "\n",
        "from nltk.corpus import stopwords"
      ],
      "metadata": {
        "id": "ExNpAvqMXeQp"
      },
      "execution_count": null,
      "outputs": []
    },
    {
      "cell_type": "code",
      "source": [
        "stop_words = set(stopwords.words('english'))"
      ],
      "metadata": {
        "id": "P8iC-sk1wgbc"
      },
      "execution_count": null,
      "outputs": []
    },
    {
      "cell_type": "code",
      "source": [
        "print(stop_words)"
      ],
      "metadata": {
        "colab": {
          "base_uri": "https://localhost:8080/"
        },
        "id": "wNVpoywFGkoZ",
        "outputId": "ab281628-0081-474c-c0b0-a5b42e8cd10d"
      },
      "execution_count": null,
      "outputs": [
        {
          "output_type": "stream",
          "name": "stdout",
          "text": [
            "{'on', 'our', 'below', 'of', 'will', 'off', 'whom', \"hasn't\", 'that', 'at', 'being', 's', 'yours', 'for', 'hadn', 'they', 'didn', 'up', 'this', \"didn't\", 've', 'once', 'me', 'through', \"don't\", 'doesn', 'who', 'aren', \"weren't\", 'all', 'or', 'out', \"should've\", 'their', 'those', 'shouldn', 'which', 'your', 'herself', 'with', 'do', 'hers', 'few', 'won', 'isn', 'over', 'to', 'themselves', 't', 'just', \"shan't\", 'a', 'where', 'haven', \"isn't\", \"you're\", 'her', 'then', 'above', \"haven't\", 'any', 'had', 'each', 'between', 'but', 'itself', 'an', 'some', 'there', 'them', 'after', 'why', 'll', 'have', 'about', 'ain', 'ma', 'should', 'both', \"doesn't\", 'shan', \"hadn't\", 'you', 'because', 'needn', 'during', 'been', 'so', \"shouldn't\", 'ours', 'yourself', 'no', 'other', 'same', 'than', 'only', 'don', \"couldn't\", \"wouldn't\", 'o', \"you'll\", 'does', 'very', 'was', 'mightn', 'when', 'before', \"that'll\", 'am', 'doing', 'theirs', 'are', 'by', 'i', 'from', \"aren't\", 'm', \"wasn't\", 'into', 'further', 'is', 'what', 'if', 'myself', \"mustn't\", 'weren', 'mustn', 'how', 'these', \"mightn't\", 'having', 'him', \"needn't\", 'hasn', 'himself', 'most', 'and', 'can', 'in', 'its', \"you've\", 'has', 'nor', 'be', 'wouldn', 'd', 'down', 'here', 'again', 'couldn', \"she's\", 'not', 'own', 'my', 'were', 'did', 'such', 'y', 'too', \"won't\", 'it', 'we', 'ourselves', 'she', 'until', 'yourselves', 'his', 'as', 'against', 'the', \"you'd\", 'wasn', 'he', 'now', 're', 'under', 'more', 'while', \"it's\"}\n"
          ]
        }
      ]
    },
    {
      "cell_type": "code",
      "source": [
        "def process_text(data):\n",
        "    \n",
        "    text = []\n",
        "    for i in tqdm(range(len(data))):\n",
        "      if data[i] !=\"\":\n",
        "        # Sentence tokenization using NLTK library\n",
        "          temp = []\n",
        "\n",
        "          for word in word_tokenize(data[i]):\n",
        "             if word not in stop_words:\n",
        "              temp.append(word.lower())\n",
        "                \n",
        "\n",
        "      text.append(temp)\n",
        "\n",
        "\n",
        "      '''for i in sent_tokenize(text):\n",
        "        temp = []\n",
        "        # tokenize the sentence into words\n",
        "        for j in word_tokenize(i):\n",
        "            if j not in STOPWORDS:\n",
        "              temp.append(j.lower())\n",
        "              #temp.append(j.lower())\n",
        "              data.append(temp)'''\n",
        "    \n",
        "    return text"
      ],
      "metadata": {
        "id": "p4xPXdFjXpMM"
      },
      "execution_count": null,
      "outputs": []
    },
    {
      "cell_type": "code",
      "source": [
        "texts = data['cleaned_body'].values"
      ],
      "metadata": {
        "id": "U35dYpYnY1-N"
      },
      "execution_count": null,
      "outputs": []
    },
    {
      "cell_type": "code",
      "source": [
        "data_words = process_text(texts)"
      ],
      "metadata": {
        "id": "j-1HFhqcioEA",
        "colab": {
          "base_uri": "https://localhost:8080/"
        },
        "outputId": "bffee3d4-bf5b-468b-ddff-0c512ec3dd54"
      },
      "execution_count": null,
      "outputs": [
        {
          "output_type": "stream",
          "name": "stderr",
          "text": [
            "100%|██████████| 383166/383166 [01:57<00:00, 3262.78it/s]\n"
          ]
        }
      ]
    },
    {
      "cell_type": "code",
      "source": [
        "print(data['cleaned_body'][10])\n",
        "#print(data_words)"
      ],
      "metadata": {
        "colab": {
          "base_uri": "https://localhost:8080/"
        },
        "id": "C10qUR8DGB1y",
        "outputId": "871e2041-8f9c-4529-a262-45ca22a05d9e"
      },
      "execution_count": null,
      "outputs": [
        {
          "output_type": "stream",
          "name": "stdout",
          "text": [
            "Sothen just do what he suggested and remove the problematic comments and leave the rest of the thread  Im perplexed as to how thats a problem\n"
          ]
        }
      ]
    },
    {
      "cell_type": "code",
      "source": [
        "print(len(data_words))"
      ],
      "metadata": {
        "colab": {
          "base_uri": "https://localhost:8080/"
        },
        "id": "1La0mQ3yHbbM",
        "outputId": "90b240ab-41bf-48db-da2a-99da63ff5746"
      },
      "execution_count": null,
      "outputs": [
        {
          "output_type": "stream",
          "name": "stdout",
          "text": [
            "383166\n"
          ]
        }
      ]
    },
    {
      "cell_type": "code",
      "source": [
        "data['token_text'] = data_words"
      ],
      "metadata": {
        "id": "GhcL8DAvC7IC"
      },
      "execution_count": null,
      "outputs": []
    },
    {
      "cell_type": "code",
      "source": [
        "print(data['token_text'])"
      ],
      "metadata": {
        "colab": {
          "base_uri": "https://localhost:8080/"
        },
        "id": "rcap7G5oDHGy",
        "outputId": "dc38beaa-2b8d-4aef-8fd2-9aeb69850bda"
      },
      "execution_count": null,
      "outputs": [
        {
          "output_type": "stream",
          "name": "stdout",
          "text": [
            "0         [gt, but, retirement, privilege, often, one, b...\n",
            "1         [singaporean, authorities, wont, bother, youre...\n",
            "2                                                    [whos]\n",
            "3         [ive, called, paranoid, bringing, too, many, c...\n",
            "4                     [i, live, west, we, definitely, post]\n",
            "                                ...                        \n",
            "383161    [i, think, clearly, missing, picture, magnific...\n",
            "383162    [ignorant, european, did, enter, see, owners, ...\n",
            "383163    [as, white, metal, head, hillbilly, guy, growi...\n",
            "383164    [consultation, inquiries, frequently, asked, a...\n",
            "383165    [only, $, 15k, she, deserves, much, like, leas...\n",
            "Name: token_text, Length: 383166, dtype: object\n"
          ]
        }
      ]
    },
    {
      "cell_type": "code",
      "source": [
        "model = gensim.models.Word2Vec(data_words, min_count = 1,vector_size=100, window = 5)"
      ],
      "metadata": {
        "id": "c2hFSUwbhJQB"
      },
      "execution_count": null,
      "outputs": []
    },
    {
      "cell_type": "code",
      "source": [
        "# Count vectorization of text\n",
        "'''from sklearn.feature_extraction.text import CountVectorizer\n",
        "  \n",
        "# Creating the vectorizer\n",
        "vectorizer = CountVectorizer(stop_words='english')\n",
        " \n",
        "# Converting the text to numeric data\n",
        "X = vectorizer.fit_transform(texts)\n",
        " \n",
        "#print(vectorizer.get_feature_names())\n",
        " \n",
        "# Preparing Data frame For machine learning\n",
        "# Priority column acts as a target variable and other columns as predictors\n",
        "CountVectorizedData=pd.DataFrame(X.toarray(), columns=vectorizer.get_feature_names())\n",
        "CountVectorizedData['Race']=data['race']\n",
        "print(CountVectorizedData.shape)\n",
        "CountVectorizedData.head()'''"
      ],
      "metadata": {
        "id": "0eedkrldZEHL"
      },
      "execution_count": null,
      "outputs": []
    },
    {
      "cell_type": "code",
      "source": [
        "class MeanEmbeddingVectorizer(object):\n",
        "    def __init__(self, word2vec):\n",
        "        self.word2vec = word2vec\n",
        "        # if a text is empty we should return a vector of zeros\n",
        "        # with the same dimensionality as all the other vectors\n",
        "        self.dim = len(word2vec.wv.vectors[0])\n",
        "\n",
        "    def fit(self, X, y=None):\n",
        "        return self\n",
        "\n",
        "    def transform(self, X):\n",
        "        #X = MyTokenizer().fit_transform(X)\n",
        "        \n",
        "        return np.array([\n",
        "            np.mean([self.word2vec.wv[w] for w in words if w in self.word2vec.wv]\n",
        "                    or [np.zeros(self.dim)], axis=0)\n",
        "            for words in X\n",
        "        ])\n",
        "    \n",
        "    def fit_transform(self, X, y=None):\n",
        "        return self.transform(X)"
      ],
      "metadata": {
        "id": "V5vvSpfZHxTc"
      },
      "execution_count": null,
      "outputs": []
    },
    {
      "cell_type": "code",
      "source": [
        "mean_embedding_vectorizer = MeanEmbeddingVectorizer(model)\n",
        "mean_embedded = mean_embedding_vectorizer.fit_transform(data['token_text'])"
      ],
      "metadata": {
        "id": "tywMvE8qkeZ9"
      },
      "execution_count": null,
      "outputs": []
    },
    {
      "cell_type": "code",
      "source": [
        "x = (np.mean(mean_embedded,axis=1))\n",
        "data['mean_w2v'] = x"
      ],
      "metadata": {
        "id": "5bynKDUzmcrm"
      },
      "execution_count": null,
      "outputs": []
    },
    {
      "cell_type": "code",
      "source": [
        "print(data['mean_w2v'].describe())"
      ],
      "metadata": {
        "colab": {
          "base_uri": "https://localhost:8080/"
        },
        "id": "_kipE9-4ojiC",
        "outputId": "9ccd9414-bda1-4baa-8ea9-f9a2910b4929"
      },
      "execution_count": null,
      "outputs": [
        {
          "output_type": "stream",
          "name": "stdout",
          "text": [
            "count    383166.000000\n",
            "mean          0.022831\n",
            "std           0.108556\n",
            "min          -0.636463\n",
            "25%          -0.030935\n",
            "50%           0.026097\n",
            "75%           0.082575\n",
            "max           0.578237\n",
            "Name: mean_w2v, dtype: float64\n"
          ]
        }
      ]
    },
    {
      "cell_type": "code",
      "source": [
        "print(data.columns)"
      ],
      "metadata": {
        "colab": {
          "base_uri": "https://localhost:8080/"
        },
        "id": "FhXud64pozfi",
        "outputId": "6339e28e-98b8-4d81-fc06-a6793b858c31"
      },
      "execution_count": null,
      "outputs": [
        {
          "output_type": "stream",
          "name": "stdout",
          "text": [
            "Index(['subreddit_id', 'author', 'body', 'cleaned_body', 'race',\n",
            "       'text_len_norm', 'text_length', 'token_text', 'mean_w2v'],\n",
            "      dtype='object')\n"
          ]
        }
      ]
    },
    {
      "cell_type": "code",
      "source": [
        "#data.to_csv(\"/content/drive/MyDrive/DATA/Race/Processed/race_data.csv\",index=False)\n",
        "#data.to_csv(\"/content/drive/MyDrive/DATA/Race/Processed/New/race_data.csv\",index=False)"
      ],
      "metadata": {
        "id": "IQbQ8dLUpj8R"
      },
      "execution_count": null,
      "outputs": []
    },
    {
      "cell_type": "code",
      "source": [
        "#!pip install lexical-diversity\n",
        "!pip install lexicalrichness"
      ],
      "metadata": {
        "colab": {
          "base_uri": "https://localhost:8080/"
        },
        "id": "9DO5MQ_s6RcV",
        "outputId": "20ba6c28-614b-44d4-ebf2-7ed4b3e04cf2"
      },
      "execution_count": null,
      "outputs": [
        {
          "output_type": "stream",
          "name": "stdout",
          "text": [
            "Looking in indexes: https://pypi.org/simple, https://us-python.pkg.dev/colab-wheels/public/simple/\n",
            "Collecting lexicalrichness\n",
            "  Downloading lexicalrichness-0.5.0.tar.gz (96 kB)\n",
            "\u001b[?25l     \u001b[90m━━━━━━━━━━━━━━━━━━━━━━━━━━━━━━━━━━━━━━━━\u001b[0m \u001b[32m0.0/96.5 kB\u001b[0m \u001b[31m?\u001b[0m eta \u001b[36m-:--:--\u001b[0m\r\u001b[2K     \u001b[90m━━━━━━━━━━━━━━━━━━━━━━━━━━━━━━━━━━━━━━━━\u001b[0m \u001b[32m96.5/96.5 kB\u001b[0m \u001b[31m3.7 MB/s\u001b[0m eta \u001b[36m0:00:00\u001b[0m\n",
            "\u001b[?25h  Preparing metadata (setup.py) ... \u001b[?25l\u001b[?25hdone\n",
            "Requirement already satisfied: scipy>=1.0.0 in /usr/local/lib/python3.9/dist-packages (from lexicalrichness) (1.10.1)\n",
            "Requirement already satisfied: textblob>=0.15.3 in /usr/local/lib/python3.9/dist-packages (from lexicalrichness) (0.17.1)\n",
            "Requirement already satisfied: pandas in /usr/local/lib/python3.9/dist-packages (from lexicalrichness) (1.4.4)\n",
            "Requirement already satisfied: matplotlib in /usr/local/lib/python3.9/dist-packages (from lexicalrichness) (3.7.1)\n",
            "Requirement already satisfied: numpy<1.27.0,>=1.19.5 in /usr/local/lib/python3.9/dist-packages (from scipy>=1.0.0->lexicalrichness) (1.22.4)\n",
            "Requirement already satisfied: nltk>=3.1 in /usr/local/lib/python3.9/dist-packages (from textblob>=0.15.3->lexicalrichness) (3.8.1)\n",
            "Requirement already satisfied: pyparsing>=2.3.1 in /usr/local/lib/python3.9/dist-packages (from matplotlib->lexicalrichness) (3.0.9)\n",
            "Requirement already satisfied: importlib-resources>=3.2.0 in /usr/local/lib/python3.9/dist-packages (from matplotlib->lexicalrichness) (5.12.0)\n",
            "Requirement already satisfied: pillow>=6.2.0 in /usr/local/lib/python3.9/dist-packages (from matplotlib->lexicalrichness) (8.4.0)\n",
            "Requirement already satisfied: fonttools>=4.22.0 in /usr/local/lib/python3.9/dist-packages (from matplotlib->lexicalrichness) (4.39.3)\n",
            "Requirement already satisfied: python-dateutil>=2.7 in /usr/local/lib/python3.9/dist-packages (from matplotlib->lexicalrichness) (2.8.2)\n",
            "Requirement already satisfied: contourpy>=1.0.1 in /usr/local/lib/python3.9/dist-packages (from matplotlib->lexicalrichness) (1.0.7)\n",
            "Requirement already satisfied: packaging>=20.0 in /usr/local/lib/python3.9/dist-packages (from matplotlib->lexicalrichness) (23.0)\n",
            "Requirement already satisfied: cycler>=0.10 in /usr/local/lib/python3.9/dist-packages (from matplotlib->lexicalrichness) (0.11.0)\n",
            "Requirement already satisfied: kiwisolver>=1.0.1 in /usr/local/lib/python3.9/dist-packages (from matplotlib->lexicalrichness) (1.4.4)\n",
            "Requirement already satisfied: pytz>=2020.1 in /usr/local/lib/python3.9/dist-packages (from pandas->lexicalrichness) (2022.7.1)\n",
            "Requirement already satisfied: zipp>=3.1.0 in /usr/local/lib/python3.9/dist-packages (from importlib-resources>=3.2.0->matplotlib->lexicalrichness) (3.15.0)\n",
            "Requirement already satisfied: tqdm in /usr/local/lib/python3.9/dist-packages (from nltk>=3.1->textblob>=0.15.3->lexicalrichness) (4.65.0)\n",
            "Requirement already satisfied: regex>=2021.8.3 in /usr/local/lib/python3.9/dist-packages (from nltk>=3.1->textblob>=0.15.3->lexicalrichness) (2022.10.31)\n",
            "Requirement already satisfied: joblib in /usr/local/lib/python3.9/dist-packages (from nltk>=3.1->textblob>=0.15.3->lexicalrichness) (1.1.1)\n",
            "Requirement already satisfied: click in /usr/local/lib/python3.9/dist-packages (from nltk>=3.1->textblob>=0.15.3->lexicalrichness) (8.1.3)\n",
            "Requirement already satisfied: six>=1.5 in /usr/local/lib/python3.9/dist-packages (from python-dateutil>=2.7->matplotlib->lexicalrichness) (1.16.0)\n",
            "Building wheels for collected packages: lexicalrichness\n",
            "  Building wheel for lexicalrichness (setup.py) ... \u001b[?25l\u001b[?25hdone\n",
            "  Created wheel for lexicalrichness: filename=lexicalrichness-0.5.0-py3-none-any.whl size=15534 sha256=2a7014eaa7390afca3983d04f8319a262b3c0f19a706078fab57cd870f02ed17\n",
            "  Stored in directory: /root/.cache/pip/wheels/c7/c3/9e/b44fe0d801947034ab1a0670323cc04636361c6c17b2708066\n",
            "Successfully built lexicalrichness\n",
            "Installing collected packages: lexicalrichness\n",
            "Successfully installed lexicalrichness-0.5.0\n"
          ]
        }
      ]
    },
    {
      "cell_type": "code",
      "source": [
        "#data = pd.read_csv(\"/content/drive/MyDrive/DATA/Race/Processed/race_data.csv\")\n",
        "data = pd.read_csv(\"/content/drive/MyDrive/DATA/Race/Processed/New/race_data.csv\")"
      ],
      "metadata": {
        "id": "1xUKVHt26UUS"
      },
      "execution_count": null,
      "outputs": []
    },
    {
      "cell_type": "code",
      "source": [
        "#from lexical_diversity import lex_div as ld\n",
        "from lexicalrichness import LexicalRichness"
      ],
      "metadata": {
        "id": "Q-CPwoLW6Zi2"
      },
      "execution_count": null,
      "outputs": []
    },
    {
      "cell_type": "code",
      "source": [
        "# import these modules\n",
        "from nltk.stem import WordNetLemmatizer\n",
        "  \n",
        "lemmatizer = WordNetLemmatizer()"
      ],
      "metadata": {
        "id": "8A-KoIs7efQy"
      },
      "execution_count": null,
      "outputs": []
    },
    {
      "cell_type": "code",
      "source": [
        "'''l = []\n",
        "for i in tqdm(range(0,len(data)),desc = 'Progress'):\n",
        "  #print(x)\n",
        "  lemm_text = lemmatizer.lemmatize(data['cleaned_body'][i])\n",
        "  l.append(ld.mtld(lemm_text))'''"
      ],
      "metadata": {
        "id": "FtdQ1zCvegwA"
      },
      "execution_count": null,
      "outputs": []
    },
    {
      "cell_type": "code",
      "source": [
        "'''def lemm_process(text):\n",
        "    lemm_text = lemmatizer.lemmatize(text)\n",
        "    return lemm_text\n",
        "data['lemm_tokens'] = data['token_text'].apply(lemm_process)'''"
      ],
      "metadata": {
        "id": "EYn5HCHjqPrj"
      },
      "execution_count": null,
      "outputs": []
    },
    {
      "cell_type": "code",
      "source": [
        "data['cleaned_body'].isnull().any()"
      ],
      "metadata": {
        "colab": {
          "base_uri": "https://localhost:8080/"
        },
        "id": "3fsSbgl8rVmp",
        "outputId": "7108607d-4e85-42ac-9b9e-bd9242daf040"
      },
      "execution_count": null,
      "outputs": [
        {
          "output_type": "execute_result",
          "data": {
            "text/plain": [
              "False"
            ]
          },
          "metadata": {},
          "execution_count": 38
        }
      ]
    },
    {
      "cell_type": "code",
      "source": [
        "print(data['token_text'])"
      ],
      "metadata": {
        "colab": {
          "base_uri": "https://localhost:8080/"
        },
        "id": "z-7OK3uRrcuz",
        "outputId": "236a8407-8d58-4ee2-f959-ee904e6f3540"
      },
      "execution_count": null,
      "outputs": [
        {
          "output_type": "stream",
          "name": "stdout",
          "text": [
            "0         [gt, but, retirement, privilege, often, one, b...\n",
            "1         [singaporean, authorities, wont, bother, youre...\n",
            "2                                                    [whos]\n",
            "3         [ive, called, paranoid, bringing, too, many, c...\n",
            "4                     [i, live, west, we, definitely, post]\n",
            "                                ...                        \n",
            "383161    [i, think, clearly, missing, picture, magnific...\n",
            "383162    [ignorant, european, did, enter, see, owners, ...\n",
            "383163    [as, white, metal, head, hillbilly, guy, growi...\n",
            "383164    [consultation, inquiries, frequently, asked, a...\n",
            "383165    [only, $, 15k, she, deserves, much, like, leas...\n",
            "Name: token_text, Length: 383166, dtype: object\n"
          ]
        }
      ]
    },
    {
      "cell_type": "code",
      "source": [
        "data = data[~data['cleaned_body'].str.isnumeric()]\n",
        "data.reset_index(inplace=True, drop=True)"
      ],
      "metadata": {
        "id": "ybIi9hSJuB_3"
      },
      "execution_count": null,
      "outputs": []
    },
    {
      "cell_type": "code",
      "source": [
        "print(data['cleaned_body'])"
      ],
      "metadata": {
        "colab": {
          "base_uri": "https://localhost:8080/"
        },
        "id": "gND-VMYnuP1X",
        "outputId": "cd6cc94a-ec11-413b-ae30-ffbaed0ce883"
      },
      "execution_count": null,
      "outputs": [
        {
          "output_type": "stream",
          "name": "stdout",
          "text": [
            "0         gt But retirement is a privilege often one tha...\n",
            "1         Singaporean authorities wont bother you if you...\n",
            "2                                                 Whos they\n",
            "3         Ive been called paranoid for bringing this up ...\n",
            "4          I live in the west We definitely post about this\n",
            "                                ...                        \n",
            "382558    I think you clearly missing the picture here i...\n",
            "382559    Ignorant European here Did you enter to see if...\n",
            "382560    As a white metal head hillbilly guy growing up...\n",
            "382561    Consultation inquiries are frequently asked he...\n",
            "382562    Only $15k She deserves much more than that Lik...\n",
            "Name: cleaned_body, Length: 382563, dtype: object\n"
          ]
        }
      ]
    },
    {
      "cell_type": "code",
      "source": [
        "from tqdm import tqdm\n",
        "tqdm.pandas()\n",
        "\n",
        "def mtld(text):\n",
        "    lex = LexicalRichness(text)\n",
        "    return lex.mtld()\n",
        "\n",
        "data['ld_mtld'] = data['cleaned_body'].progress_apply(mtld)\n"
      ],
      "metadata": {
        "colab": {
          "base_uri": "https://localhost:8080/"
        },
        "id": "BK0Q82GflsL4",
        "outputId": "73f08245-6419-4788-a3dd-5ced2a650731"
      },
      "execution_count": null,
      "outputs": [
        {
          "output_type": "stream",
          "name": "stderr",
          "text": [
            "100%|██████████| 382563/382563 [00:47<00:00, 8000.60it/s] \n"
          ]
        }
      ]
    },
    {
      "cell_type": "code",
      "source": [
        "print(data['ld_mtld'])"
      ],
      "metadata": {
        "colab": {
          "base_uri": "https://localhost:8080/"
        },
        "id": "s0K9dghoxGGw",
        "outputId": "20258411-49f3-48c3-e1bd-498d6e1149b9"
      },
      "execution_count": null,
      "outputs": [
        {
          "output_type": "stream",
          "name": "stdout",
          "text": [
            "0          91.466667\n",
            "1          31.000000\n",
            "2           2.000000\n",
            "3         138.915000\n",
            "4          10.000000\n",
            "             ...    \n",
            "382558     43.904000\n",
            "382559    112.046667\n",
            "382560    235.480000\n",
            "382561    120.960000\n",
            "382562     40.320000\n",
            "Name: ld_mtld, Length: 382563, dtype: float64\n"
          ]
        }
      ]
    },
    {
      "cell_type": "code",
      "source": [
        "def maas(text):\n",
        "    try:\n",
        "      lex = LexicalRichness(text)\n",
        "      output = lex.Maas\n",
        "    except ZeroDivisionError:\n",
        "      output = \"\" \n",
        "    return output\n",
        "\n",
        "data['ld_maas'] = data['cleaned_body'].progress_apply(maas)"
      ],
      "metadata": {
        "colab": {
          "base_uri": "https://localhost:8080/"
        },
        "id": "y9q-SIQzuTqz",
        "outputId": "e1202672-3512-4321-df46-ebbeb59858ea"
      },
      "execution_count": null,
      "outputs": [
        {
          "output_type": "stream",
          "name": "stderr",
          "text": [
            "100%|██████████| 382563/382563 [00:12<00:00, 29824.61it/s]\n"
          ]
        }
      ]
    },
    {
      "cell_type": "code",
      "source": [
        "def hdd(text):\n",
        "    lex = LexicalRichness(text)\n",
        "    return lex.hdd(draws=1)\n",
        "\n",
        "data['ld_hdd'] = data['cleaned_body'].progress_apply(hdd)"
      ],
      "metadata": {
        "colab": {
          "base_uri": "https://localhost:8080/"
        },
        "id": "OUsFVEDIuh66",
        "outputId": "42936eec-87af-45d2-bb9e-5dfc96c07607"
      },
      "execution_count": null,
      "outputs": [
        {
          "output_type": "stream",
          "name": "stderr",
          "text": [
            "100%|██████████| 382563/382563 [48:39<00:00, 131.04it/s]\n"
          ]
        }
      ]
    },
    {
      "cell_type": "code",
      "source": [
        "nltk.downloader.download('vader_lexicon')\n",
        "from nltk.sentiment import SentimentIntensityAnalyzer\n",
        "senti = SentimentIntensityAnalyzer()"
      ],
      "metadata": {
        "colab": {
          "base_uri": "https://localhost:8080/"
        },
        "id": "pqvivdnpgPDj",
        "outputId": "61c06aec-a4b1-4c34-b416-46841e003190"
      },
      "execution_count": null,
      "outputs": [
        {
          "output_type": "stream",
          "name": "stderr",
          "text": [
            "[nltk_data] Downloading package vader_lexicon to /root/nltk_data...\n"
          ]
        }
      ]
    },
    {
      "cell_type": "code",
      "source": [
        "text_sent = []\n",
        "for i in tqdm(range(0,len(data)),desc = 'Progress'):\n",
        "  text_sent.append(senti.polarity_scores(data['cleaned_body'][i]))"
      ],
      "metadata": {
        "colab": {
          "base_uri": "https://localhost:8080/"
        },
        "id": "hWSqsEvfhavU",
        "outputId": "4b71137e-0c90-4f4f-871b-99e335f1dacd"
      },
      "execution_count": null,
      "outputs": [
        {
          "output_type": "stream",
          "name": "stderr",
          "text": [
            "Progress: 100%|██████████| 382563/382563 [04:30<00:00, 1416.64it/s]\n"
          ]
        }
      ]
    },
    {
      "cell_type": "code",
      "source": [
        "print(text_sent[:5])"
      ],
      "metadata": {
        "colab": {
          "base_uri": "https://localhost:8080/"
        },
        "id": "dUORvPsfjI5o",
        "outputId": "ad9e903e-6d46-4995-8403-fd83e5911d71"
      },
      "execution_count": null,
      "outputs": [
        {
          "output_type": "stream",
          "name": "stdout",
          "text": [
            "[{'neg': 0.055, 'neu': 0.717, 'pos': 0.228, 'compound': 0.9325}, {'neg': 0.179, 'neu': 0.699, 'pos': 0.123, 'compound': -0.4874}, {'neg': 0.0, 'neu': 1.0, 'pos': 0.0, 'compound': 0.0}, {'neg': 0.117, 'neu': 0.825, 'pos': 0.058, 'compound': -0.4767}, {'neg': 0.0, 'neu': 0.748, 'pos': 0.252, 'compound': 0.4019}]\n"
          ]
        }
      ]
    },
    {
      "cell_type": "code",
      "source": [
        "data['sentiment_scores'] = text_sent"
      ],
      "metadata": {
        "id": "y4_8nLzegPM8"
      },
      "execution_count": null,
      "outputs": []
    },
    {
      "cell_type": "code",
      "source": [
        "#data.to_csv(\"/content/drive/MyDrive/DATA/Race/Processed/New/race_data.csv\",index=False)"
      ],
      "metadata": {
        "id": "Fe-8pZBUMQHx"
      },
      "execution_count": null,
      "outputs": []
    },
    {
      "cell_type": "code",
      "source": [
        "print(data.columns)"
      ],
      "metadata": {
        "id": "bW4vvS5_lh2s"
      },
      "execution_count": null,
      "outputs": []
    },
    {
      "cell_type": "code",
      "source": [
        "from nltk.stem import PorterStemmer\n",
        "from sklearn.feature_extraction.text import TfidfVectorizer\n",
        "import re"
      ],
      "metadata": {
        "id": "TCHVDCkolqPh"
      },
      "execution_count": null,
      "outputs": []
    },
    {
      "cell_type": "code",
      "source": [
        "#!zip -r /content/drive/MyDrive/DATA/Race/Processed/New/race_data.zip /content/drive/MyDrive/DATA/Race/Processed/New/race_data.csv"
      ],
      "metadata": {
        "id": "r7rdWMledo8j"
      },
      "execution_count": null,
      "outputs": []
    },
    {
      "cell_type": "code",
      "source": [
        "#data = pd.read_csv(\"/content/drive/MyDrive/DATA/Race/Processed/New/race_data.csv\")"
      ],
      "metadata": {
        "id": "oPdyt4lA0sYw"
      },
      "execution_count": null,
      "outputs": []
    },
    {
      "cell_type": "code",
      "source": [
        "# Natural Language Toolkit: Tokenizers\n",
        "#\n",
        "# Copyright (C) 2001-2020 NLTK Project\n",
        "# Author: Christopher Hench <chris.l.hench@gmail.com>\n",
        "#         Alex Estes\n",
        "# URL: <http://nltk.sourceforge.net>\n",
        "# For license information, see LICENSE.TXT\n",
        "\n",
        "\"\"\"\n",
        "The Sonority Sequencing Principle (SSP) is a language agnostic algorithm proposed\n",
        "by Otto Jesperson in 1904. The sonorous quality of a phoneme is judged by the\n",
        "openness of the lips. Syllable breaks occur before troughs in sonority. For more\n",
        "on the SSP see Selkirk (1984).\n",
        "\n",
        "The default implementation uses the English alphabet, but the `sonority_hiearchy`\n",
        "can be modified to IPA or any other alphabet for the use-case. The SSP is a\n",
        "universal syllabification algorithm, but that does not mean it performs equally\n",
        "across languages. Bartlett et al. (2009) is a good benchmark for English accuracy\n",
        "if utilizing IPA (pg. 311).\n",
        "\n",
        "Importantly, if a custom hiearchy is supplied and vowels span across more than\n",
        "one level, they should be given separately to the `vowels` class attribute.\n",
        "\n",
        "References:\n",
        "- Otto Jespersen. 1904. Lehrbuch der Phonetik.\n",
        "  Leipzig, Teubner. Chapter 13, Silbe, pp. 185-203.\n",
        "- Elisabeth Selkirk. 1984. On the major class features and syllable theory.\n",
        "  In Aronoff & Oehrle (eds.) Language Sound Structure: Studies in Phonology.\n",
        "  Cambridge, MIT Press. pp. 107-136.\n",
        "- Susan Bartlett, et al. 2009. On the Syllabification of Phonemes.\n",
        "  In HLT-NAACL. pp. 308-316.\n",
        "\"\"\"\n",
        "\n",
        "import warnings\n",
        "\n",
        "import re\n",
        "from string import punctuation\n",
        "\n",
        "from nltk.tokenize.api import TokenizerI\n",
        "from nltk.util import ngrams\n",
        "\n",
        "\n",
        "class SyllableTokenizer(TokenizerI):\n",
        "    \"\"\"\n",
        "    Syllabifies words based on the Sonority Sequencing Principle (SSP).\n",
        "\n",
        "        >>> from nltk.tokenize import SyllableTokenizer\n",
        "        >>> from nltk import word_tokenize\n",
        "        >>> SSP = SyllableTokenizer()\n",
        "        >>> SSP.tokenize('justification')\n",
        "        ['jus', 'ti', 'fi', 'ca', 'tion']\n",
        "        >>> text = \"This is a foobar-like sentence.\"\n",
        "        >>> [SSP.tokenize(token) for token in word_tokenize(text)]\n",
        "        [['This'], ['is'], ['a'], ['foo', 'bar', '-', 'li', 'ke'], ['sen', 'ten', 'ce'], ['.']]\n",
        "    \"\"\"\n",
        "\n",
        "    def __init__(self, lang=\"en\", sonority_hierarchy=False):\n",
        "        \"\"\"\n",
        "        :param lang: Language parameter, default is English, 'en'\n",
        "        :type lang: str\n",
        "        :param sonority_hierarchy: Sonority hierarchy according to the\n",
        "                                   Sonority Sequencing Principle.\n",
        "        :type sonority_hierarchy: list(str)\n",
        "        \"\"\"\n",
        "        # Sonority hierarchy should be provided in descending order.\n",
        "        # If vowels are spread across multiple levels, they should be\n",
        "        # passed assigned self.vowels var together, otherwise should be\n",
        "        # placed in first index of hierarchy.\n",
        "        if not sonority_hierarchy and lang == \"en\":\n",
        "            sonority_hierarchy = [\n",
        "                \"aeiouy\",  # vowels.\n",
        "                \"lmnrw\",  # nasals.\n",
        "                \"zvsf\",  # fricatives.\n",
        "                \"bcdgtkpqxhj\",  # stops.\n",
        "            ]\n",
        "\n",
        "        self.vowels = sonority_hierarchy[0]\n",
        "        self.phoneme_map = {}\n",
        "        for i, level in enumerate(sonority_hierarchy):\n",
        "            for c in level:\n",
        "                sonority_level = len(sonority_hierarchy) - i\n",
        "                self.phoneme_map[c] = sonority_level\n",
        "                self.phoneme_map[c.upper()] = sonority_level\n",
        "\n",
        "    def assign_values(self, token):\n",
        "        \"\"\"\n",
        "        Assigns each phoneme its value from the sonority hierarchy.\n",
        "        Note: Sentence/text has to be tokenized first.\n",
        "\n",
        "        :param token: Single word or token\n",
        "        :type token: str\n",
        "        :return: List of tuples, first element is character/phoneme and\n",
        "                 second is the soronity value.\n",
        "        :rtype: list(tuple(str, int))\n",
        "        \"\"\"\n",
        "        syllables_values = []\n",
        "        for c in token:\n",
        "            try:\n",
        "                syllables_values.append((c, self.phoneme_map[c]))\n",
        "            except KeyError:\n",
        "                if c not in punctuation:\n",
        "                    warnings.warn(\n",
        "                        \"Character not defined in sonority_hierarchy,\"\n",
        "                        \" assigning as vowel: '{}'\".format(c)\n",
        "                    )\n",
        "                    syllables_values.append((c, max(self.phoneme_map.values())))\n",
        "                    self.vowels += c\n",
        "                else:  # If it's a punctuation, assing -1.\n",
        "                    syllables_values.append((c, -1))\n",
        "        return syllables_values\n",
        "\n",
        "\n",
        "    def validate_syllables(self, syllable_list):\n",
        "        \"\"\"\n",
        "        Ensures each syllable has at least one vowel.\n",
        "        If the following syllable doesn't have vowel, add it to the current one.\n",
        "\n",
        "        :param syllable_list: Single word or token broken up into syllables.\n",
        "        :type syllable_list: list(str)\n",
        "        :return: Single word or token broken up into syllables\n",
        "                 (with added syllables if necessary)\n",
        "        :rtype: list(str)\n",
        "        \"\"\"\n",
        "        valid_syllables = []\n",
        "        front = \"\"\n",
        "        for i, syllable in enumerate(syllable_list):\n",
        "            if syllable in punctuation:\n",
        "                valid_syllables.append(syllable)\n",
        "                continue\n",
        "            if not re.search(\"|\".join(self.vowels), syllable):\n",
        "                if len(valid_syllables) == 0:\n",
        "                    front += syllable\n",
        "                else:\n",
        "                    valid_syllables = valid_syllables[:-1] + [\n",
        "                        valid_syllables[-1] + syllable\n",
        "                    ]\n",
        "            else:\n",
        "                if len(valid_syllables) == 0:\n",
        "                    valid_syllables.append(front + syllable)\n",
        "                else:\n",
        "                    valid_syllables.append(syllable)\n",
        "\n",
        "        return valid_syllables\n",
        "\n",
        "\n",
        "    def tokenize(self, token):\n",
        "        \"\"\"\n",
        "        Apply the SSP to return a list of syllables.\n",
        "        Note: Sentence/text has to be tokenized first.\n",
        "\n",
        "        :param token: Single word or token\n",
        "        :type token: str\n",
        "        :return syllable_list: Single word or token broken up into syllables.\n",
        "        :rtype: list(str)\n",
        "        \"\"\"\n",
        "        # assign values from hierarchy\n",
        "        syllables_values = self.assign_values(token)\n",
        "\n",
        "        # if only one vowel return word\n",
        "        if sum(token.count(x) for x in self.vowels) <= 1:\n",
        "            return [token]\n",
        "\n",
        "        syllable_list = []\n",
        "        syllable = syllables_values[0][0]  # start syllable with first phoneme\n",
        "        for trigram in ngrams(syllables_values, n=3):\n",
        "            phonemes, values = zip(*trigram)\n",
        "            # Sonority of previous, focal and following phoneme\n",
        "            prev_value, focal_value, next_value = values\n",
        "            # Focal phoneme.\n",
        "            focal_phoneme = phonemes[1]\n",
        "\n",
        "            # These cases trigger syllable break.\n",
        "            if focal_value == -1:  # If it's a punctuation, just break.\n",
        "                syllable_list.append(syllable)\n",
        "                syllable_list.append(focal_phoneme)\n",
        "                syllable = \"\"\n",
        "            elif prev_value >= focal_value == next_value:\n",
        "                syllable += focal_phoneme\n",
        "                syllable_list.append(syllable)\n",
        "                syllable = \"\"\n",
        "\n",
        "            elif prev_value > focal_value < next_value:\n",
        "                syllable_list.append(syllable)\n",
        "                syllable = \"\"\n",
        "                syllable += focal_phoneme\n",
        "\n",
        "            # no syllable break\n",
        "            else:\n",
        "                syllable += focal_phoneme\n",
        "\n",
        "        syllable += syllables_values[-1][0]  # append last phoneme\n",
        "        syllable_list.append(syllable)\n",
        "\n",
        "        return self.validate_syllables(syllable_list)"
      ],
      "metadata": {
        "id": "VhYTIrDElyTC"
      },
      "execution_count": null,
      "outputs": []
    },
    {
      "cell_type": "code",
      "source": [
        "!pip install cmudict"
      ],
      "metadata": {
        "colab": {
          "base_uri": "https://localhost:8080/"
        },
        "id": "8qWoUrV5l5Su",
        "outputId": "45bb3841-e664-4b42-d612-66993b9c5382"
      },
      "execution_count": null,
      "outputs": [
        {
          "output_type": "stream",
          "name": "stdout",
          "text": [
            "Looking in indexes: https://pypi.org/simple, https://us-python.pkg.dev/colab-wheels/public/simple/\n",
            "Collecting cmudict\n",
            "  Downloading cmudict-1.0.13-py3-none-any.whl (939 kB)\n",
            "\u001b[2K     \u001b[90m━━━━━━━━━━━━━━━━━━━━━━━━━━━━━━━━━━━━━━\u001b[0m \u001b[32m939.3/939.3 kB\u001b[0m \u001b[31m14.2 MB/s\u001b[0m eta \u001b[36m0:00:00\u001b[0m\n",
            "\u001b[?25hCollecting importlib-metadata<6.0.0,>=5.1.0\n",
            "  Downloading importlib_metadata-5.2.0-py3-none-any.whl (21 kB)\n",
            "Requirement already satisfied: importlib-resources<6.0.0,>=5.10.1 in /usr/local/lib/python3.9/dist-packages (from cmudict) (5.12.0)\n",
            "Requirement already satisfied: zipp>=0.5 in /usr/local/lib/python3.9/dist-packages (from importlib-metadata<6.0.0,>=5.1.0->cmudict) (3.15.0)\n",
            "Installing collected packages: importlib-metadata, cmudict\n",
            "  Attempting uninstall: importlib-metadata\n",
            "    Found existing installation: importlib-metadata 6.1.0\n",
            "    Uninstalling importlib-metadata-6.1.0:\n",
            "      Successfully uninstalled importlib-metadata-6.1.0\n",
            "Successfully installed cmudict-1.0.13 importlib-metadata-5.2.0\n"
          ]
        }
      ]
    },
    {
      "cell_type": "code",
      "source": [
        "import cmudict\n",
        "d = cmudict.dict()\n",
        "syl = []\n",
        "\n",
        "def nsyl(word):\n",
        "    try:\n",
        "        return [len(list(y for y in x if y[-1].isdigit())) for x in d[word.lower()]][0]\n",
        "    except:\n",
        "        st = SyllableTokenizer()\n",
        "        return len(st.tokenize(word))\n",
        "\n",
        "def syl_count(i):\n",
        "  tokens = data['token_text'][i]\n",
        "  syl_tokens = [nsyl(t) for t in tokens]\n",
        "  syl_count_token = sum(syl_tokens)\n",
        "  return sum(syl_tokens)\n",
        "\n",
        "for i in tqdm(range(len(data['cleaned_body'])), desc='Progress'):\n",
        "    syl.append(syl_count(i))"
      ],
      "metadata": {
        "colab": {
          "base_uri": "https://localhost:8080/"
        },
        "id": "QvgcONZ3lzQi",
        "outputId": "de40eb32-50f5-4b3d-84c8-7ef63ebb074d"
      },
      "execution_count": null,
      "outputs": [
        {
          "output_type": "stream",
          "name": "stderr",
          "text": [
            "Progress: 100%|██████████| 382563/382563 [01:18<00:00, 4860.34it/s]\n"
          ]
        }
      ]
    },
    {
      "cell_type": "code",
      "source": [
        "data['syllable_count'] = syl"
      ],
      "metadata": {
        "id": "4hEAI6pHnKOw"
      },
      "execution_count": null,
      "outputs": []
    },
    {
      "cell_type": "code",
      "source": [
        "diff_words = []\n",
        "def tokens_no_nums(txt):\n",
        "  txt = re.sub('\\d', '', txt)\n",
        "  tokens = nltk.word_tokenize(txt)\n",
        "  words = [word for word in tokens if word.isalpha()]\n",
        "  return words\n",
        "\n",
        "def token_count(txt):\n",
        "  return len(tokens_no_nums(txt))\n",
        "\n",
        "def more_2_syl(txt):\n",
        "  count = 0\n",
        "  tokens = tokens_no_nums(txt)\n",
        "  syl_tokens = [nsyl(t) for t in tokens]\n",
        "  for s in syl_tokens:\n",
        "    if s > 2:\n",
        "      count += 1\n",
        "  return count\n",
        "\n",
        "def per_more_2_syl(txt):\n",
        "  if token_count(txt) != 0:\n",
        "    return 100*more_2_syl(txt)/token_count(txt)\n",
        "  else:\n",
        "    return \"\"\n",
        "\n",
        "for i in tqdm(range(0, len(data)), desc='Progress'):\n",
        "  \n",
        "  diff_words.append(per_more_2_syl(data['cleaned_body'][i]))"
      ],
      "metadata": {
        "colab": {
          "base_uri": "https://localhost:8080/"
        },
        "id": "bxkc4D2euQha",
        "outputId": "f56cbd28-9730-43ae-81b9-f183c50b760b"
      },
      "execution_count": null,
      "outputs": [
        {
          "output_type": "stream",
          "name": "stderr",
          "text": [
            "Progress: 100%|██████████| 382563/382563 [07:03<00:00, 902.91it/s]\n"
          ]
        }
      ]
    },
    {
      "cell_type": "code",
      "source": [
        "print(token_count(data['body'][187500]))"
      ],
      "metadata": {
        "colab": {
          "base_uri": "https://localhost:8080/"
        },
        "id": "-felv98WPiFA",
        "outputId": "18a8b0b0-ec13-4915-a3cc-543657481023"
      },
      "execution_count": null,
      "outputs": [
        {
          "output_type": "stream",
          "name": "stdout",
          "text": [
            "137\n"
          ]
        }
      ]
    },
    {
      "cell_type": "code",
      "source": [
        "print(data['body'][353])"
      ],
      "metadata": {
        "colab": {
          "base_uri": "https://localhost:8080/"
        },
        "id": "LxxcSehNyMnf",
        "outputId": "7b30c2cf-9e0a-47c2-8b55-016be78b0bb9"
      },
      "execution_count": null,
      "outputs": [
        {
          "output_type": "stream",
          "name": "stdout",
          "text": [
            "I find that cracks and crumbs are fine as long as you spread them over vanilla ice cream!\n"
          ]
        }
      ]
    },
    {
      "cell_type": "code",
      "source": [
        "print(data['body'][187603])\n",
        "print(data['token_text'][187603])"
      ],
      "metadata": {
        "colab": {
          "base_uri": "https://localhost:8080/"
        },
        "id": "SlX4Og3Jv0FL",
        "outputId": "5a3a91c0-535b-4e5a-b047-812aadec407c"
      },
      "execution_count": null,
      "outputs": [
        {
          "output_type": "stream",
          "name": "stdout",
          "text": [
            "Because they're too scared to challenge racism.\n",
            "['because', 'theyre', 'scared', 'challenge', 'racism']\n"
          ]
        }
      ]
    },
    {
      "cell_type": "code",
      "source": [
        "data['percent_diff_words'] = diff_words"
      ],
      "metadata": {
        "id": "l_65VPLpvDkQ"
      },
      "execution_count": null,
      "outputs": []
    },
    {
      "cell_type": "code",
      "source": [
        "print(data['token_text'][0])\n",
        "y = data['token_text'][0]\n",
        "x = nltk.pos_tag(['gt', 'but', 'retirement', 'privilege', 'often'])\n",
        "print(x)"
      ],
      "metadata": {
        "id": "Jq4aUiD0-fUZ",
        "colab": {
          "base_uri": "https://localhost:8080/"
        },
        "outputId": "a39dff96-6fca-453c-b3eb-c9a970c04024"
      },
      "execution_count": null,
      "outputs": [
        {
          "output_type": "stream",
          "name": "stdout",
          "text": [
            "['gt', 'but', 'retirement', 'privilege', 'often', 'one', 'bypasses', 'asian', 'workers', 'home', 'abroad', 'if', 'stay', 'america', 'connected', 'working', 'america', 'even', 'retirement', 'where', 'home', 'what', 'worth', 'im', 'glad', 'author', 'highlighted', 'observation', 'goes', 'hand', 'hand', 'asians', 'new', 'yorks', 'poorest', 'minority', 'group', 'rarely', 'gets', 'mentioned', 'outside', 'asian', 'american', 'spaces']\n",
            "[('gt', 'NN'), ('but', 'CC'), ('retirement', 'NN'), ('privilege', 'NN'), ('often', 'RB')]\n"
          ]
        }
      ]
    },
    {
      "cell_type": "code",
      "source": [
        "from collections import Counter\n",
        "from tqdm.notebook import tqdm\n",
        "tqdm.pandas()\n",
        "\n",
        "#data['token'] = data.apply(lambda row: nltk.word_tokenize(row['STORY']), axis=1)\n",
        "data['pos_tags'] = data.progress_apply(lambda row: nltk.pos_tag(nltk.word_tokenize(row['cleaned_body'])), axis=1)\n",
        "\n",
        "\n",
        "tag_count_data = pd.DataFrame(data['pos_tags'].map(lambda x: Counter(tag[1] for tag in x)).to_list())\n",
        "\n",
        "pd.concat([data, tag_count_data], axis=1).fillna(0).drop(['pos_tags'], axis=1)"
      ],
      "metadata": {
        "colab": {
          "base_uri": "https://localhost:8080/",
          "height": 986,
          "referenced_widgets": [
            "eafb5d6d3f2e4bed970e9bad45ad94be",
            "09503bff088c40dda14d9c561cd0b2e0",
            "7a07eee9af964935a1a419e9e3eaebd8",
            "c3711fdca7864cc0ae2f5ff9c3880864",
            "e6c95225fcb241fcb9bae3e81a76c053",
            "517bba2476b4450b9ee2b6edcc1ca66a",
            "3d173e0c7af0405586709488a5e5e13f",
            "7c46ef5890674dc08b7a29cdf9431f2f",
            "afe273de29804691a82d417f29fd2aeb",
            "5817df185d184cd78dfdde32c126f7c7",
            "a792a515d2f8450e9fa1eca31a3f0288"
          ]
        },
        "id": "ifyPHLOz-f2T",
        "outputId": "e04e2cd9-ba6d-46ba-dfd0-3b49fed428dc"
      },
      "execution_count": null,
      "outputs": [
        {
          "output_type": "display_data",
          "data": {
            "text/plain": [
              "  0%|          | 0/382563 [00:00<?, ?it/s]"
            ],
            "application/vnd.jupyter.widget-view+json": {
              "version_major": 2,
              "version_minor": 0,
              "model_id": "eafb5d6d3f2e4bed970e9bad45ad94be"
            }
          },
          "metadata": {}
        },
        {
          "output_type": "execute_result",
          "data": {
            "text/plain": [
              "       subreddit_id              author  \\\n",
              "0          t5_2rfyw      rightascensi0n   \n",
              "1          t5_2rfyw             8-Red-8   \n",
              "2          t5_2rfyw           Jamesv967   \n",
              "3          t5_2rfyw             8-Red-8   \n",
              "4          t5_2rfyw    tomatocultivater   \n",
              "...             ...                 ...   \n",
              "382558     t5_2qr1c  MercilessNDNSavage   \n",
              "382559     t5_2qr1c           viktorbir   \n",
              "382560     t5_2qr1c             dogpuck   \n",
              "382561     t5_2qr1c       AutoModerator   \n",
              "382562     t5_2qr1c        Picachu50000   \n",
              "\n",
              "                                                     body  \\\n",
              "0       &gt; But retirement is a privilege, often one ...   \n",
              "1       Singaporean authorities won’t bother you if yo...   \n",
              "2                                           Who’s ”they”?   \n",
              "3       I’ve been called paranoid for bringing this up...   \n",
              "4       I live in the west. We definitely post about this   \n",
              "...                                                   ...   \n",
              "382558  I think you clearly missing the picture here i...   \n",
              "382559  Ignorant European here. Did you enter to see i...   \n",
              "382560  As a white, metal head, hillbilly guy growing ...   \n",
              "382561  Consultation inquiries are frequently asked he...   \n",
              "382562  Only $15k? She deserves much more than that. L...   \n",
              "\n",
              "                                             cleaned_body             race  \\\n",
              "0       gt But retirement is a privilege often one tha...            Asian   \n",
              "1       Singaporean authorities wont bother you if you...            Asian   \n",
              "2                                               Whos they            Asian   \n",
              "3       Ive been called paranoid for bringing this up ...            Asian   \n",
              "4        I live in the west We definitely post about this            Asian   \n",
              "...                                                   ...              ...   \n",
              "382558  I think you clearly missing the picture here i...  Native American   \n",
              "382559  Ignorant European here Did you enter to see if...  Native American   \n",
              "382560  As a white metal head hillbilly guy growing up...  Native American   \n",
              "382561  Consultation inquiries are frequently asked he...  Native American   \n",
              "382562  Only $15k She deserves much more than that Lik...  Native American   \n",
              "\n",
              "        text_len_norm  text_length  \\\n",
              "0            0.489381          410   \n",
              "1           -0.216739          186   \n",
              "2           -0.762091           13   \n",
              "3            0.426334          390   \n",
              "4           -0.648607           49   \n",
              "...               ...          ...   \n",
              "382558      -0.104786          164   \n",
              "382559       0.134972          273   \n",
              "382560       0.038189          229   \n",
              "382561       1.052210          690   \n",
              "382562      -0.326947           63   \n",
              "\n",
              "                                               token_text  mean_w2v  \\\n",
              "0       [gt, but, retirement, privilege, often, one, b...  0.005923   \n",
              "1       [singaporean, authorities, wont, bother, youre...  0.061056   \n",
              "2                                                  [whos] -0.231994   \n",
              "3       [ive, called, paranoid, bringing, too, many, c...  0.098805   \n",
              "4                   [i, live, west, we, definitely, post]  0.102858   \n",
              "...                                                   ...       ...   \n",
              "382558  [i, think, clearly, missing, picture, magnific...  0.000205   \n",
              "382559  [ignorant, european, did, enter, see, owners, ... -0.039741   \n",
              "382560  [as, white, metal, head, hillbilly, guy, growi...  0.039579   \n",
              "382561  [consultation, inquiries, frequently, asked, a...  0.035900   \n",
              "382562  [only, $, 15k, she, deserves, much, like, leas...  0.096160   \n",
              "\n",
              "           ld_mtld  ...   RP  RBR   EX   FW  RBS  PDT   UH    $  WP$   LS  \n",
              "0        91.466667  ...  0.0  0.0  0.0  0.0  0.0  0.0  0.0  0.0  0.0  0.0  \n",
              "1        31.000000  ...  0.0  0.0  0.0  0.0  0.0  0.0  0.0  0.0  0.0  0.0  \n",
              "2         2.000000  ...  0.0  0.0  0.0  0.0  0.0  0.0  0.0  0.0  0.0  0.0  \n",
              "3       138.915000  ...  0.0  0.0  0.0  0.0  0.0  0.0  0.0  0.0  0.0  0.0  \n",
              "4        10.000000  ...  0.0  0.0  0.0  0.0  0.0  0.0  0.0  0.0  0.0  0.0  \n",
              "...            ...  ...  ...  ...  ...  ...  ...  ...  ...  ...  ...  ...  \n",
              "382558   43.904000  ...  0.0  0.0  0.0  0.0  0.0  0.0  0.0  0.0  0.0  0.0  \n",
              "382559  112.046667  ...  0.0  0.0  1.0  0.0  0.0  0.0  0.0  0.0  0.0  0.0  \n",
              "382560  235.480000  ...  1.0  0.0  0.0  0.0  0.0  0.0  0.0  0.0  0.0  0.0  \n",
              "382561  120.960000  ...  0.0  0.0  0.0  1.0  0.0  0.0  0.0  0.0  0.0  0.0  \n",
              "382562   40.320000  ...  0.0  0.0  0.0  0.0  0.0  0.0  0.0  1.0  0.0  0.0  \n",
              "\n",
              "[382563 rows x 50 columns]"
            ],
            "text/html": [
              "\n",
              "  <div id=\"df-ff2808d4-f27a-428c-a94a-6396a1b2484c\">\n",
              "    <div class=\"colab-df-container\">\n",
              "      <div>\n",
              "<style scoped>\n",
              "    .dataframe tbody tr th:only-of-type {\n",
              "        vertical-align: middle;\n",
              "    }\n",
              "\n",
              "    .dataframe tbody tr th {\n",
              "        vertical-align: top;\n",
              "    }\n",
              "\n",
              "    .dataframe thead th {\n",
              "        text-align: right;\n",
              "    }\n",
              "</style>\n",
              "<table border=\"1\" class=\"dataframe\">\n",
              "  <thead>\n",
              "    <tr style=\"text-align: right;\">\n",
              "      <th></th>\n",
              "      <th>subreddit_id</th>\n",
              "      <th>author</th>\n",
              "      <th>body</th>\n",
              "      <th>cleaned_body</th>\n",
              "      <th>race</th>\n",
              "      <th>text_len_norm</th>\n",
              "      <th>text_length</th>\n",
              "      <th>token_text</th>\n",
              "      <th>mean_w2v</th>\n",
              "      <th>ld_mtld</th>\n",
              "      <th>...</th>\n",
              "      <th>RP</th>\n",
              "      <th>RBR</th>\n",
              "      <th>EX</th>\n",
              "      <th>FW</th>\n",
              "      <th>RBS</th>\n",
              "      <th>PDT</th>\n",
              "      <th>UH</th>\n",
              "      <th>$</th>\n",
              "      <th>WP$</th>\n",
              "      <th>LS</th>\n",
              "    </tr>\n",
              "  </thead>\n",
              "  <tbody>\n",
              "    <tr>\n",
              "      <th>0</th>\n",
              "      <td>t5_2rfyw</td>\n",
              "      <td>rightascensi0n</td>\n",
              "      <td>&amp;gt; But retirement is a privilege, often one ...</td>\n",
              "      <td>gt But retirement is a privilege often one tha...</td>\n",
              "      <td>Asian</td>\n",
              "      <td>0.489381</td>\n",
              "      <td>410</td>\n",
              "      <td>[gt, but, retirement, privilege, often, one, b...</td>\n",
              "      <td>0.005923</td>\n",
              "      <td>91.466667</td>\n",
              "      <td>...</td>\n",
              "      <td>0.0</td>\n",
              "      <td>0.0</td>\n",
              "      <td>0.0</td>\n",
              "      <td>0.0</td>\n",
              "      <td>0.0</td>\n",
              "      <td>0.0</td>\n",
              "      <td>0.0</td>\n",
              "      <td>0.0</td>\n",
              "      <td>0.0</td>\n",
              "      <td>0.0</td>\n",
              "    </tr>\n",
              "    <tr>\n",
              "      <th>1</th>\n",
              "      <td>t5_2rfyw</td>\n",
              "      <td>8-Red-8</td>\n",
              "      <td>Singaporean authorities won’t bother you if yo...</td>\n",
              "      <td>Singaporean authorities wont bother you if you...</td>\n",
              "      <td>Asian</td>\n",
              "      <td>-0.216739</td>\n",
              "      <td>186</td>\n",
              "      <td>[singaporean, authorities, wont, bother, youre...</td>\n",
              "      <td>0.061056</td>\n",
              "      <td>31.000000</td>\n",
              "      <td>...</td>\n",
              "      <td>0.0</td>\n",
              "      <td>0.0</td>\n",
              "      <td>0.0</td>\n",
              "      <td>0.0</td>\n",
              "      <td>0.0</td>\n",
              "      <td>0.0</td>\n",
              "      <td>0.0</td>\n",
              "      <td>0.0</td>\n",
              "      <td>0.0</td>\n",
              "      <td>0.0</td>\n",
              "    </tr>\n",
              "    <tr>\n",
              "      <th>2</th>\n",
              "      <td>t5_2rfyw</td>\n",
              "      <td>Jamesv967</td>\n",
              "      <td>Who’s ”they”?</td>\n",
              "      <td>Whos they</td>\n",
              "      <td>Asian</td>\n",
              "      <td>-0.762091</td>\n",
              "      <td>13</td>\n",
              "      <td>[whos]</td>\n",
              "      <td>-0.231994</td>\n",
              "      <td>2.000000</td>\n",
              "      <td>...</td>\n",
              "      <td>0.0</td>\n",
              "      <td>0.0</td>\n",
              "      <td>0.0</td>\n",
              "      <td>0.0</td>\n",
              "      <td>0.0</td>\n",
              "      <td>0.0</td>\n",
              "      <td>0.0</td>\n",
              "      <td>0.0</td>\n",
              "      <td>0.0</td>\n",
              "      <td>0.0</td>\n",
              "    </tr>\n",
              "    <tr>\n",
              "      <th>3</th>\n",
              "      <td>t5_2rfyw</td>\n",
              "      <td>8-Red-8</td>\n",
              "      <td>I’ve been called paranoid for bringing this up...</td>\n",
              "      <td>Ive been called paranoid for bringing this up ...</td>\n",
              "      <td>Asian</td>\n",
              "      <td>0.426334</td>\n",
              "      <td>390</td>\n",
              "      <td>[ive, called, paranoid, bringing, too, many, c...</td>\n",
              "      <td>0.098805</td>\n",
              "      <td>138.915000</td>\n",
              "      <td>...</td>\n",
              "      <td>0.0</td>\n",
              "      <td>0.0</td>\n",
              "      <td>0.0</td>\n",
              "      <td>0.0</td>\n",
              "      <td>0.0</td>\n",
              "      <td>0.0</td>\n",
              "      <td>0.0</td>\n",
              "      <td>0.0</td>\n",
              "      <td>0.0</td>\n",
              "      <td>0.0</td>\n",
              "    </tr>\n",
              "    <tr>\n",
              "      <th>4</th>\n",
              "      <td>t5_2rfyw</td>\n",
              "      <td>tomatocultivater</td>\n",
              "      <td>I live in the west. We definitely post about this</td>\n",
              "      <td>I live in the west We definitely post about this</td>\n",
              "      <td>Asian</td>\n",
              "      <td>-0.648607</td>\n",
              "      <td>49</td>\n",
              "      <td>[i, live, west, we, definitely, post]</td>\n",
              "      <td>0.102858</td>\n",
              "      <td>10.000000</td>\n",
              "      <td>...</td>\n",
              "      <td>0.0</td>\n",
              "      <td>0.0</td>\n",
              "      <td>0.0</td>\n",
              "      <td>0.0</td>\n",
              "      <td>0.0</td>\n",
              "      <td>0.0</td>\n",
              "      <td>0.0</td>\n",
              "      <td>0.0</td>\n",
              "      <td>0.0</td>\n",
              "      <td>0.0</td>\n",
              "    </tr>\n",
              "    <tr>\n",
              "      <th>...</th>\n",
              "      <td>...</td>\n",
              "      <td>...</td>\n",
              "      <td>...</td>\n",
              "      <td>...</td>\n",
              "      <td>...</td>\n",
              "      <td>...</td>\n",
              "      <td>...</td>\n",
              "      <td>...</td>\n",
              "      <td>...</td>\n",
              "      <td>...</td>\n",
              "      <td>...</td>\n",
              "      <td>...</td>\n",
              "      <td>...</td>\n",
              "      <td>...</td>\n",
              "      <td>...</td>\n",
              "      <td>...</td>\n",
              "      <td>...</td>\n",
              "      <td>...</td>\n",
              "      <td>...</td>\n",
              "      <td>...</td>\n",
              "      <td>...</td>\n",
              "    </tr>\n",
              "    <tr>\n",
              "      <th>382558</th>\n",
              "      <td>t5_2qr1c</td>\n",
              "      <td>MercilessNDNSavage</td>\n",
              "      <td>I think you clearly missing the picture here i...</td>\n",
              "      <td>I think you clearly missing the picture here i...</td>\n",
              "      <td>Native American</td>\n",
              "      <td>-0.104786</td>\n",
              "      <td>164</td>\n",
              "      <td>[i, think, clearly, missing, picture, magnific...</td>\n",
              "      <td>0.000205</td>\n",
              "      <td>43.904000</td>\n",
              "      <td>...</td>\n",
              "      <td>0.0</td>\n",
              "      <td>0.0</td>\n",
              "      <td>0.0</td>\n",
              "      <td>0.0</td>\n",
              "      <td>0.0</td>\n",
              "      <td>0.0</td>\n",
              "      <td>0.0</td>\n",
              "      <td>0.0</td>\n",
              "      <td>0.0</td>\n",
              "      <td>0.0</td>\n",
              "    </tr>\n",
              "    <tr>\n",
              "      <th>382559</th>\n",
              "      <td>t5_2qr1c</td>\n",
              "      <td>viktorbir</td>\n",
              "      <td>Ignorant European here. Did you enter to see i...</td>\n",
              "      <td>Ignorant European here Did you enter to see if...</td>\n",
              "      <td>Native American</td>\n",
              "      <td>0.134972</td>\n",
              "      <td>273</td>\n",
              "      <td>[ignorant, european, did, enter, see, owners, ...</td>\n",
              "      <td>-0.039741</td>\n",
              "      <td>112.046667</td>\n",
              "      <td>...</td>\n",
              "      <td>0.0</td>\n",
              "      <td>0.0</td>\n",
              "      <td>1.0</td>\n",
              "      <td>0.0</td>\n",
              "      <td>0.0</td>\n",
              "      <td>0.0</td>\n",
              "      <td>0.0</td>\n",
              "      <td>0.0</td>\n",
              "      <td>0.0</td>\n",
              "      <td>0.0</td>\n",
              "    </tr>\n",
              "    <tr>\n",
              "      <th>382560</th>\n",
              "      <td>t5_2qr1c</td>\n",
              "      <td>dogpuck</td>\n",
              "      <td>As a white, metal head, hillbilly guy growing ...</td>\n",
              "      <td>As a white metal head hillbilly guy growing up...</td>\n",
              "      <td>Native American</td>\n",
              "      <td>0.038189</td>\n",
              "      <td>229</td>\n",
              "      <td>[as, white, metal, head, hillbilly, guy, growi...</td>\n",
              "      <td>0.039579</td>\n",
              "      <td>235.480000</td>\n",
              "      <td>...</td>\n",
              "      <td>1.0</td>\n",
              "      <td>0.0</td>\n",
              "      <td>0.0</td>\n",
              "      <td>0.0</td>\n",
              "      <td>0.0</td>\n",
              "      <td>0.0</td>\n",
              "      <td>0.0</td>\n",
              "      <td>0.0</td>\n",
              "      <td>0.0</td>\n",
              "      <td>0.0</td>\n",
              "    </tr>\n",
              "    <tr>\n",
              "      <th>382561</th>\n",
              "      <td>t5_2qr1c</td>\n",
              "      <td>AutoModerator</td>\n",
              "      <td>Consultation inquiries are frequently asked he...</td>\n",
              "      <td>Consultation inquiries are frequently asked he...</td>\n",
              "      <td>Native American</td>\n",
              "      <td>1.052210</td>\n",
              "      <td>690</td>\n",
              "      <td>[consultation, inquiries, frequently, asked, a...</td>\n",
              "      <td>0.035900</td>\n",
              "      <td>120.960000</td>\n",
              "      <td>...</td>\n",
              "      <td>0.0</td>\n",
              "      <td>0.0</td>\n",
              "      <td>0.0</td>\n",
              "      <td>1.0</td>\n",
              "      <td>0.0</td>\n",
              "      <td>0.0</td>\n",
              "      <td>0.0</td>\n",
              "      <td>0.0</td>\n",
              "      <td>0.0</td>\n",
              "      <td>0.0</td>\n",
              "    </tr>\n",
              "    <tr>\n",
              "      <th>382562</th>\n",
              "      <td>t5_2qr1c</td>\n",
              "      <td>Picachu50000</td>\n",
              "      <td>Only $15k? She deserves much more than that. L...</td>\n",
              "      <td>Only $15k She deserves much more than that Lik...</td>\n",
              "      <td>Native American</td>\n",
              "      <td>-0.326947</td>\n",
              "      <td>63</td>\n",
              "      <td>[only, $, 15k, she, deserves, much, like, leas...</td>\n",
              "      <td>0.096160</td>\n",
              "      <td>40.320000</td>\n",
              "      <td>...</td>\n",
              "      <td>0.0</td>\n",
              "      <td>0.0</td>\n",
              "      <td>0.0</td>\n",
              "      <td>0.0</td>\n",
              "      <td>0.0</td>\n",
              "      <td>0.0</td>\n",
              "      <td>0.0</td>\n",
              "      <td>1.0</td>\n",
              "      <td>0.0</td>\n",
              "      <td>0.0</td>\n",
              "    </tr>\n",
              "  </tbody>\n",
              "</table>\n",
              "<p>382563 rows × 50 columns</p>\n",
              "</div>\n",
              "      <button class=\"colab-df-convert\" onclick=\"convertToInteractive('df-ff2808d4-f27a-428c-a94a-6396a1b2484c')\"\n",
              "              title=\"Convert this dataframe to an interactive table.\"\n",
              "              style=\"display:none;\">\n",
              "        \n",
              "  <svg xmlns=\"http://www.w3.org/2000/svg\" height=\"24px\"viewBox=\"0 0 24 24\"\n",
              "       width=\"24px\">\n",
              "    <path d=\"M0 0h24v24H0V0z\" fill=\"none\"/>\n",
              "    <path d=\"M18.56 5.44l.94 2.06.94-2.06 2.06-.94-2.06-.94-.94-2.06-.94 2.06-2.06.94zm-11 1L8.5 8.5l.94-2.06 2.06-.94-2.06-.94L8.5 2.5l-.94 2.06-2.06.94zm10 10l.94 2.06.94-2.06 2.06-.94-2.06-.94-.94-2.06-.94 2.06-2.06.94z\"/><path d=\"M17.41 7.96l-1.37-1.37c-.4-.4-.92-.59-1.43-.59-.52 0-1.04.2-1.43.59L10.3 9.45l-7.72 7.72c-.78.78-.78 2.05 0 2.83L4 21.41c.39.39.9.59 1.41.59.51 0 1.02-.2 1.41-.59l7.78-7.78 2.81-2.81c.8-.78.8-2.07 0-2.86zM5.41 20L4 18.59l7.72-7.72 1.47 1.35L5.41 20z\"/>\n",
              "  </svg>\n",
              "      </button>\n",
              "      \n",
              "  <style>\n",
              "    .colab-df-container {\n",
              "      display:flex;\n",
              "      flex-wrap:wrap;\n",
              "      gap: 12px;\n",
              "    }\n",
              "\n",
              "    .colab-df-convert {\n",
              "      background-color: #E8F0FE;\n",
              "      border: none;\n",
              "      border-radius: 50%;\n",
              "      cursor: pointer;\n",
              "      display: none;\n",
              "      fill: #1967D2;\n",
              "      height: 32px;\n",
              "      padding: 0 0 0 0;\n",
              "      width: 32px;\n",
              "    }\n",
              "\n",
              "    .colab-df-convert:hover {\n",
              "      background-color: #E2EBFA;\n",
              "      box-shadow: 0px 1px 2px rgba(60, 64, 67, 0.3), 0px 1px 3px 1px rgba(60, 64, 67, 0.15);\n",
              "      fill: #174EA6;\n",
              "    }\n",
              "\n",
              "    [theme=dark] .colab-df-convert {\n",
              "      background-color: #3B4455;\n",
              "      fill: #D2E3FC;\n",
              "    }\n",
              "\n",
              "    [theme=dark] .colab-df-convert:hover {\n",
              "      background-color: #434B5C;\n",
              "      box-shadow: 0px 1px 3px 1px rgba(0, 0, 0, 0.15);\n",
              "      filter: drop-shadow(0px 1px 2px rgba(0, 0, 0, 0.3));\n",
              "      fill: #FFFFFF;\n",
              "    }\n",
              "  </style>\n",
              "\n",
              "      <script>\n",
              "        const buttonEl =\n",
              "          document.querySelector('#df-ff2808d4-f27a-428c-a94a-6396a1b2484c button.colab-df-convert');\n",
              "        buttonEl.style.display =\n",
              "          google.colab.kernel.accessAllowed ? 'block' : 'none';\n",
              "\n",
              "        async function convertToInteractive(key) {\n",
              "          const element = document.querySelector('#df-ff2808d4-f27a-428c-a94a-6396a1b2484c');\n",
              "          const dataTable =\n",
              "            await google.colab.kernel.invokeFunction('convertToInteractive',\n",
              "                                                     [key], {});\n",
              "          if (!dataTable) return;\n",
              "\n",
              "          const docLinkHtml = 'Like what you see? Visit the ' +\n",
              "            '<a target=\"_blank\" href=https://colab.research.google.com/notebooks/data_table.ipynb>data table notebook</a>'\n",
              "            + ' to learn more about interactive tables.';\n",
              "          element.innerHTML = '';\n",
              "          dataTable['output_type'] = 'display_data';\n",
              "          await google.colab.output.renderOutput(dataTable, element);\n",
              "          const docLink = document.createElement('div');\n",
              "          docLink.innerHTML = docLinkHtml;\n",
              "          element.appendChild(docLink);\n",
              "        }\n",
              "      </script>\n",
              "    </div>\n",
              "  </div>\n",
              "  "
            ]
          },
          "metadata": {},
          "execution_count": 61
        }
      ]
    },
    {
      "cell_type": "code",
      "source": [
        "print(data['pos_tags'])"
      ],
      "metadata": {
        "colab": {
          "base_uri": "https://localhost:8080/"
        },
        "id": "1kHCCKW-Y_DM",
        "outputId": "f1ca5c4a-e900-4085-dda0-cbdce32bfdec"
      },
      "execution_count": null,
      "outputs": [
        {
          "output_type": "stream",
          "name": "stdout",
          "text": [
            "0         [(gt, NN), (But, CC), (retirement, NN), (is, V...\n",
            "1         [(Singaporean, JJ), (authorities, NNS), (wont,...\n",
            "2                                 [(Whos, IN), (they, PRP)]\n",
            "3         [(Ive, NNP), (been, VBN), (called, VBN), (para...\n",
            "4         [(I, PRP), (live, VBP), (in, IN), (the, DT), (...\n",
            "                                ...                        \n",
            "382558    [(I, PRP), (think, VBP), (you, PRP), (clearly,...\n",
            "382559    [(Ignorant, JJ), (European, JJ), (here, RB), (...\n",
            "382560    [(As, IN), (a, DT), (white, JJ), (metal, NN), ...\n",
            "382561    [(Consultation, NN), (inquiries, NNS), (are, V...\n",
            "382562    [(Only, RB), ($, $), (15k, CD), (She, PRP), (d...\n",
            "Name: pos_tags, Length: 382563, dtype: object\n"
          ]
        }
      ]
    },
    {
      "cell_type": "code",
      "source": [
        "tag_count_data"
      ],
      "metadata": {
        "colab": {
          "base_uri": "https://localhost:8080/",
          "height": 424
        },
        "id": "FQeVRad4ZbMX",
        "outputId": "8aa3cf4a-fb0d-4314-e5b5-999b2b3e1068"
      },
      "execution_count": null,
      "outputs": [
        {
          "output_type": "execute_result",
          "data": {
            "text/plain": [
              "          NN   CC  VBZ   DT   RB   CD  WDT   JJ   NNS   IN  ...   RP  RBR  \\\n",
              "0       13.0  3.0  8.0  5.0  4.0  1.0  1.0  5.0   2.0  8.0  ...  NaN  NaN   \n",
              "1        5.0  1.0  1.0  2.0  2.0  NaN  NaN  1.0   3.0  4.0  ...  NaN  NaN   \n",
              "2        NaN  NaN  NaN  NaN  NaN  NaN  NaN  NaN   NaN  1.0  ...  NaN  NaN   \n",
              "3        5.0  1.0  3.0  5.0  4.0  1.0  NaN  5.0   2.0  6.0  ...  NaN  NaN   \n",
              "4        1.0  NaN  NaN  2.0  1.0  NaN  NaN  NaN   NaN  2.0  ...  NaN  NaN   \n",
              "...      ...  ...  ...  ...  ...  ...  ...  ...   ...  ...  ...  ...  ...   \n",
              "382558   7.0  1.0  1.0  3.0  3.0  1.0  NaN  2.0   2.0  3.0  ...  NaN  NaN   \n",
              "382559   2.0  3.0  NaN  2.0  4.0  NaN  NaN  5.0   3.0  6.0  ...  NaN  NaN   \n",
              "382560   2.0  1.0  1.0  4.0  2.0  1.0  NaN  3.0   1.0  4.0  ...  1.0  NaN   \n",
              "382561   8.0  4.0  1.0  9.0  3.0  NaN  NaN  5.0  10.0  7.0  ...  NaN  NaN   \n",
              "382562   NaN  NaN  1.0  1.0  2.0  2.0  NaN  NaN   NaN  3.0  ...  NaN  NaN   \n",
              "\n",
              "         EX   FW  RBS  PDT  UH    $  WP$  LS  \n",
              "0       NaN  NaN  NaN  NaN NaN  NaN  NaN NaN  \n",
              "1       NaN  NaN  NaN  NaN NaN  NaN  NaN NaN  \n",
              "2       NaN  NaN  NaN  NaN NaN  NaN  NaN NaN  \n",
              "3       NaN  NaN  NaN  NaN NaN  NaN  NaN NaN  \n",
              "4       NaN  NaN  NaN  NaN NaN  NaN  NaN NaN  \n",
              "...     ...  ...  ...  ...  ..  ...  ...  ..  \n",
              "382558  NaN  NaN  NaN  NaN NaN  NaN  NaN NaN  \n",
              "382559  1.0  NaN  NaN  NaN NaN  NaN  NaN NaN  \n",
              "382560  NaN  NaN  NaN  NaN NaN  NaN  NaN NaN  \n",
              "382561  NaN  1.0  NaN  NaN NaN  NaN  NaN NaN  \n",
              "382562  NaN  NaN  NaN  NaN NaN  1.0  NaN NaN  \n",
              "\n",
              "[382563 rows x 35 columns]"
            ],
            "text/html": [
              "\n",
              "  <div id=\"df-6bfcd0e5-e064-4e03-ad7d-0acba127972a\">\n",
              "    <div class=\"colab-df-container\">\n",
              "      <div>\n",
              "<style scoped>\n",
              "    .dataframe tbody tr th:only-of-type {\n",
              "        vertical-align: middle;\n",
              "    }\n",
              "\n",
              "    .dataframe tbody tr th {\n",
              "        vertical-align: top;\n",
              "    }\n",
              "\n",
              "    .dataframe thead th {\n",
              "        text-align: right;\n",
              "    }\n",
              "</style>\n",
              "<table border=\"1\" class=\"dataframe\">\n",
              "  <thead>\n",
              "    <tr style=\"text-align: right;\">\n",
              "      <th></th>\n",
              "      <th>NN</th>\n",
              "      <th>CC</th>\n",
              "      <th>VBZ</th>\n",
              "      <th>DT</th>\n",
              "      <th>RB</th>\n",
              "      <th>CD</th>\n",
              "      <th>WDT</th>\n",
              "      <th>JJ</th>\n",
              "      <th>NNS</th>\n",
              "      <th>IN</th>\n",
              "      <th>...</th>\n",
              "      <th>RP</th>\n",
              "      <th>RBR</th>\n",
              "      <th>EX</th>\n",
              "      <th>FW</th>\n",
              "      <th>RBS</th>\n",
              "      <th>PDT</th>\n",
              "      <th>UH</th>\n",
              "      <th>$</th>\n",
              "      <th>WP$</th>\n",
              "      <th>LS</th>\n",
              "    </tr>\n",
              "  </thead>\n",
              "  <tbody>\n",
              "    <tr>\n",
              "      <th>0</th>\n",
              "      <td>13.0</td>\n",
              "      <td>3.0</td>\n",
              "      <td>8.0</td>\n",
              "      <td>5.0</td>\n",
              "      <td>4.0</td>\n",
              "      <td>1.0</td>\n",
              "      <td>1.0</td>\n",
              "      <td>5.0</td>\n",
              "      <td>2.0</td>\n",
              "      <td>8.0</td>\n",
              "      <td>...</td>\n",
              "      <td>NaN</td>\n",
              "      <td>NaN</td>\n",
              "      <td>NaN</td>\n",
              "      <td>NaN</td>\n",
              "      <td>NaN</td>\n",
              "      <td>NaN</td>\n",
              "      <td>NaN</td>\n",
              "      <td>NaN</td>\n",
              "      <td>NaN</td>\n",
              "      <td>NaN</td>\n",
              "    </tr>\n",
              "    <tr>\n",
              "      <th>1</th>\n",
              "      <td>5.0</td>\n",
              "      <td>1.0</td>\n",
              "      <td>1.0</td>\n",
              "      <td>2.0</td>\n",
              "      <td>2.0</td>\n",
              "      <td>NaN</td>\n",
              "      <td>NaN</td>\n",
              "      <td>1.0</td>\n",
              "      <td>3.0</td>\n",
              "      <td>4.0</td>\n",
              "      <td>...</td>\n",
              "      <td>NaN</td>\n",
              "      <td>NaN</td>\n",
              "      <td>NaN</td>\n",
              "      <td>NaN</td>\n",
              "      <td>NaN</td>\n",
              "      <td>NaN</td>\n",
              "      <td>NaN</td>\n",
              "      <td>NaN</td>\n",
              "      <td>NaN</td>\n",
              "      <td>NaN</td>\n",
              "    </tr>\n",
              "    <tr>\n",
              "      <th>2</th>\n",
              "      <td>NaN</td>\n",
              "      <td>NaN</td>\n",
              "      <td>NaN</td>\n",
              "      <td>NaN</td>\n",
              "      <td>NaN</td>\n",
              "      <td>NaN</td>\n",
              "      <td>NaN</td>\n",
              "      <td>NaN</td>\n",
              "      <td>NaN</td>\n",
              "      <td>1.0</td>\n",
              "      <td>...</td>\n",
              "      <td>NaN</td>\n",
              "      <td>NaN</td>\n",
              "      <td>NaN</td>\n",
              "      <td>NaN</td>\n",
              "      <td>NaN</td>\n",
              "      <td>NaN</td>\n",
              "      <td>NaN</td>\n",
              "      <td>NaN</td>\n",
              "      <td>NaN</td>\n",
              "      <td>NaN</td>\n",
              "    </tr>\n",
              "    <tr>\n",
              "      <th>3</th>\n",
              "      <td>5.0</td>\n",
              "      <td>1.0</td>\n",
              "      <td>3.0</td>\n",
              "      <td>5.0</td>\n",
              "      <td>4.0</td>\n",
              "      <td>1.0</td>\n",
              "      <td>NaN</td>\n",
              "      <td>5.0</td>\n",
              "      <td>2.0</td>\n",
              "      <td>6.0</td>\n",
              "      <td>...</td>\n",
              "      <td>NaN</td>\n",
              "      <td>NaN</td>\n",
              "      <td>NaN</td>\n",
              "      <td>NaN</td>\n",
              "      <td>NaN</td>\n",
              "      <td>NaN</td>\n",
              "      <td>NaN</td>\n",
              "      <td>NaN</td>\n",
              "      <td>NaN</td>\n",
              "      <td>NaN</td>\n",
              "    </tr>\n",
              "    <tr>\n",
              "      <th>4</th>\n",
              "      <td>1.0</td>\n",
              "      <td>NaN</td>\n",
              "      <td>NaN</td>\n",
              "      <td>2.0</td>\n",
              "      <td>1.0</td>\n",
              "      <td>NaN</td>\n",
              "      <td>NaN</td>\n",
              "      <td>NaN</td>\n",
              "      <td>NaN</td>\n",
              "      <td>2.0</td>\n",
              "      <td>...</td>\n",
              "      <td>NaN</td>\n",
              "      <td>NaN</td>\n",
              "      <td>NaN</td>\n",
              "      <td>NaN</td>\n",
              "      <td>NaN</td>\n",
              "      <td>NaN</td>\n",
              "      <td>NaN</td>\n",
              "      <td>NaN</td>\n",
              "      <td>NaN</td>\n",
              "      <td>NaN</td>\n",
              "    </tr>\n",
              "    <tr>\n",
              "      <th>...</th>\n",
              "      <td>...</td>\n",
              "      <td>...</td>\n",
              "      <td>...</td>\n",
              "      <td>...</td>\n",
              "      <td>...</td>\n",
              "      <td>...</td>\n",
              "      <td>...</td>\n",
              "      <td>...</td>\n",
              "      <td>...</td>\n",
              "      <td>...</td>\n",
              "      <td>...</td>\n",
              "      <td>...</td>\n",
              "      <td>...</td>\n",
              "      <td>...</td>\n",
              "      <td>...</td>\n",
              "      <td>...</td>\n",
              "      <td>...</td>\n",
              "      <td>...</td>\n",
              "      <td>...</td>\n",
              "      <td>...</td>\n",
              "      <td>...</td>\n",
              "    </tr>\n",
              "    <tr>\n",
              "      <th>382558</th>\n",
              "      <td>7.0</td>\n",
              "      <td>1.0</td>\n",
              "      <td>1.0</td>\n",
              "      <td>3.0</td>\n",
              "      <td>3.0</td>\n",
              "      <td>1.0</td>\n",
              "      <td>NaN</td>\n",
              "      <td>2.0</td>\n",
              "      <td>2.0</td>\n",
              "      <td>3.0</td>\n",
              "      <td>...</td>\n",
              "      <td>NaN</td>\n",
              "      <td>NaN</td>\n",
              "      <td>NaN</td>\n",
              "      <td>NaN</td>\n",
              "      <td>NaN</td>\n",
              "      <td>NaN</td>\n",
              "      <td>NaN</td>\n",
              "      <td>NaN</td>\n",
              "      <td>NaN</td>\n",
              "      <td>NaN</td>\n",
              "    </tr>\n",
              "    <tr>\n",
              "      <th>382559</th>\n",
              "      <td>2.0</td>\n",
              "      <td>3.0</td>\n",
              "      <td>NaN</td>\n",
              "      <td>2.0</td>\n",
              "      <td>4.0</td>\n",
              "      <td>NaN</td>\n",
              "      <td>NaN</td>\n",
              "      <td>5.0</td>\n",
              "      <td>3.0</td>\n",
              "      <td>6.0</td>\n",
              "      <td>...</td>\n",
              "      <td>NaN</td>\n",
              "      <td>NaN</td>\n",
              "      <td>1.0</td>\n",
              "      <td>NaN</td>\n",
              "      <td>NaN</td>\n",
              "      <td>NaN</td>\n",
              "      <td>NaN</td>\n",
              "      <td>NaN</td>\n",
              "      <td>NaN</td>\n",
              "      <td>NaN</td>\n",
              "    </tr>\n",
              "    <tr>\n",
              "      <th>382560</th>\n",
              "      <td>2.0</td>\n",
              "      <td>1.0</td>\n",
              "      <td>1.0</td>\n",
              "      <td>4.0</td>\n",
              "      <td>2.0</td>\n",
              "      <td>1.0</td>\n",
              "      <td>NaN</td>\n",
              "      <td>3.0</td>\n",
              "      <td>1.0</td>\n",
              "      <td>4.0</td>\n",
              "      <td>...</td>\n",
              "      <td>1.0</td>\n",
              "      <td>NaN</td>\n",
              "      <td>NaN</td>\n",
              "      <td>NaN</td>\n",
              "      <td>NaN</td>\n",
              "      <td>NaN</td>\n",
              "      <td>NaN</td>\n",
              "      <td>NaN</td>\n",
              "      <td>NaN</td>\n",
              "      <td>NaN</td>\n",
              "    </tr>\n",
              "    <tr>\n",
              "      <th>382561</th>\n",
              "      <td>8.0</td>\n",
              "      <td>4.0</td>\n",
              "      <td>1.0</td>\n",
              "      <td>9.0</td>\n",
              "      <td>3.0</td>\n",
              "      <td>NaN</td>\n",
              "      <td>NaN</td>\n",
              "      <td>5.0</td>\n",
              "      <td>10.0</td>\n",
              "      <td>7.0</td>\n",
              "      <td>...</td>\n",
              "      <td>NaN</td>\n",
              "      <td>NaN</td>\n",
              "      <td>NaN</td>\n",
              "      <td>1.0</td>\n",
              "      <td>NaN</td>\n",
              "      <td>NaN</td>\n",
              "      <td>NaN</td>\n",
              "      <td>NaN</td>\n",
              "      <td>NaN</td>\n",
              "      <td>NaN</td>\n",
              "    </tr>\n",
              "    <tr>\n",
              "      <th>382562</th>\n",
              "      <td>NaN</td>\n",
              "      <td>NaN</td>\n",
              "      <td>1.0</td>\n",
              "      <td>1.0</td>\n",
              "      <td>2.0</td>\n",
              "      <td>2.0</td>\n",
              "      <td>NaN</td>\n",
              "      <td>NaN</td>\n",
              "      <td>NaN</td>\n",
              "      <td>3.0</td>\n",
              "      <td>...</td>\n",
              "      <td>NaN</td>\n",
              "      <td>NaN</td>\n",
              "      <td>NaN</td>\n",
              "      <td>NaN</td>\n",
              "      <td>NaN</td>\n",
              "      <td>NaN</td>\n",
              "      <td>NaN</td>\n",
              "      <td>1.0</td>\n",
              "      <td>NaN</td>\n",
              "      <td>NaN</td>\n",
              "    </tr>\n",
              "  </tbody>\n",
              "</table>\n",
              "<p>382563 rows × 35 columns</p>\n",
              "</div>\n",
              "      <button class=\"colab-df-convert\" onclick=\"convertToInteractive('df-6bfcd0e5-e064-4e03-ad7d-0acba127972a')\"\n",
              "              title=\"Convert this dataframe to an interactive table.\"\n",
              "              style=\"display:none;\">\n",
              "        \n",
              "  <svg xmlns=\"http://www.w3.org/2000/svg\" height=\"24px\"viewBox=\"0 0 24 24\"\n",
              "       width=\"24px\">\n",
              "    <path d=\"M0 0h24v24H0V0z\" fill=\"none\"/>\n",
              "    <path d=\"M18.56 5.44l.94 2.06.94-2.06 2.06-.94-2.06-.94-.94-2.06-.94 2.06-2.06.94zm-11 1L8.5 8.5l.94-2.06 2.06-.94-2.06-.94L8.5 2.5l-.94 2.06-2.06.94zm10 10l.94 2.06.94-2.06 2.06-.94-2.06-.94-.94-2.06-.94 2.06-2.06.94z\"/><path d=\"M17.41 7.96l-1.37-1.37c-.4-.4-.92-.59-1.43-.59-.52 0-1.04.2-1.43.59L10.3 9.45l-7.72 7.72c-.78.78-.78 2.05 0 2.83L4 21.41c.39.39.9.59 1.41.59.51 0 1.02-.2 1.41-.59l7.78-7.78 2.81-2.81c.8-.78.8-2.07 0-2.86zM5.41 20L4 18.59l7.72-7.72 1.47 1.35L5.41 20z\"/>\n",
              "  </svg>\n",
              "      </button>\n",
              "      \n",
              "  <style>\n",
              "    .colab-df-container {\n",
              "      display:flex;\n",
              "      flex-wrap:wrap;\n",
              "      gap: 12px;\n",
              "    }\n",
              "\n",
              "    .colab-df-convert {\n",
              "      background-color: #E8F0FE;\n",
              "      border: none;\n",
              "      border-radius: 50%;\n",
              "      cursor: pointer;\n",
              "      display: none;\n",
              "      fill: #1967D2;\n",
              "      height: 32px;\n",
              "      padding: 0 0 0 0;\n",
              "      width: 32px;\n",
              "    }\n",
              "\n",
              "    .colab-df-convert:hover {\n",
              "      background-color: #E2EBFA;\n",
              "      box-shadow: 0px 1px 2px rgba(60, 64, 67, 0.3), 0px 1px 3px 1px rgba(60, 64, 67, 0.15);\n",
              "      fill: #174EA6;\n",
              "    }\n",
              "\n",
              "    [theme=dark] .colab-df-convert {\n",
              "      background-color: #3B4455;\n",
              "      fill: #D2E3FC;\n",
              "    }\n",
              "\n",
              "    [theme=dark] .colab-df-convert:hover {\n",
              "      background-color: #434B5C;\n",
              "      box-shadow: 0px 1px 3px 1px rgba(0, 0, 0, 0.15);\n",
              "      filter: drop-shadow(0px 1px 2px rgba(0, 0, 0, 0.3));\n",
              "      fill: #FFFFFF;\n",
              "    }\n",
              "  </style>\n",
              "\n",
              "      <script>\n",
              "        const buttonEl =\n",
              "          document.querySelector('#df-6bfcd0e5-e064-4e03-ad7d-0acba127972a button.colab-df-convert');\n",
              "        buttonEl.style.display =\n",
              "          google.colab.kernel.accessAllowed ? 'block' : 'none';\n",
              "\n",
              "        async function convertToInteractive(key) {\n",
              "          const element = document.querySelector('#df-6bfcd0e5-e064-4e03-ad7d-0acba127972a');\n",
              "          const dataTable =\n",
              "            await google.colab.kernel.invokeFunction('convertToInteractive',\n",
              "                                                     [key], {});\n",
              "          if (!dataTable) return;\n",
              "\n",
              "          const docLinkHtml = 'Like what you see? Visit the ' +\n",
              "            '<a target=\"_blank\" href=https://colab.research.google.com/notebooks/data_table.ipynb>data table notebook</a>'\n",
              "            + ' to learn more about interactive tables.';\n",
              "          element.innerHTML = '';\n",
              "          dataTable['output_type'] = 'display_data';\n",
              "          await google.colab.output.renderOutput(dataTable, element);\n",
              "          const docLink = document.createElement('div');\n",
              "          docLink.innerHTML = docLinkHtml;\n",
              "          element.appendChild(docLink);\n",
              "        }\n",
              "      </script>\n",
              "    </div>\n",
              "  </div>\n",
              "  "
            ]
          },
          "metadata": {},
          "execution_count": 63
        }
      ]
    },
    {
      "cell_type": "code",
      "source": [
        "new_data = pd.concat([data, tag_count_data], axis=1).fillna(0).drop(['pos_tags'], axis=1)"
      ],
      "metadata": {
        "id": "9LZD0yiGZpLL"
      },
      "execution_count": null,
      "outputs": []
    },
    {
      "cell_type": "code",
      "source": [
        "# Fetching unique word count\n",
        "\n",
        "from nltk.util import ngrams\n",
        "def ngram_unique(text):\n",
        "\n",
        "    unique = []\n",
        "    for word in text:\n",
        "        if word not in unique:\n",
        "            unique.append(word)\n",
        "    \n",
        "    return len(unique)/len(text)"
      ],
      "metadata": {
        "id": "wcoz49k5wXMS"
      },
      "execution_count": null,
      "outputs": []
    },
    {
      "cell_type": "code",
      "source": [
        "data['unique_words'] = data['token_text'].progress_apply(ngram_unique)"
      ],
      "metadata": {
        "colab": {
          "base_uri": "https://localhost:8080/",
          "height": 49,
          "referenced_widgets": [
            "1445c7159a0a438aade41e1a80114baf",
            "ef6e695c94b8409a896c12ec009f7a2e",
            "878cf0230e994eca923a4c16a9b97761",
            "a1e93ac1285a4053b5d3361465142bd2",
            "f91c9ad4abad4d41a3b05a195d6aceca",
            "3acdd35bf8a446569c2be07d60fc64e3",
            "a3c13c930f394689bf6628267df193ad",
            "7409d7a5947b49dba19a7743faf0ef16",
            "d67bb77751464729849985fdfd0d1ac6",
            "559b27813d4c4b46ab4f801644d2773a",
            "c25fb412d2544a2b85c8cfb04cf8e20a"
          ]
        },
        "id": "tnzjJ08DwuM_",
        "outputId": "61236b93-167b-4281-80fb-8e672c6d2658"
      },
      "execution_count": null,
      "outputs": [
        {
          "output_type": "display_data",
          "data": {
            "text/plain": [
              "  0%|          | 0/382563 [00:00<?, ?it/s]"
            ],
            "application/vnd.jupyter.widget-view+json": {
              "version_major": 2,
              "version_minor": 0,
              "model_id": "1445c7159a0a438aade41e1a80114baf"
            }
          },
          "metadata": {}
        }
      ]
    },
    {
      "cell_type": "code",
      "source": [
        "print(data['unique_words'])"
      ],
      "metadata": {
        "colab": {
          "base_uri": "https://localhost:8080/"
        },
        "id": "ipzT-bHywPtW",
        "outputId": "83645fa4-f0d7-4b49-8a03-6a320ee58fe4"
      },
      "execution_count": null,
      "outputs": [
        {
          "output_type": "stream",
          "name": "stdout",
          "text": [
            "0         0.886364\n",
            "1         1.000000\n",
            "2         1.000000\n",
            "3         0.954545\n",
            "4         1.000000\n",
            "            ...   \n",
            "382558    0.944444\n",
            "382559    0.888889\n",
            "382560    1.000000\n",
            "382561    0.951220\n",
            "382562    1.000000\n",
            "Name: unique_words, Length: 382563, dtype: float64\n"
          ]
        }
      ]
    },
    {
      "cell_type": "code",
      "source": [
        "print(new_data.columns)\n",
        "new_data.to_csv(\"/content/drive/MyDrive/DATA/Race/Processed/New/racial_groups.csv\", index=False)"
      ],
      "metadata": {
        "colab": {
          "base_uri": "https://localhost:8080/"
        },
        "id": "wyrHq6TXZutU",
        "outputId": "48b24122-f17c-4663-fcc8-15aae59d1343"
      },
      "execution_count": null,
      "outputs": [
        {
          "output_type": "stream",
          "name": "stdout",
          "text": [
            "Index(['subreddit_id', 'author', 'body', 'cleaned_body', 'race',\n",
            "       'text_len_norm', 'text_length', 'token_text', 'mean_w2v', 'ld_mtld',\n",
            "       'ld_maas', 'ld_hdd', 'sentiment_scores', 'syllable_count',\n",
            "       'percent_diff_words', 'NN', 'CC', 'VBZ', 'DT', 'RB', 'CD', 'WDT', 'JJ',\n",
            "       'NNS', 'IN', 'PRP$', 'NNP', 'VBN', 'TO', 'VBG', 'WP', 'WRB', 'VBD',\n",
            "       'NNPS', 'VBP', 'JJS', 'PRP', 'VB', 'JJR', 'MD', 'RP', 'RBR', 'EX', 'FW',\n",
            "       'RBS', 'PDT', 'UH', '$', 'WP$', 'LS'],\n",
            "      dtype='object')\n"
          ]
        }
      ]
    }
  ]
}