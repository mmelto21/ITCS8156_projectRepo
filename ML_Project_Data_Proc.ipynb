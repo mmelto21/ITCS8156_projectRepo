{
 "cells": [
  {
   "cell_type": "markdown",
   "metadata": {
    "id": "whgQ58akHH3O"
   },
   "source": [
    "# 0. Imports\n",
    "\n",
    "In this section, necessary libraries are imported. Install the below package if needed."
   ]
  },
  {
   "cell_type": "code",
   "execution_count": null,
   "metadata": {
    "colab": {
     "base_uri": "https://localhost:8080/"
    },
    "executionInfo": {
     "elapsed": 7988,
     "status": "ok",
     "timestamp": 1681918356095,
     "user": {
      "displayName": "Madison Melton",
      "userId": "16522916168467104913"
     },
     "user_tz": 240
    },
    "id": "GNtNrXwaNGZN",
    "outputId": "4656ab76-bc18-4065-d933-bcfbb0f281ce"
   },
   "outputs": [
    {
     "name": "stdout",
     "output_type": "stream",
     "text": [
      "Looking in indexes: https://pypi.org/simple, https://us-python.pkg.dev/colab-wheels/public/simple/\n",
      "Requirement already satisfied: glom in /usr/local/lib/python3.9/dist-packages (23.3.0)\n",
      "Requirement already satisfied: boltons>=19.3.0 in /usr/local/lib/python3.9/dist-packages (from glom) (23.0.0)\n",
      "Requirement already satisfied: attrs in /usr/local/lib/python3.9/dist-packages (from glom) (22.2.0)\n",
      "Requirement already satisfied: face==20.1.1 in /usr/local/lib/python3.9/dist-packages (from glom) (20.1.1)\n"
     ]
    }
   ],
   "source": [
    "!pip install glom"
   ]
  },
  {
   "cell_type": "code",
   "execution_count": null,
   "metadata": {
    "id": "ihAgTgrnWTKy"
   },
   "outputs": [],
   "source": [
    "# Import necessary packages\n",
    "import pandas as pd\n",
    "import numpy as np\n",
    "from glom import glom\n",
    "from ast import literal_eval\n",
    "import statsmodels.api as sm\n",
    "import seaborn as sns\n",
    "sns.set()\n",
    "from sklearn.cluster import KMeans\n",
    "from sklearn.tree import DecisionTreeClassifier\n",
    "import matplotlib.pyplot as plt\n",
    "from sklearn.datasets import load_digits\n",
    "from sklearn.linear_model import LogisticRegression\n",
    "from sklearn.metrics import classification_report, confusion_matrix\n",
    "from sklearn.model_selection import train_test_split\n",
    "from sklearn.preprocessing import StandardScaler\n",
    "from sklearn.metrics import classification_report\n",
    "from sklearn import metrics \n",
    "import tensorflow as tf\n",
    "from tensorflow import keras\n",
    "from keras import Sequential\n",
    "from keras.layers import Dense"
   ]
  },
  {
   "cell_type": "markdown",
   "metadata": {
    "id": "Kz6w_cX7aq8K"
   },
   "source": [
    "The cell below contains a function that calculates a confusion matrix using sklearn's metrics module and plots the results."
   ]
  },
  {
   "cell_type": "code",
   "execution_count": null,
   "metadata": {
    "id": "YoLdXu_qapNS"
   },
   "outputs": [],
   "source": [
    "def confusion_mat(actual, predicted, labels):\n",
    "  confusion_matrix = metrics.confusion_matrix(actual, predicted) \n",
    "  cm_display = metrics.ConfusionMatrixDisplay(confusion_matrix = confusion_matrix, display_labels = labels)\n",
    "  cm_display.plot()\n",
    "  plt.xticks(rotation=90)\n",
    "  plt.show() "
   ]
  },
  {
   "cell_type": "markdown",
   "metadata": {
    "id": "E4Irw5oJHJmu"
   },
   "source": [
    "# 1. Data Loading and Visualization\n",
    "\n",
    "Below, we load the processed data csv into a pandas dataframe. Code assumes that data downloaded from Google Drive is in a folder called \"DATA\"."
   ]
  },
  {
   "cell_type": "code",
   "execution_count": null,
   "metadata": {
    "id": "P8oqaUgjWlNX"
   },
   "outputs": [],
   "source": [
    "race = pd.read_csv(\"/DATA/racial_groups.csv\")"
   ]
  },
  {
   "cell_type": "markdown",
   "metadata": {
    "id": "LrEhYRcXHU0S"
   },
   "source": [
    "Below we can observe the number of entries within the race dataframe. Then some of the features of five entries."
   ]
  },
  {
   "cell_type": "code",
   "execution_count": null,
   "metadata": {
    "colab": {
     "base_uri": "https://localhost:8080/"
    },
    "executionInfo": {
     "elapsed": 24,
     "status": "ok",
     "timestamp": 1681918384016,
     "user": {
      "displayName": "Madison Melton",
      "userId": "16522916168467104913"
     },
     "user_tz": 240
    },
    "id": "tPV4_wnCWukt",
    "outputId": "8a5cd469-657c-4ed9-9f48-c1aff714d85e"
   },
   "outputs": [
    {
     "name": "stdout",
     "output_type": "stream",
     "text": [
      "382563\n",
      "   subreddit_id           author  \\\n",
      "25     t5_2rfyw      exclaim_bot   \n",
      "26     t5_2rfyw       and-peggy_   \n",
      "27     t5_2rfyw       thefumingo   \n",
      "28     t5_2rfyw  hamsterfarmer99   \n",
      "29     t5_2rfyw           atwong   \n",
      "\n",
      "                                                 body  \\\n",
      "25                &gt;Thank you!!!\\n\\nYou're welcome!   \n",
      "26                                       Thank you!!!   \n",
      "27  It was on Axios on Asian American distrust, bu...   \n",
      "28  Speaking frequently with the recruiters for pl...   \n",
      "29  This is typical minority pitting against other...   \n",
      "\n",
      "                                         cleaned_body   race  text_len_norm  \\\n",
      "25                         gtThank you  Youre welcome  Asian      -0.699044   \n",
      "26                                          Thank you  Asian      -0.765243   \n",
      "27  It was on Axios on Asian American distrust but...  Asian      -0.374355   \n",
      "28  Speaking frequently with the recruiters for pl...  Asian       0.180453   \n",
      "29  This is typical minority pitting against other...  Asian       0.170996   \n",
      "\n",
      "    text_length                                         token_text  mean_w2v  \\\n",
      "25           33                    ['gtthank', 'youre', 'welcome']  0.259043   \n",
      "26           12                                          ['thank']  0.240689   \n",
      "27          136  ['it', 'axios', 'asian', 'american', 'distrust... -0.009046   \n",
      "28          312  ['speaking', 'frequently', 'recruiters', 'plac...  0.106350   \n",
      "29          309  ['this', 'typical', 'minority', 'pitting', 'mi...  0.004911   \n",
      "\n",
      "    ld_mtld  ...   RP  RBR   EX   FW  RBS  PDT   UH    $  WP$   LS  \n",
      "25    4.000  ...  0.0  0.0  0.0  0.0  0.0  0.0  0.0  0.0  0.0  0.0  \n",
      "26    2.000  ...  0.0  0.0  0.0  0.0  0.0  0.0  0.0  0.0  0.0  0.0  \n",
      "27   47.320  ...  0.0  1.0  0.0  0.0  0.0  0.0  0.0  0.0  0.0  0.0  \n",
      "28   92.160  ...  0.0  1.0  0.0  0.0  0.0  0.0  0.0  0.0  0.0  0.0  \n",
      "29   64.512  ...  0.0  0.0  0.0  0.0  0.0  0.0  0.0  0.0  0.0  0.0  \n",
      "\n",
      "[5 rows x 50 columns]\n"
     ]
    }
   ],
   "source": [
    "print(len(race))\n",
    "print(race[25:30])"
   ]
  },
  {
   "cell_type": "markdown",
   "metadata": {
    "id": "yf7CHtsDH6uc"
   },
   "source": [
    "There are 50 total features for each entry. These are detailed below: <br>\n",
    "\n",
    "subreddit_id - id of the post from the particular subreddit <br>\n",
    "author - username of the person who made the post <br>\n",
    "body - text body of the subreddit post <br>\n",
    "cleaned_body - text body that has been pre-processed to not include punctuation and newlines (ANYTHING ELSE?) <br>\n",
    "race - race class that the post belongs to <br>\n",
    "text_len_norm - normalized text length <br>\n",
    "text_length - character/space length of text entry <br>\n",
    "token_text - a tokenized version of the cleaned_body feature <br>\n",
    "mean_w2v - mean of word2vec implementation <br>\n",
    "ld_mtld - explain <br>\n",
    "ld_maas - explain <br>\n",
    "ld_hdd - explain <br>\n",
    "sentiment_scores - explain <br>\n",
    "syllable_count - explain <br>\n",
    "percent_diff_words - explain <br>\n",
    "NN - explain <br>\n",
    "CC - explain <br>\n",
    "VBZ - explain <br>\n",
    "DT - explain <br>\n",
    "RB - explain <br>\n",
    "CD - explain <br>\n",
    "WDT - explain <br>\n",
    "JJ - explain <br>\n",
    "NNS - explain <br>\n",
    "IN - explain <br>\n",
    "PRP\\$ - explain <br>\n",
    "NNP - explain <br>\n",
    "VBN - explain <br>\n",
    "TO - explain <br>\n",
    "VBG - explain <br>\n",
    "WP - explain <br>\n",
    "WRB - explain <br>\n",
    "VBD - explain <br>\n",
    "NNPS - explain <br>\n",
    "VBP - explain <br>\n",
    "JJS - explain <br>\n",
    "PRP - explain <br>\n",
    "VB - explain <br>\n",
    "JJR - explain <br>\n",
    "MD - explain <br>\n",
    "RP - explain <br>\n",
    "RBR - explain <br>\n",
    "EX - explain <br>\n",
    "FW - explain <br>\n",
    "RBS - explain <br>\n",
    "PDT - explain <br>\n",
    "UH - explain <br>\n",
    "\\$ - explain <br>\n",
    "WP\\$ - explain <br>\n",
    "LS - explain <br>"
   ]
  },
  {
   "cell_type": "code",
   "execution_count": null,
   "metadata": {
    "colab": {
     "base_uri": "https://localhost:8080/"
    },
    "executionInfo": {
     "elapsed": 18,
     "status": "ok",
     "timestamp": 1681918384017,
     "user": {
      "displayName": "Madison Melton",
      "userId": "16522916168467104913"
     },
     "user_tz": 240
    },
    "id": "iBcYt2a0XAbe",
    "outputId": "93ef0a93-212c-48ce-fc5d-abb24a1f590e"
   },
   "outputs": [
    {
     "name": "stdout",
     "output_type": "stream",
     "text": [
      "Total number of data instances = 382563\n",
      "Total number of data attributes = 50\n",
      "Attribute list:  ['subreddit_id' 'author' 'body' 'cleaned_body' 'race' 'text_len_norm'\n",
      " 'text_length' 'token_text' 'mean_w2v' 'ld_mtld' 'ld_maas' 'ld_hdd'\n",
      " 'sentiment_scores' 'syllable_count' 'percent_diff_words' 'NN' 'CC' 'VBZ'\n",
      " 'DT' 'RB' 'CD' 'WDT' 'JJ' 'NNS' 'IN' 'PRP$' 'NNP' 'VBN' 'TO' 'VBG' 'WP'\n",
      " 'WRB' 'VBD' 'NNPS' 'VBP' 'JJS' 'PRP' 'VB' 'JJR' 'MD' 'RP' 'RBR' 'EX' 'FW'\n",
      " 'RBS' 'PDT' 'UH' '$' 'WP$' 'LS']\n"
     ]
    }
   ],
   "source": [
    "# Data metrics - Fetching count of instances, features from the dataset\n",
    "print(\"Total number of data instances =\",len(race))\n",
    "print(\"Total number of data attributes =\",len(race.columns))\n",
    "\n",
    "# Listing data attributes\n",
    "print(\"Attribute list: \", race.columns.values)"
   ]
  },
  {
   "cell_type": "markdown",
   "metadata": {
    "id": "w6dHk30uK7gy"
   },
   "source": [
    "Below we can see the statistical distribution of the numerical data attributes."
   ]
  },
  {
   "cell_type": "code",
   "execution_count": null,
   "metadata": {
    "colab": {
     "base_uri": "https://localhost:8080/",
     "height": 394
    },
    "executionInfo": {
     "elapsed": 986,
     "status": "ok",
     "timestamp": 1681918384993,
     "user": {
      "displayName": "Madison Melton",
      "userId": "16522916168467104913"
     },
     "user_tz": 240
    },
    "id": "gPmw8eKeXKBA",
    "outputId": "85a45746-1816-4443-e776-5cc00c5b0ce5"
   },
   "outputs": [
    {
     "data": {
      "text/html": [
       "\n",
       "  <div id=\"df-3266a306-bce6-4c0f-b16f-fcd2b8155114\">\n",
       "    <div class=\"colab-df-container\">\n",
       "      <div>\n",
       "<style scoped>\n",
       "    .dataframe tbody tr th:only-of-type {\n",
       "        vertical-align: middle;\n",
       "    }\n",
       "\n",
       "    .dataframe tbody tr th {\n",
       "        vertical-align: top;\n",
       "    }\n",
       "\n",
       "    .dataframe thead th {\n",
       "        text-align: right;\n",
       "    }\n",
       "</style>\n",
       "<table border=\"1\" class=\"dataframe\">\n",
       "  <thead>\n",
       "    <tr style=\"text-align: right;\">\n",
       "      <th></th>\n",
       "      <th>text_len_norm</th>\n",
       "      <th>text_length</th>\n",
       "      <th>mean_w2v</th>\n",
       "      <th>ld_mtld</th>\n",
       "      <th>ld_maas</th>\n",
       "      <th>ld_hdd</th>\n",
       "      <th>syllable_count</th>\n",
       "      <th>percent_diff_words</th>\n",
       "      <th>NN</th>\n",
       "      <th>CC</th>\n",
       "      <th>...</th>\n",
       "      <th>RP</th>\n",
       "      <th>RBR</th>\n",
       "      <th>EX</th>\n",
       "      <th>FW</th>\n",
       "      <th>RBS</th>\n",
       "      <th>PDT</th>\n",
       "      <th>UH</th>\n",
       "      <th>$</th>\n",
       "      <th>WP$</th>\n",
       "      <th>LS</th>\n",
       "    </tr>\n",
       "  </thead>\n",
       "  <tbody>\n",
       "    <tr>\n",
       "      <th>count</th>\n",
       "      <td>382563.000000</td>\n",
       "      <td>382563.000000</td>\n",
       "      <td>382563.000000</td>\n",
       "      <td>382563.000000</td>\n",
       "      <td>369494.000000</td>\n",
       "      <td>3.825630e+05</td>\n",
       "      <td>382563.000000</td>\n",
       "      <td>382563.000000</td>\n",
       "      <td>382563.000000</td>\n",
       "      <td>382563.000000</td>\n",
       "      <td>...</td>\n",
       "      <td>382563.000000</td>\n",
       "      <td>382563.000000</td>\n",
       "      <td>382563.000000</td>\n",
       "      <td>382563.000000</td>\n",
       "      <td>382563.000000</td>\n",
       "      <td>382563.000000</td>\n",
       "      <td>382563.000000</td>\n",
       "      <td>382563.000000</td>\n",
       "      <td>382563.000000</td>\n",
       "      <td>382563.000000</td>\n",
       "    </tr>\n",
       "    <tr>\n",
       "      <th>mean</th>\n",
       "      <td>0.000915</td>\n",
       "      <td>264.846295</td>\n",
       "      <td>0.022809</td>\n",
       "      <td>54.137959</td>\n",
       "      <td>0.010417</td>\n",
       "      <td>1.000000e+00</td>\n",
       "      <td>49.008179</td>\n",
       "      <td>12.194722</td>\n",
       "      <td>6.037055</td>\n",
       "      <td>1.830070</td>\n",
       "      <td>...</td>\n",
       "      <td>0.198838</td>\n",
       "      <td>0.094243</td>\n",
       "      <td>0.108915</td>\n",
       "      <td>0.021037</td>\n",
       "      <td>0.033662</td>\n",
       "      <td>0.035772</td>\n",
       "      <td>0.028947</td>\n",
       "      <td>0.006307</td>\n",
       "      <td>0.003155</td>\n",
       "      <td>0.000525</td>\n",
       "    </tr>\n",
       "    <tr>\n",
       "      <th>std</th>\n",
       "      <td>1.000518</td>\n",
       "      <td>475.557277</td>\n",
       "      <td>0.108622</td>\n",
       "      <td>51.134119</td>\n",
       "      <td>0.035888</td>\n",
       "      <td>4.627743e-15</td>\n",
       "      <td>88.099197</td>\n",
       "      <td>14.277599</td>\n",
       "      <td>10.690698</td>\n",
       "      <td>3.643472</td>\n",
       "      <td>...</td>\n",
       "      <td>0.577794</td>\n",
       "      <td>0.420554</td>\n",
       "      <td>0.396261</td>\n",
       "      <td>0.274312</td>\n",
       "      <td>0.217361</td>\n",
       "      <td>0.204581</td>\n",
       "      <td>0.170778</td>\n",
       "      <td>0.133516</td>\n",
       "      <td>0.056081</td>\n",
       "      <td>0.022916</td>\n",
       "    </tr>\n",
       "    <tr>\n",
       "      <th>min</th>\n",
       "      <td>-0.796766</td>\n",
       "      <td>1.000000</td>\n",
       "      <td>-0.636463</td>\n",
       "      <td>1.000000</td>\n",
       "      <td>0.000000</td>\n",
       "      <td>1.000000e+00</td>\n",
       "      <td>1.000000</td>\n",
       "      <td>0.000000</td>\n",
       "      <td>0.000000</td>\n",
       "      <td>0.000000</td>\n",
       "      <td>...</td>\n",
       "      <td>0.000000</td>\n",
       "      <td>0.000000</td>\n",
       "      <td>0.000000</td>\n",
       "      <td>0.000000</td>\n",
       "      <td>0.000000</td>\n",
       "      <td>0.000000</td>\n",
       "      <td>0.000000</td>\n",
       "      <td>0.000000</td>\n",
       "      <td>0.000000</td>\n",
       "      <td>0.000000</td>\n",
       "    </tr>\n",
       "    <tr>\n",
       "      <th>25%</th>\n",
       "      <td>-0.473129</td>\n",
       "      <td>45.000000</td>\n",
       "      <td>-0.030935</td>\n",
       "      <td>9.000000</td>\n",
       "      <td>0.000000</td>\n",
       "      <td>1.000000e+00</td>\n",
       "      <td>9.000000</td>\n",
       "      <td>3.448276</td>\n",
       "      <td>1.000000</td>\n",
       "      <td>0.000000</td>\n",
       "      <td>...</td>\n",
       "      <td>0.000000</td>\n",
       "      <td>0.000000</td>\n",
       "      <td>0.000000</td>\n",
       "      <td>0.000000</td>\n",
       "      <td>0.000000</td>\n",
       "      <td>0.000000</td>\n",
       "      <td>0.000000</td>\n",
       "      <td>0.000000</td>\n",
       "      <td>0.000000</td>\n",
       "      <td>0.000000</td>\n",
       "    </tr>\n",
       "    <tr>\n",
       "      <th>50%</th>\n",
       "      <td>-0.307150</td>\n",
       "      <td>114.000000</td>\n",
       "      <td>0.026164</td>\n",
       "      <td>45.360000</td>\n",
       "      <td>0.009108</td>\n",
       "      <td>1.000000e+00</td>\n",
       "      <td>21.000000</td>\n",
       "      <td>10.344828</td>\n",
       "      <td>3.000000</td>\n",
       "      <td>1.000000</td>\n",
       "      <td>...</td>\n",
       "      <td>0.000000</td>\n",
       "      <td>0.000000</td>\n",
       "      <td>0.000000</td>\n",
       "      <td>0.000000</td>\n",
       "      <td>0.000000</td>\n",
       "      <td>0.000000</td>\n",
       "      <td>0.000000</td>\n",
       "      <td>0.000000</td>\n",
       "      <td>0.000000</td>\n",
       "      <td>0.000000</td>\n",
       "    </tr>\n",
       "    <tr>\n",
       "      <th>75%</th>\n",
       "      <td>0.073274</td>\n",
       "      <td>292.000000</td>\n",
       "      <td>0.082575</td>\n",
       "      <td>87.500000</td>\n",
       "      <td>0.015327</td>\n",
       "      <td>1.000000e+00</td>\n",
       "      <td>54.000000</td>\n",
       "      <td>15.789474</td>\n",
       "      <td>7.000000</td>\n",
       "      <td>2.000000</td>\n",
       "      <td>...</td>\n",
       "      <td>0.000000</td>\n",
       "      <td>0.000000</td>\n",
       "      <td>0.000000</td>\n",
       "      <td>0.000000</td>\n",
       "      <td>0.000000</td>\n",
       "      <td>0.000000</td>\n",
       "      <td>0.000000</td>\n",
       "      <td>0.000000</td>\n",
       "      <td>0.000000</td>\n",
       "      <td>0.000000</td>\n",
       "    </tr>\n",
       "    <tr>\n",
       "      <th>max</th>\n",
       "      <td>9.547114</td>\n",
       "      <td>6606.000000</td>\n",
       "      <td>0.578237</td>\n",
       "      <td>383.320000</td>\n",
       "      <td>1.442695</td>\n",
       "      <td>1.000000e+00</td>\n",
       "      <td>1069.000000</td>\n",
       "      <td>100.000000</td>\n",
       "      <td>176.000000</td>\n",
       "      <td>48.000000</td>\n",
       "      <td>...</td>\n",
       "      <td>6.000000</td>\n",
       "      <td>8.000000</td>\n",
       "      <td>4.000000</td>\n",
       "      <td>10.000000</td>\n",
       "      <td>5.000000</td>\n",
       "      <td>3.000000</td>\n",
       "      <td>2.000000</td>\n",
       "      <td>5.000000</td>\n",
       "      <td>1.000000</td>\n",
       "      <td>1.000000</td>\n",
       "    </tr>\n",
       "  </tbody>\n",
       "</table>\n",
       "<p>8 rows × 43 columns</p>\n",
       "</div>\n",
       "      <button class=\"colab-df-convert\" onclick=\"convertToInteractive('df-3266a306-bce6-4c0f-b16f-fcd2b8155114')\"\n",
       "              title=\"Convert this dataframe to an interactive table.\"\n",
       "              style=\"display:none;\">\n",
       "        \n",
       "  <svg xmlns=\"http://www.w3.org/2000/svg\" height=\"24px\"viewBox=\"0 0 24 24\"\n",
       "       width=\"24px\">\n",
       "    <path d=\"M0 0h24v24H0V0z\" fill=\"none\"/>\n",
       "    <path d=\"M18.56 5.44l.94 2.06.94-2.06 2.06-.94-2.06-.94-.94-2.06-.94 2.06-2.06.94zm-11 1L8.5 8.5l.94-2.06 2.06-.94-2.06-.94L8.5 2.5l-.94 2.06-2.06.94zm10 10l.94 2.06.94-2.06 2.06-.94-2.06-.94-.94-2.06-.94 2.06-2.06.94z\"/><path d=\"M17.41 7.96l-1.37-1.37c-.4-.4-.92-.59-1.43-.59-.52 0-1.04.2-1.43.59L10.3 9.45l-7.72 7.72c-.78.78-.78 2.05 0 2.83L4 21.41c.39.39.9.59 1.41.59.51 0 1.02-.2 1.41-.59l7.78-7.78 2.81-2.81c.8-.78.8-2.07 0-2.86zM5.41 20L4 18.59l7.72-7.72 1.47 1.35L5.41 20z\"/>\n",
       "  </svg>\n",
       "      </button>\n",
       "      \n",
       "  <style>\n",
       "    .colab-df-container {\n",
       "      display:flex;\n",
       "      flex-wrap:wrap;\n",
       "      gap: 12px;\n",
       "    }\n",
       "\n",
       "    .colab-df-convert {\n",
       "      background-color: #E8F0FE;\n",
       "      border: none;\n",
       "      border-radius: 50%;\n",
       "      cursor: pointer;\n",
       "      display: none;\n",
       "      fill: #1967D2;\n",
       "      height: 32px;\n",
       "      padding: 0 0 0 0;\n",
       "      width: 32px;\n",
       "    }\n",
       "\n",
       "    .colab-df-convert:hover {\n",
       "      background-color: #E2EBFA;\n",
       "      box-shadow: 0px 1px 2px rgba(60, 64, 67, 0.3), 0px 1px 3px 1px rgba(60, 64, 67, 0.15);\n",
       "      fill: #174EA6;\n",
       "    }\n",
       "\n",
       "    [theme=dark] .colab-df-convert {\n",
       "      background-color: #3B4455;\n",
       "      fill: #D2E3FC;\n",
       "    }\n",
       "\n",
       "    [theme=dark] .colab-df-convert:hover {\n",
       "      background-color: #434B5C;\n",
       "      box-shadow: 0px 1px 3px 1px rgba(0, 0, 0, 0.15);\n",
       "      filter: drop-shadow(0px 1px 2px rgba(0, 0, 0, 0.3));\n",
       "      fill: #FFFFFF;\n",
       "    }\n",
       "  </style>\n",
       "\n",
       "      <script>\n",
       "        const buttonEl =\n",
       "          document.querySelector('#df-3266a306-bce6-4c0f-b16f-fcd2b8155114 button.colab-df-convert');\n",
       "        buttonEl.style.display =\n",
       "          google.colab.kernel.accessAllowed ? 'block' : 'none';\n",
       "\n",
       "        async function convertToInteractive(key) {\n",
       "          const element = document.querySelector('#df-3266a306-bce6-4c0f-b16f-fcd2b8155114');\n",
       "          const dataTable =\n",
       "            await google.colab.kernel.invokeFunction('convertToInteractive',\n",
       "                                                     [key], {});\n",
       "          if (!dataTable) return;\n",
       "\n",
       "          const docLinkHtml = 'Like what you see? Visit the ' +\n",
       "            '<a target=\"_blank\" href=https://colab.research.google.com/notebooks/data_table.ipynb>data table notebook</a>'\n",
       "            + ' to learn more about interactive tables.';\n",
       "          element.innerHTML = '';\n",
       "          dataTable['output_type'] = 'display_data';\n",
       "          await google.colab.output.renderOutput(dataTable, element);\n",
       "          const docLink = document.createElement('div');\n",
       "          docLink.innerHTML = docLinkHtml;\n",
       "          element.appendChild(docLink);\n",
       "        }\n",
       "      </script>\n",
       "    </div>\n",
       "  </div>\n",
       "  "
      ],
      "text/plain": [
       "       text_len_norm    text_length       mean_w2v        ld_mtld  \\\n",
       "count  382563.000000  382563.000000  382563.000000  382563.000000   \n",
       "mean        0.000915     264.846295       0.022809      54.137959   \n",
       "std         1.000518     475.557277       0.108622      51.134119   \n",
       "min        -0.796766       1.000000      -0.636463       1.000000   \n",
       "25%        -0.473129      45.000000      -0.030935       9.000000   \n",
       "50%        -0.307150     114.000000       0.026164      45.360000   \n",
       "75%         0.073274     292.000000       0.082575      87.500000   \n",
       "max         9.547114    6606.000000       0.578237     383.320000   \n",
       "\n",
       "             ld_maas        ld_hdd  syllable_count  percent_diff_words  \\\n",
       "count  369494.000000  3.825630e+05   382563.000000       382563.000000   \n",
       "mean        0.010417  1.000000e+00       49.008179           12.194722   \n",
       "std         0.035888  4.627743e-15       88.099197           14.277599   \n",
       "min         0.000000  1.000000e+00        1.000000            0.000000   \n",
       "25%         0.000000  1.000000e+00        9.000000            3.448276   \n",
       "50%         0.009108  1.000000e+00       21.000000           10.344828   \n",
       "75%         0.015327  1.000000e+00       54.000000           15.789474   \n",
       "max         1.442695  1.000000e+00     1069.000000          100.000000   \n",
       "\n",
       "                  NN             CC  ...             RP            RBR  \\\n",
       "count  382563.000000  382563.000000  ...  382563.000000  382563.000000   \n",
       "mean        6.037055       1.830070  ...       0.198838       0.094243   \n",
       "std        10.690698       3.643472  ...       0.577794       0.420554   \n",
       "min         0.000000       0.000000  ...       0.000000       0.000000   \n",
       "25%         1.000000       0.000000  ...       0.000000       0.000000   \n",
       "50%         3.000000       1.000000  ...       0.000000       0.000000   \n",
       "75%         7.000000       2.000000  ...       0.000000       0.000000   \n",
       "max       176.000000      48.000000  ...       6.000000       8.000000   \n",
       "\n",
       "                  EX             FW            RBS            PDT  \\\n",
       "count  382563.000000  382563.000000  382563.000000  382563.000000   \n",
       "mean        0.108915       0.021037       0.033662       0.035772   \n",
       "std         0.396261       0.274312       0.217361       0.204581   \n",
       "min         0.000000       0.000000       0.000000       0.000000   \n",
       "25%         0.000000       0.000000       0.000000       0.000000   \n",
       "50%         0.000000       0.000000       0.000000       0.000000   \n",
       "75%         0.000000       0.000000       0.000000       0.000000   \n",
       "max         4.000000      10.000000       5.000000       3.000000   \n",
       "\n",
       "                  UH              $            WP$             LS  \n",
       "count  382563.000000  382563.000000  382563.000000  382563.000000  \n",
       "mean        0.028947       0.006307       0.003155       0.000525  \n",
       "std         0.170778       0.133516       0.056081       0.022916  \n",
       "min         0.000000       0.000000       0.000000       0.000000  \n",
       "25%         0.000000       0.000000       0.000000       0.000000  \n",
       "50%         0.000000       0.000000       0.000000       0.000000  \n",
       "75%         0.000000       0.000000       0.000000       0.000000  \n",
       "max         2.000000       5.000000       1.000000       1.000000  \n",
       "\n",
       "[8 rows x 43 columns]"
      ]
     },
     "execution_count": 8,
     "metadata": {},
     "output_type": "execute_result"
    }
   ],
   "source": [
    "race.describe()"
   ]
  },
  {
   "cell_type": "code",
   "execution_count": null,
   "metadata": {
    "colab": {
     "base_uri": "https://localhost:8080/"
    },
    "executionInfo": {
     "elapsed": 19,
     "status": "ok",
     "timestamp": 1681918384995,
     "user": {
      "displayName": "Madison Melton",
      "userId": "16522916168467104913"
     },
     "user_tz": 240
    },
    "id": "6V2ivYxpXNP3",
    "outputId": "bea74958-b34a-469a-851a-67536f28ca1d"
   },
   "outputs": [
    {
     "name": "stdout",
     "output_type": "stream",
     "text": [
      "Count of redundant instances in data =  380689\n"
     ]
    }
   ],
   "source": [
    "# Data Exploration - Finding missing values and redundancies\n",
    "\n",
    "race_duplicates = race.drop_duplicates(subset=['body'], keep='first')\n",
    "print(\"Count of redundant instances in data = \", len(race)-len(race_duplicates))"
   ]
  },
  {
   "cell_type": "code",
   "execution_count": null,
   "metadata": {
    "colab": {
     "base_uri": "https://localhost:8080/",
     "height": 1000
    },
    "executionInfo": {
     "elapsed": 280,
     "status": "ok",
     "timestamp": 1681918385261,
     "user": {
      "displayName": "Madison Melton",
      "userId": "16522916168467104913"
     },
     "user_tz": 240
    },
    "id": "Swf5kr2yXbcG",
    "outputId": "7419a0f7-0904-4abb-c93c-08e487f4fece"
   },
   "outputs": [
    {
     "data": {
      "text/html": [
       "\n",
       "  <div id=\"df-5bb4fdaf-98a6-423d-aff9-e3fecf4e4b41\">\n",
       "    <div class=\"colab-df-container\">\n",
       "      <div>\n",
       "<style scoped>\n",
       "    .dataframe tbody tr th:only-of-type {\n",
       "        vertical-align: middle;\n",
       "    }\n",
       "\n",
       "    .dataframe tbody tr th {\n",
       "        vertical-align: top;\n",
       "    }\n",
       "\n",
       "    .dataframe thead th {\n",
       "        text-align: right;\n",
       "    }\n",
       "</style>\n",
       "<table border=\"1\" class=\"dataframe\">\n",
       "  <thead>\n",
       "    <tr style=\"text-align: right;\">\n",
       "      <th></th>\n",
       "      <th>subreddit_id</th>\n",
       "      <th>author</th>\n",
       "      <th>body</th>\n",
       "      <th>cleaned_body</th>\n",
       "      <th>race</th>\n",
       "      <th>text_len_norm</th>\n",
       "      <th>text_length</th>\n",
       "      <th>token_text</th>\n",
       "      <th>mean_w2v</th>\n",
       "      <th>ld_mtld</th>\n",
       "      <th>...</th>\n",
       "      <th>RP</th>\n",
       "      <th>RBR</th>\n",
       "      <th>EX</th>\n",
       "      <th>FW</th>\n",
       "      <th>RBS</th>\n",
       "      <th>PDT</th>\n",
       "      <th>UH</th>\n",
       "      <th>$</th>\n",
       "      <th>WP$</th>\n",
       "      <th>LS</th>\n",
       "    </tr>\n",
       "  </thead>\n",
       "  <tbody>\n",
       "    <tr>\n",
       "      <th>0</th>\n",
       "      <td>t5_2rfyw</td>\n",
       "      <td>rightascensi0n</td>\n",
       "      <td>&amp;gt; But retirement is a privilege, often one ...</td>\n",
       "      <td>gt But retirement is a privilege often one tha...</td>\n",
       "      <td>Asian</td>\n",
       "      <td>0.489381</td>\n",
       "      <td>410</td>\n",
       "      <td>['gt', 'but', 'retirement', 'privilege', 'ofte...</td>\n",
       "      <td>0.005923</td>\n",
       "      <td>91.466667</td>\n",
       "      <td>...</td>\n",
       "      <td>0.0</td>\n",
       "      <td>0.0</td>\n",
       "      <td>0.0</td>\n",
       "      <td>0.0</td>\n",
       "      <td>0.0</td>\n",
       "      <td>0.0</td>\n",
       "      <td>0.0</td>\n",
       "      <td>0.0</td>\n",
       "      <td>0.0</td>\n",
       "      <td>0.0</td>\n",
       "    </tr>\n",
       "    <tr>\n",
       "      <th>1</th>\n",
       "      <td>t5_2rfyw</td>\n",
       "      <td>8-Red-8</td>\n",
       "      <td>Singaporean authorities won’t bother you if yo...</td>\n",
       "      <td>Singaporean authorities wont bother you if you...</td>\n",
       "      <td>Asian</td>\n",
       "      <td>-0.216739</td>\n",
       "      <td>186</td>\n",
       "      <td>['singaporean', 'authorities', 'wont', 'bother...</td>\n",
       "      <td>0.061056</td>\n",
       "      <td>31.000000</td>\n",
       "      <td>...</td>\n",
       "      <td>0.0</td>\n",
       "      <td>0.0</td>\n",
       "      <td>0.0</td>\n",
       "      <td>0.0</td>\n",
       "      <td>0.0</td>\n",
       "      <td>0.0</td>\n",
       "      <td>0.0</td>\n",
       "      <td>0.0</td>\n",
       "      <td>0.0</td>\n",
       "      <td>0.0</td>\n",
       "    </tr>\n",
       "    <tr>\n",
       "      <th>2</th>\n",
       "      <td>t5_2rfyw</td>\n",
       "      <td>Jamesv967</td>\n",
       "      <td>Who’s ”they”?</td>\n",
       "      <td>Whos they</td>\n",
       "      <td>Asian</td>\n",
       "      <td>-0.762091</td>\n",
       "      <td>13</td>\n",
       "      <td>['whos']</td>\n",
       "      <td>-0.231994</td>\n",
       "      <td>2.000000</td>\n",
       "      <td>...</td>\n",
       "      <td>0.0</td>\n",
       "      <td>0.0</td>\n",
       "      <td>0.0</td>\n",
       "      <td>0.0</td>\n",
       "      <td>0.0</td>\n",
       "      <td>0.0</td>\n",
       "      <td>0.0</td>\n",
       "      <td>0.0</td>\n",
       "      <td>0.0</td>\n",
       "      <td>0.0</td>\n",
       "    </tr>\n",
       "    <tr>\n",
       "      <th>3</th>\n",
       "      <td>t5_2rfyw</td>\n",
       "      <td>8-Red-8</td>\n",
       "      <td>I’ve been called paranoid for bringing this up...</td>\n",
       "      <td>Ive been called paranoid for bringing this up ...</td>\n",
       "      <td>Asian</td>\n",
       "      <td>0.426334</td>\n",
       "      <td>390</td>\n",
       "      <td>['ive', 'called', 'paranoid', 'bringing', 'too...</td>\n",
       "      <td>0.098805</td>\n",
       "      <td>138.915000</td>\n",
       "      <td>...</td>\n",
       "      <td>0.0</td>\n",
       "      <td>0.0</td>\n",
       "      <td>0.0</td>\n",
       "      <td>0.0</td>\n",
       "      <td>0.0</td>\n",
       "      <td>0.0</td>\n",
       "      <td>0.0</td>\n",
       "      <td>0.0</td>\n",
       "      <td>0.0</td>\n",
       "      <td>0.0</td>\n",
       "    </tr>\n",
       "    <tr>\n",
       "      <th>4</th>\n",
       "      <td>t5_2rfyw</td>\n",
       "      <td>tomatocultivater</td>\n",
       "      <td>I live in the west. We definitely post about this</td>\n",
       "      <td>I live in the west We definitely post about this</td>\n",
       "      <td>Asian</td>\n",
       "      <td>-0.648607</td>\n",
       "      <td>49</td>\n",
       "      <td>['i', 'live', 'west', 'we', 'definitely', 'post']</td>\n",
       "      <td>0.102858</td>\n",
       "      <td>10.000000</td>\n",
       "      <td>...</td>\n",
       "      <td>0.0</td>\n",
       "      <td>0.0</td>\n",
       "      <td>0.0</td>\n",
       "      <td>0.0</td>\n",
       "      <td>0.0</td>\n",
       "      <td>0.0</td>\n",
       "      <td>0.0</td>\n",
       "      <td>0.0</td>\n",
       "      <td>0.0</td>\n",
       "      <td>0.0</td>\n",
       "    </tr>\n",
       "    <tr>\n",
       "      <th>...</th>\n",
       "      <td>...</td>\n",
       "      <td>...</td>\n",
       "      <td>...</td>\n",
       "      <td>...</td>\n",
       "      <td>...</td>\n",
       "      <td>...</td>\n",
       "      <td>...</td>\n",
       "      <td>...</td>\n",
       "      <td>...</td>\n",
       "      <td>...</td>\n",
       "      <td>...</td>\n",
       "      <td>...</td>\n",
       "      <td>...</td>\n",
       "      <td>...</td>\n",
       "      <td>...</td>\n",
       "      <td>...</td>\n",
       "      <td>...</td>\n",
       "      <td>...</td>\n",
       "      <td>...</td>\n",
       "      <td>...</td>\n",
       "      <td>...</td>\n",
       "    </tr>\n",
       "    <tr>\n",
       "      <th>285758</th>\n",
       "      <td>t5_2qr1c</td>\n",
       "      <td>MercilessNDNSavage</td>\n",
       "      <td>I think you clearly missing the picture here i...</td>\n",
       "      <td>I think you clearly missing the picture here i...</td>\n",
       "      <td>Native American</td>\n",
       "      <td>-0.104786</td>\n",
       "      <td>164</td>\n",
       "      <td>['i', 'think', 'clearly', 'missing', 'picture'...</td>\n",
       "      <td>0.000205</td>\n",
       "      <td>43.904000</td>\n",
       "      <td>...</td>\n",
       "      <td>0.0</td>\n",
       "      <td>0.0</td>\n",
       "      <td>0.0</td>\n",
       "      <td>0.0</td>\n",
       "      <td>0.0</td>\n",
       "      <td>0.0</td>\n",
       "      <td>0.0</td>\n",
       "      <td>0.0</td>\n",
       "      <td>0.0</td>\n",
       "      <td>0.0</td>\n",
       "    </tr>\n",
       "    <tr>\n",
       "      <th>285759</th>\n",
       "      <td>t5_2qr1c</td>\n",
       "      <td>viktorbir</td>\n",
       "      <td>Ignorant European here. Did you enter to see i...</td>\n",
       "      <td>Ignorant European here Did you enter to see if...</td>\n",
       "      <td>Native American</td>\n",
       "      <td>0.134972</td>\n",
       "      <td>273</td>\n",
       "      <td>['ignorant', 'european', 'did', 'enter', 'see'...</td>\n",
       "      <td>-0.039741</td>\n",
       "      <td>112.046667</td>\n",
       "      <td>...</td>\n",
       "      <td>0.0</td>\n",
       "      <td>0.0</td>\n",
       "      <td>1.0</td>\n",
       "      <td>0.0</td>\n",
       "      <td>0.0</td>\n",
       "      <td>0.0</td>\n",
       "      <td>0.0</td>\n",
       "      <td>0.0</td>\n",
       "      <td>0.0</td>\n",
       "      <td>0.0</td>\n",
       "    </tr>\n",
       "    <tr>\n",
       "      <th>285760</th>\n",
       "      <td>t5_2qr1c</td>\n",
       "      <td>dogpuck</td>\n",
       "      <td>As a white, metal head, hillbilly guy growing ...</td>\n",
       "      <td>As a white metal head hillbilly guy growing up...</td>\n",
       "      <td>Native American</td>\n",
       "      <td>0.038189</td>\n",
       "      <td>229</td>\n",
       "      <td>['as', 'white', 'metal', 'head', 'hillbilly', ...</td>\n",
       "      <td>0.039579</td>\n",
       "      <td>235.480000</td>\n",
       "      <td>...</td>\n",
       "      <td>1.0</td>\n",
       "      <td>0.0</td>\n",
       "      <td>0.0</td>\n",
       "      <td>0.0</td>\n",
       "      <td>0.0</td>\n",
       "      <td>0.0</td>\n",
       "      <td>0.0</td>\n",
       "      <td>0.0</td>\n",
       "      <td>0.0</td>\n",
       "      <td>0.0</td>\n",
       "    </tr>\n",
       "    <tr>\n",
       "      <th>285761</th>\n",
       "      <td>t5_2qr1c</td>\n",
       "      <td>AutoModerator</td>\n",
       "      <td>Consultation inquiries are frequently asked he...</td>\n",
       "      <td>Consultation inquiries are frequently asked he...</td>\n",
       "      <td>Native American</td>\n",
       "      <td>1.052210</td>\n",
       "      <td>690</td>\n",
       "      <td>['consultation', 'inquiries', 'frequently', 'a...</td>\n",
       "      <td>0.035900</td>\n",
       "      <td>120.960000</td>\n",
       "      <td>...</td>\n",
       "      <td>0.0</td>\n",
       "      <td>0.0</td>\n",
       "      <td>0.0</td>\n",
       "      <td>1.0</td>\n",
       "      <td>0.0</td>\n",
       "      <td>0.0</td>\n",
       "      <td>0.0</td>\n",
       "      <td>0.0</td>\n",
       "      <td>0.0</td>\n",
       "      <td>0.0</td>\n",
       "    </tr>\n",
       "    <tr>\n",
       "      <th>285762</th>\n",
       "      <td>t5_2qr1c</td>\n",
       "      <td>Picachu50000</td>\n",
       "      <td>Only $15k? She deserves much more than that. L...</td>\n",
       "      <td>Only $15k She deserves much more than that Lik...</td>\n",
       "      <td>Native American</td>\n",
       "      <td>-0.326947</td>\n",
       "      <td>63</td>\n",
       "      <td>['only', '$', '15k', 'she', 'deserves', 'much'...</td>\n",
       "      <td>0.096160</td>\n",
       "      <td>40.320000</td>\n",
       "      <td>...</td>\n",
       "      <td>0.0</td>\n",
       "      <td>0.0</td>\n",
       "      <td>0.0</td>\n",
       "      <td>0.0</td>\n",
       "      <td>0.0</td>\n",
       "      <td>0.0</td>\n",
       "      <td>0.0</td>\n",
       "      <td>1.0</td>\n",
       "      <td>0.0</td>\n",
       "      <td>0.0</td>\n",
       "    </tr>\n",
       "  </tbody>\n",
       "</table>\n",
       "<p>1874 rows × 50 columns</p>\n",
       "</div>\n",
       "      <button class=\"colab-df-convert\" onclick=\"convertToInteractive('df-5bb4fdaf-98a6-423d-aff9-e3fecf4e4b41')\"\n",
       "              title=\"Convert this dataframe to an interactive table.\"\n",
       "              style=\"display:none;\">\n",
       "        \n",
       "  <svg xmlns=\"http://www.w3.org/2000/svg\" height=\"24px\"viewBox=\"0 0 24 24\"\n",
       "       width=\"24px\">\n",
       "    <path d=\"M0 0h24v24H0V0z\" fill=\"none\"/>\n",
       "    <path d=\"M18.56 5.44l.94 2.06.94-2.06 2.06-.94-2.06-.94-.94-2.06-.94 2.06-2.06.94zm-11 1L8.5 8.5l.94-2.06 2.06-.94-2.06-.94L8.5 2.5l-.94 2.06-2.06.94zm10 10l.94 2.06.94-2.06 2.06-.94-2.06-.94-.94-2.06-.94 2.06-2.06.94z\"/><path d=\"M17.41 7.96l-1.37-1.37c-.4-.4-.92-.59-1.43-.59-.52 0-1.04.2-1.43.59L10.3 9.45l-7.72 7.72c-.78.78-.78 2.05 0 2.83L4 21.41c.39.39.9.59 1.41.59.51 0 1.02-.2 1.41-.59l7.78-7.78 2.81-2.81c.8-.78.8-2.07 0-2.86zM5.41 20L4 18.59l7.72-7.72 1.47 1.35L5.41 20z\"/>\n",
       "  </svg>\n",
       "      </button>\n",
       "      \n",
       "  <style>\n",
       "    .colab-df-container {\n",
       "      display:flex;\n",
       "      flex-wrap:wrap;\n",
       "      gap: 12px;\n",
       "    }\n",
       "\n",
       "    .colab-df-convert {\n",
       "      background-color: #E8F0FE;\n",
       "      border: none;\n",
       "      border-radius: 50%;\n",
       "      cursor: pointer;\n",
       "      display: none;\n",
       "      fill: #1967D2;\n",
       "      height: 32px;\n",
       "      padding: 0 0 0 0;\n",
       "      width: 32px;\n",
       "    }\n",
       "\n",
       "    .colab-df-convert:hover {\n",
       "      background-color: #E2EBFA;\n",
       "      box-shadow: 0px 1px 2px rgba(60, 64, 67, 0.3), 0px 1px 3px 1px rgba(60, 64, 67, 0.15);\n",
       "      fill: #174EA6;\n",
       "    }\n",
       "\n",
       "    [theme=dark] .colab-df-convert {\n",
       "      background-color: #3B4455;\n",
       "      fill: #D2E3FC;\n",
       "    }\n",
       "\n",
       "    [theme=dark] .colab-df-convert:hover {\n",
       "      background-color: #434B5C;\n",
       "      box-shadow: 0px 1px 3px 1px rgba(0, 0, 0, 0.15);\n",
       "      filter: drop-shadow(0px 1px 2px rgba(0, 0, 0, 0.3));\n",
       "      fill: #FFFFFF;\n",
       "    }\n",
       "  </style>\n",
       "\n",
       "      <script>\n",
       "        const buttonEl =\n",
       "          document.querySelector('#df-5bb4fdaf-98a6-423d-aff9-e3fecf4e4b41 button.colab-df-convert');\n",
       "        buttonEl.style.display =\n",
       "          google.colab.kernel.accessAllowed ? 'block' : 'none';\n",
       "\n",
       "        async function convertToInteractive(key) {\n",
       "          const element = document.querySelector('#df-5bb4fdaf-98a6-423d-aff9-e3fecf4e4b41');\n",
       "          const dataTable =\n",
       "            await google.colab.kernel.invokeFunction('convertToInteractive',\n",
       "                                                     [key], {});\n",
       "          if (!dataTable) return;\n",
       "\n",
       "          const docLinkHtml = 'Like what you see? Visit the ' +\n",
       "            '<a target=\"_blank\" href=https://colab.research.google.com/notebooks/data_table.ipynb>data table notebook</a>'\n",
       "            + ' to learn more about interactive tables.';\n",
       "          element.innerHTML = '';\n",
       "          dataTable['output_type'] = 'display_data';\n",
       "          await google.colab.output.renderOutput(dataTable, element);\n",
       "          const docLink = document.createElement('div');\n",
       "          docLink.innerHTML = docLinkHtml;\n",
       "          element.appendChild(docLink);\n",
       "        }\n",
       "      </script>\n",
       "    </div>\n",
       "  </div>\n",
       "  "
      ],
      "text/plain": [
       "       subreddit_id              author  \\\n",
       "0          t5_2rfyw      rightascensi0n   \n",
       "1          t5_2rfyw             8-Red-8   \n",
       "2          t5_2rfyw           Jamesv967   \n",
       "3          t5_2rfyw             8-Red-8   \n",
       "4          t5_2rfyw    tomatocultivater   \n",
       "...             ...                 ...   \n",
       "285758     t5_2qr1c  MercilessNDNSavage   \n",
       "285759     t5_2qr1c           viktorbir   \n",
       "285760     t5_2qr1c             dogpuck   \n",
       "285761     t5_2qr1c       AutoModerator   \n",
       "285762     t5_2qr1c        Picachu50000   \n",
       "\n",
       "                                                     body  \\\n",
       "0       &gt; But retirement is a privilege, often one ...   \n",
       "1       Singaporean authorities won’t bother you if yo...   \n",
       "2                                           Who’s ”they”?   \n",
       "3       I’ve been called paranoid for bringing this up...   \n",
       "4       I live in the west. We definitely post about this   \n",
       "...                                                   ...   \n",
       "285758  I think you clearly missing the picture here i...   \n",
       "285759  Ignorant European here. Did you enter to see i...   \n",
       "285760  As a white, metal head, hillbilly guy growing ...   \n",
       "285761  Consultation inquiries are frequently asked he...   \n",
       "285762  Only $15k? She deserves much more than that. L...   \n",
       "\n",
       "                                             cleaned_body             race  \\\n",
       "0       gt But retirement is a privilege often one tha...            Asian   \n",
       "1       Singaporean authorities wont bother you if you...            Asian   \n",
       "2                                               Whos they            Asian   \n",
       "3       Ive been called paranoid for bringing this up ...            Asian   \n",
       "4        I live in the west We definitely post about this            Asian   \n",
       "...                                                   ...              ...   \n",
       "285758  I think you clearly missing the picture here i...  Native American   \n",
       "285759  Ignorant European here Did you enter to see if...  Native American   \n",
       "285760  As a white metal head hillbilly guy growing up...  Native American   \n",
       "285761  Consultation inquiries are frequently asked he...  Native American   \n",
       "285762  Only $15k She deserves much more than that Lik...  Native American   \n",
       "\n",
       "        text_len_norm  text_length  \\\n",
       "0            0.489381          410   \n",
       "1           -0.216739          186   \n",
       "2           -0.762091           13   \n",
       "3            0.426334          390   \n",
       "4           -0.648607           49   \n",
       "...               ...          ...   \n",
       "285758      -0.104786          164   \n",
       "285759       0.134972          273   \n",
       "285760       0.038189          229   \n",
       "285761       1.052210          690   \n",
       "285762      -0.326947           63   \n",
       "\n",
       "                                               token_text  mean_w2v  \\\n",
       "0       ['gt', 'but', 'retirement', 'privilege', 'ofte...  0.005923   \n",
       "1       ['singaporean', 'authorities', 'wont', 'bother...  0.061056   \n",
       "2                                                ['whos'] -0.231994   \n",
       "3       ['ive', 'called', 'paranoid', 'bringing', 'too...  0.098805   \n",
       "4       ['i', 'live', 'west', 'we', 'definitely', 'post']  0.102858   \n",
       "...                                                   ...       ...   \n",
       "285758  ['i', 'think', 'clearly', 'missing', 'picture'...  0.000205   \n",
       "285759  ['ignorant', 'european', 'did', 'enter', 'see'... -0.039741   \n",
       "285760  ['as', 'white', 'metal', 'head', 'hillbilly', ...  0.039579   \n",
       "285761  ['consultation', 'inquiries', 'frequently', 'a...  0.035900   \n",
       "285762  ['only', '$', '15k', 'she', 'deserves', 'much'...  0.096160   \n",
       "\n",
       "           ld_mtld  ...   RP  RBR   EX   FW  RBS  PDT   UH    $  WP$   LS  \n",
       "0        91.466667  ...  0.0  0.0  0.0  0.0  0.0  0.0  0.0  0.0  0.0  0.0  \n",
       "1        31.000000  ...  0.0  0.0  0.0  0.0  0.0  0.0  0.0  0.0  0.0  0.0  \n",
       "2         2.000000  ...  0.0  0.0  0.0  0.0  0.0  0.0  0.0  0.0  0.0  0.0  \n",
       "3       138.915000  ...  0.0  0.0  0.0  0.0  0.0  0.0  0.0  0.0  0.0  0.0  \n",
       "4        10.000000  ...  0.0  0.0  0.0  0.0  0.0  0.0  0.0  0.0  0.0  0.0  \n",
       "...            ...  ...  ...  ...  ...  ...  ...  ...  ...  ...  ...  ...  \n",
       "285758   43.904000  ...  0.0  0.0  0.0  0.0  0.0  0.0  0.0  0.0  0.0  0.0  \n",
       "285759  112.046667  ...  0.0  0.0  1.0  0.0  0.0  0.0  0.0  0.0  0.0  0.0  \n",
       "285760  235.480000  ...  1.0  0.0  0.0  0.0  0.0  0.0  0.0  0.0  0.0  0.0  \n",
       "285761  120.960000  ...  0.0  0.0  0.0  1.0  0.0  0.0  0.0  0.0  0.0  0.0  \n",
       "285762   40.320000  ...  0.0  0.0  0.0  0.0  0.0  0.0  0.0  1.0  0.0  0.0  \n",
       "\n",
       "[1874 rows x 50 columns]"
      ]
     },
     "execution_count": 10,
     "metadata": {},
     "output_type": "execute_result"
    }
   ],
   "source": [
    "race.drop_duplicates(subset=['body'], keep='first')"
   ]
  },
  {
   "cell_type": "code",
   "execution_count": null,
   "metadata": {
    "id": "4enth9IQNlrU"
   },
   "outputs": [],
   "source": [
    "race = race.sample(frac = 1)"
   ]
  },
  {
   "cell_type": "code",
   "execution_count": null,
   "metadata": {
    "colab": {
     "base_uri": "https://localhost:8080/",
     "height": 1000
    },
    "executionInfo": {
     "elapsed": 17,
     "status": "ok",
     "timestamp": 1681918386136,
     "user": {
      "displayName": "Madison Melton",
      "userId": "16522916168467104913"
     },
     "user_tz": 240
    },
    "id": "eDq-2KDjZdgY",
    "outputId": "9edee6ac-cb5a-456e-d7d9-27eff2a2134a"
   },
   "outputs": [
    {
     "data": {
      "text/html": [
       "\n",
       "  <div id=\"df-dcb94dde-2231-4908-a47e-76c3c03ba31d\">\n",
       "    <div class=\"colab-df-container\">\n",
       "      <div>\n",
       "<style scoped>\n",
       "    .dataframe tbody tr th:only-of-type {\n",
       "        vertical-align: middle;\n",
       "    }\n",
       "\n",
       "    .dataframe tbody tr th {\n",
       "        vertical-align: top;\n",
       "    }\n",
       "\n",
       "    .dataframe thead th {\n",
       "        text-align: right;\n",
       "    }\n",
       "</style>\n",
       "<table border=\"1\" class=\"dataframe\">\n",
       "  <thead>\n",
       "    <tr style=\"text-align: right;\">\n",
       "      <th></th>\n",
       "      <th>subreddit_id</th>\n",
       "      <th>author</th>\n",
       "      <th>body</th>\n",
       "      <th>cleaned_body</th>\n",
       "      <th>race</th>\n",
       "      <th>text_len_norm</th>\n",
       "      <th>text_length</th>\n",
       "      <th>token_text</th>\n",
       "      <th>mean_w2v</th>\n",
       "      <th>ld_mtld</th>\n",
       "      <th>...</th>\n",
       "      <th>RP</th>\n",
       "      <th>RBR</th>\n",
       "      <th>EX</th>\n",
       "      <th>FW</th>\n",
       "      <th>RBS</th>\n",
       "      <th>PDT</th>\n",
       "      <th>UH</th>\n",
       "      <th>$</th>\n",
       "      <th>WP$</th>\n",
       "      <th>LS</th>\n",
       "    </tr>\n",
       "  </thead>\n",
       "  <tbody>\n",
       "    <tr>\n",
       "      <th>335569</th>\n",
       "      <td>t5_2qr1c</td>\n",
       "      <td>The_Linguist_LL</td>\n",
       "      <td>Her name: Lucinda Hinojos (La Morena)\\nShe's p...</td>\n",
       "      <td>Her name Lucinda Hinojos La Morena Shes proud ...</td>\n",
       "      <td>Native American</td>\n",
       "      <td>1.135795</td>\n",
       "      <td>728</td>\n",
       "      <td>['her', 'name', 'lucinda', 'hinojos', 'la', 'm...</td>\n",
       "      <td>0.103809</td>\n",
       "      <td>132.419259</td>\n",
       "      <td>...</td>\n",
       "      <td>0.0</td>\n",
       "      <td>0.0</td>\n",
       "      <td>0.0</td>\n",
       "      <td>0.0</td>\n",
       "      <td>0.0</td>\n",
       "      <td>0.0</td>\n",
       "      <td>0.0</td>\n",
       "      <td>0.0</td>\n",
       "      <td>0.0</td>\n",
       "      <td>0.0</td>\n",
       "    </tr>\n",
       "    <tr>\n",
       "      <th>35110</th>\n",
       "      <td>t5_2rfyw</td>\n",
       "      <td>alacp1234</td>\n",
       "      <td>You’d like Past Lives, saw it at Sundance and ...</td>\n",
       "      <td>Youd like Past Lives saw it at Sundance and it...</td>\n",
       "      <td>Asian</td>\n",
       "      <td>-0.453163</td>\n",
       "      <td>111</td>\n",
       "      <td>['youd', 'like', 'past', 'lives', 'saw', 'sund...</td>\n",
       "      <td>-0.080349</td>\n",
       "      <td>74.060000</td>\n",
       "      <td>...</td>\n",
       "      <td>0.0</td>\n",
       "      <td>0.0</td>\n",
       "      <td>0.0</td>\n",
       "      <td>0.0</td>\n",
       "      <td>0.0</td>\n",
       "      <td>0.0</td>\n",
       "      <td>0.0</td>\n",
       "      <td>0.0</td>\n",
       "      <td>0.0</td>\n",
       "      <td>0.0</td>\n",
       "    </tr>\n",
       "    <tr>\n",
       "      <th>143662</th>\n",
       "      <td>t5_2r81q</td>\n",
       "      <td>ChrispyChicken95</td>\n",
       "      <td>Yep finally someone said it</td>\n",
       "      <td>Yep finally someone said it</td>\n",
       "      <td>Black</td>\n",
       "      <td>-0.590696</td>\n",
       "      <td>27</td>\n",
       "      <td>['yep', 'finally', 'someone', 'said']</td>\n",
       "      <td>0.021559</td>\n",
       "      <td>5.000000</td>\n",
       "      <td>...</td>\n",
       "      <td>0.0</td>\n",
       "      <td>0.0</td>\n",
       "      <td>0.0</td>\n",
       "      <td>0.0</td>\n",
       "      <td>0.0</td>\n",
       "      <td>0.0</td>\n",
       "      <td>0.0</td>\n",
       "      <td>0.0</td>\n",
       "      <td>0.0</td>\n",
       "      <td>0.0</td>\n",
       "    </tr>\n",
       "    <tr>\n",
       "      <th>245295</th>\n",
       "      <td>t5_2rfz1</td>\n",
       "      <td>nutmeg_griffin</td>\n",
       "      <td>Nilla</td>\n",
       "      <td>Nilla</td>\n",
       "      <td>White</td>\n",
       "      <td>-0.575336</td>\n",
       "      <td>5</td>\n",
       "      <td>['nilla']</td>\n",
       "      <td>0.000511</td>\n",
       "      <td>1.000000</td>\n",
       "      <td>...</td>\n",
       "      <td>0.0</td>\n",
       "      <td>0.0</td>\n",
       "      <td>0.0</td>\n",
       "      <td>0.0</td>\n",
       "      <td>0.0</td>\n",
       "      <td>0.0</td>\n",
       "      <td>0.0</td>\n",
       "      <td>0.0</td>\n",
       "      <td>0.0</td>\n",
       "      <td>0.0</td>\n",
       "    </tr>\n",
       "    <tr>\n",
       "      <th>85541</th>\n",
       "      <td>t5_2rfyw</td>\n",
       "      <td>Optimal-Emergency-38</td>\n",
       "      <td>I’m not gonna lie. Just from my anecdotal expe...</td>\n",
       "      <td>Im not gonna lie Just from my anecdotal experi...</td>\n",
       "      <td>Asian</td>\n",
       "      <td>0.177301</td>\n",
       "      <td>311</td>\n",
       "      <td>['im', 'gon', 'na', 'lie', 'just', 'anecdotal'...</td>\n",
       "      <td>0.059027</td>\n",
       "      <td>121.835000</td>\n",
       "      <td>...</td>\n",
       "      <td>1.0</td>\n",
       "      <td>0.0</td>\n",
       "      <td>0.0</td>\n",
       "      <td>0.0</td>\n",
       "      <td>0.0</td>\n",
       "      <td>0.0</td>\n",
       "      <td>0.0</td>\n",
       "      <td>0.0</td>\n",
       "      <td>0.0</td>\n",
       "      <td>0.0</td>\n",
       "    </tr>\n",
       "    <tr>\n",
       "      <th>...</th>\n",
       "      <td>...</td>\n",
       "      <td>...</td>\n",
       "      <td>...</td>\n",
       "      <td>...</td>\n",
       "      <td>...</td>\n",
       "      <td>...</td>\n",
       "      <td>...</td>\n",
       "      <td>...</td>\n",
       "      <td>...</td>\n",
       "      <td>...</td>\n",
       "      <td>...</td>\n",
       "      <td>...</td>\n",
       "      <td>...</td>\n",
       "      <td>...</td>\n",
       "      <td>...</td>\n",
       "      <td>...</td>\n",
       "      <td>...</td>\n",
       "      <td>...</td>\n",
       "      <td>...</td>\n",
       "      <td>...</td>\n",
       "      <td>...</td>\n",
       "    </tr>\n",
       "    <tr>\n",
       "      <th>83884</th>\n",
       "      <td>t5_2rfyw</td>\n",
       "      <td>bunbun8</td>\n",
       "      <td>If you view your relation to the US strictly o...</td>\n",
       "      <td>If you view your relation to the US strictly o...</td>\n",
       "      <td>Asian</td>\n",
       "      <td>0.420030</td>\n",
       "      <td>388</td>\n",
       "      <td>['if', 'view', 'relation', 'us', 'strictly', '...</td>\n",
       "      <td>0.013514</td>\n",
       "      <td>169.000000</td>\n",
       "      <td>...</td>\n",
       "      <td>0.0</td>\n",
       "      <td>0.0</td>\n",
       "      <td>0.0</td>\n",
       "      <td>0.0</td>\n",
       "      <td>0.0</td>\n",
       "      <td>0.0</td>\n",
       "      <td>0.0</td>\n",
       "      <td>0.0</td>\n",
       "      <td>0.0</td>\n",
       "      <td>0.0</td>\n",
       "    </tr>\n",
       "    <tr>\n",
       "      <th>204082</th>\n",
       "      <td>t5_2rfz1</td>\n",
       "      <td>neeksknowsbest</td>\n",
       "      <td>Post a video of you Karen-ing all over some ha...</td>\n",
       "      <td>Post a video of you Karening all over some hap...</td>\n",
       "      <td>White</td>\n",
       "      <td>-0.078567</td>\n",
       "      <td>138</td>\n",
       "      <td>['post', 'video', 'karening', 'hapless', 'cust...</td>\n",
       "      <td>0.099163</td>\n",
       "      <td>23.000000</td>\n",
       "      <td>...</td>\n",
       "      <td>0.0</td>\n",
       "      <td>0.0</td>\n",
       "      <td>0.0</td>\n",
       "      <td>0.0</td>\n",
       "      <td>0.0</td>\n",
       "      <td>0.0</td>\n",
       "      <td>0.0</td>\n",
       "      <td>0.0</td>\n",
       "      <td>0.0</td>\n",
       "      <td>0.0</td>\n",
       "    </tr>\n",
       "    <tr>\n",
       "      <th>161867</th>\n",
       "      <td>t5_2r81q</td>\n",
       "      <td>Mace-Window_777</td>\n",
       "      <td>Until we crowd fund our own studios and crowd ...</td>\n",
       "      <td>Until we crowd fund our own studios and crowd ...</td>\n",
       "      <td>Black</td>\n",
       "      <td>-0.210754</td>\n",
       "      <td>292</td>\n",
       "      <td>['until', 'crowd', 'fund', 'studios', 'crowd',...</td>\n",
       "      <td>-0.111445</td>\n",
       "      <td>43.925373</td>\n",
       "      <td>...</td>\n",
       "      <td>0.0</td>\n",
       "      <td>0.0</td>\n",
       "      <td>0.0</td>\n",
       "      <td>0.0</td>\n",
       "      <td>0.0</td>\n",
       "      <td>0.0</td>\n",
       "      <td>0.0</td>\n",
       "      <td>0.0</td>\n",
       "      <td>0.0</td>\n",
       "      <td>0.0</td>\n",
       "    </tr>\n",
       "    <tr>\n",
       "      <th>31955</th>\n",
       "      <td>t5_2rfyw</td>\n",
       "      <td>Ok-Value5827</td>\n",
       "      <td>I feel less targeted, but not safer. With all ...</td>\n",
       "      <td>I feel less targeted but not safer With all th...</td>\n",
       "      <td>Asian</td>\n",
       "      <td>-0.409031</td>\n",
       "      <td>125</td>\n",
       "      <td>['i', 'feel', 'less', 'targeted', 'safer', 'wi...</td>\n",
       "      <td>-0.051132</td>\n",
       "      <td>80.640000</td>\n",
       "      <td>...</td>\n",
       "      <td>0.0</td>\n",
       "      <td>0.0</td>\n",
       "      <td>0.0</td>\n",
       "      <td>0.0</td>\n",
       "      <td>0.0</td>\n",
       "      <td>1.0</td>\n",
       "      <td>0.0</td>\n",
       "      <td>0.0</td>\n",
       "      <td>0.0</td>\n",
       "      <td>0.0</td>\n",
       "    </tr>\n",
       "    <tr>\n",
       "      <th>35880</th>\n",
       "      <td>t5_2rfyw</td>\n",
       "      <td>Morbidhanson</td>\n",
       "      <td>Nope. Food here is great, people are generally...</td>\n",
       "      <td>Nope Food here is great people are generally c...</td>\n",
       "      <td>Asian</td>\n",
       "      <td>-0.352289</td>\n",
       "      <td>143</td>\n",
       "      <td>['nope', 'food', 'great', 'people', 'generally...</td>\n",
       "      <td>0.016218</td>\n",
       "      <td>27.000000</td>\n",
       "      <td>...</td>\n",
       "      <td>0.0</td>\n",
       "      <td>0.0</td>\n",
       "      <td>0.0</td>\n",
       "      <td>0.0</td>\n",
       "      <td>0.0</td>\n",
       "      <td>0.0</td>\n",
       "      <td>0.0</td>\n",
       "      <td>0.0</td>\n",
       "      <td>0.0</td>\n",
       "      <td>0.0</td>\n",
       "    </tr>\n",
       "  </tbody>\n",
       "</table>\n",
       "<p>382563 rows × 50 columns</p>\n",
       "</div>\n",
       "      <button class=\"colab-df-convert\" onclick=\"convertToInteractive('df-dcb94dde-2231-4908-a47e-76c3c03ba31d')\"\n",
       "              title=\"Convert this dataframe to an interactive table.\"\n",
       "              style=\"display:none;\">\n",
       "        \n",
       "  <svg xmlns=\"http://www.w3.org/2000/svg\" height=\"24px\"viewBox=\"0 0 24 24\"\n",
       "       width=\"24px\">\n",
       "    <path d=\"M0 0h24v24H0V0z\" fill=\"none\"/>\n",
       "    <path d=\"M18.56 5.44l.94 2.06.94-2.06 2.06-.94-2.06-.94-.94-2.06-.94 2.06-2.06.94zm-11 1L8.5 8.5l.94-2.06 2.06-.94-2.06-.94L8.5 2.5l-.94 2.06-2.06.94zm10 10l.94 2.06.94-2.06 2.06-.94-2.06-.94-.94-2.06-.94 2.06-2.06.94z\"/><path d=\"M17.41 7.96l-1.37-1.37c-.4-.4-.92-.59-1.43-.59-.52 0-1.04.2-1.43.59L10.3 9.45l-7.72 7.72c-.78.78-.78 2.05 0 2.83L4 21.41c.39.39.9.59 1.41.59.51 0 1.02-.2 1.41-.59l7.78-7.78 2.81-2.81c.8-.78.8-2.07 0-2.86zM5.41 20L4 18.59l7.72-7.72 1.47 1.35L5.41 20z\"/>\n",
       "  </svg>\n",
       "      </button>\n",
       "      \n",
       "  <style>\n",
       "    .colab-df-container {\n",
       "      display:flex;\n",
       "      flex-wrap:wrap;\n",
       "      gap: 12px;\n",
       "    }\n",
       "\n",
       "    .colab-df-convert {\n",
       "      background-color: #E8F0FE;\n",
       "      border: none;\n",
       "      border-radius: 50%;\n",
       "      cursor: pointer;\n",
       "      display: none;\n",
       "      fill: #1967D2;\n",
       "      height: 32px;\n",
       "      padding: 0 0 0 0;\n",
       "      width: 32px;\n",
       "    }\n",
       "\n",
       "    .colab-df-convert:hover {\n",
       "      background-color: #E2EBFA;\n",
       "      box-shadow: 0px 1px 2px rgba(60, 64, 67, 0.3), 0px 1px 3px 1px rgba(60, 64, 67, 0.15);\n",
       "      fill: #174EA6;\n",
       "    }\n",
       "\n",
       "    [theme=dark] .colab-df-convert {\n",
       "      background-color: #3B4455;\n",
       "      fill: #D2E3FC;\n",
       "    }\n",
       "\n",
       "    [theme=dark] .colab-df-convert:hover {\n",
       "      background-color: #434B5C;\n",
       "      box-shadow: 0px 1px 3px 1px rgba(0, 0, 0, 0.15);\n",
       "      filter: drop-shadow(0px 1px 2px rgba(0, 0, 0, 0.3));\n",
       "      fill: #FFFFFF;\n",
       "    }\n",
       "  </style>\n",
       "\n",
       "      <script>\n",
       "        const buttonEl =\n",
       "          document.querySelector('#df-dcb94dde-2231-4908-a47e-76c3c03ba31d button.colab-df-convert');\n",
       "        buttonEl.style.display =\n",
       "          google.colab.kernel.accessAllowed ? 'block' : 'none';\n",
       "\n",
       "        async function convertToInteractive(key) {\n",
       "          const element = document.querySelector('#df-dcb94dde-2231-4908-a47e-76c3c03ba31d');\n",
       "          const dataTable =\n",
       "            await google.colab.kernel.invokeFunction('convertToInteractive',\n",
       "                                                     [key], {});\n",
       "          if (!dataTable) return;\n",
       "\n",
       "          const docLinkHtml = 'Like what you see? Visit the ' +\n",
       "            '<a target=\"_blank\" href=https://colab.research.google.com/notebooks/data_table.ipynb>data table notebook</a>'\n",
       "            + ' to learn more about interactive tables.';\n",
       "          element.innerHTML = '';\n",
       "          dataTable['output_type'] = 'display_data';\n",
       "          await google.colab.output.renderOutput(dataTable, element);\n",
       "          const docLink = document.createElement('div');\n",
       "          docLink.innerHTML = docLinkHtml;\n",
       "          element.appendChild(docLink);\n",
       "        }\n",
       "      </script>\n",
       "    </div>\n",
       "  </div>\n",
       "  "
      ],
      "text/plain": [
       "       subreddit_id                author  \\\n",
       "335569     t5_2qr1c       The_Linguist_LL   \n",
       "35110      t5_2rfyw             alacp1234   \n",
       "143662     t5_2r81q      ChrispyChicken95   \n",
       "245295     t5_2rfz1        nutmeg_griffin   \n",
       "85541      t5_2rfyw  Optimal-Emergency-38   \n",
       "...             ...                   ...   \n",
       "83884      t5_2rfyw               bunbun8   \n",
       "204082     t5_2rfz1        neeksknowsbest   \n",
       "161867     t5_2r81q       Mace-Window_777   \n",
       "31955      t5_2rfyw          Ok-Value5827   \n",
       "35880      t5_2rfyw          Morbidhanson   \n",
       "\n",
       "                                                     body  \\\n",
       "335569  Her name: Lucinda Hinojos (La Morena)\\nShe's p...   \n",
       "35110   You’d like Past Lives, saw it at Sundance and ...   \n",
       "143662                        Yep finally someone said it   \n",
       "245295                                              Nilla   \n",
       "85541   I’m not gonna lie. Just from my anecdotal expe...   \n",
       "...                                                   ...   \n",
       "83884   If you view your relation to the US strictly o...   \n",
       "204082  Post a video of you Karen-ing all over some ha...   \n",
       "161867  Until we crowd fund our own studios and crowd ...   \n",
       "31955   I feel less targeted, but not safer. With all ...   \n",
       "35880   Nope. Food here is great, people are generally...   \n",
       "\n",
       "                                             cleaned_body             race  \\\n",
       "335569  Her name Lucinda Hinojos La Morena Shes proud ...  Native American   \n",
       "35110   Youd like Past Lives saw it at Sundance and it...            Asian   \n",
       "143662                        Yep finally someone said it            Black   \n",
       "245295                                              Nilla            White   \n",
       "85541   Im not gonna lie Just from my anecdotal experi...            Asian   \n",
       "...                                                   ...              ...   \n",
       "83884   If you view your relation to the US strictly o...            Asian   \n",
       "204082  Post a video of you Karening all over some hap...            White   \n",
       "161867  Until we crowd fund our own studios and crowd ...            Black   \n",
       "31955   I feel less targeted but not safer With all th...            Asian   \n",
       "35880   Nope Food here is great people are generally c...            Asian   \n",
       "\n",
       "        text_len_norm  text_length  \\\n",
       "335569       1.135795          728   \n",
       "35110       -0.453163          111   \n",
       "143662      -0.590696           27   \n",
       "245295      -0.575336            5   \n",
       "85541        0.177301          311   \n",
       "...               ...          ...   \n",
       "83884        0.420030          388   \n",
       "204082      -0.078567          138   \n",
       "161867      -0.210754          292   \n",
       "31955       -0.409031          125   \n",
       "35880       -0.352289          143   \n",
       "\n",
       "                                               token_text  mean_w2v  \\\n",
       "335569  ['her', 'name', 'lucinda', 'hinojos', 'la', 'm...  0.103809   \n",
       "35110   ['youd', 'like', 'past', 'lives', 'saw', 'sund... -0.080349   \n",
       "143662              ['yep', 'finally', 'someone', 'said']  0.021559   \n",
       "245295                                          ['nilla']  0.000511   \n",
       "85541   ['im', 'gon', 'na', 'lie', 'just', 'anecdotal'...  0.059027   \n",
       "...                                                   ...       ...   \n",
       "83884   ['if', 'view', 'relation', 'us', 'strictly', '...  0.013514   \n",
       "204082  ['post', 'video', 'karening', 'hapless', 'cust...  0.099163   \n",
       "161867  ['until', 'crowd', 'fund', 'studios', 'crowd',... -0.111445   \n",
       "31955   ['i', 'feel', 'less', 'targeted', 'safer', 'wi... -0.051132   \n",
       "35880   ['nope', 'food', 'great', 'people', 'generally...  0.016218   \n",
       "\n",
       "           ld_mtld  ...   RP  RBR   EX   FW  RBS  PDT   UH    $  WP$   LS  \n",
       "335569  132.419259  ...  0.0  0.0  0.0  0.0  0.0  0.0  0.0  0.0  0.0  0.0  \n",
       "35110    74.060000  ...  0.0  0.0  0.0  0.0  0.0  0.0  0.0  0.0  0.0  0.0  \n",
       "143662    5.000000  ...  0.0  0.0  0.0  0.0  0.0  0.0  0.0  0.0  0.0  0.0  \n",
       "245295    1.000000  ...  0.0  0.0  0.0  0.0  0.0  0.0  0.0  0.0  0.0  0.0  \n",
       "85541   121.835000  ...  1.0  0.0  0.0  0.0  0.0  0.0  0.0  0.0  0.0  0.0  \n",
       "...            ...  ...  ...  ...  ...  ...  ...  ...  ...  ...  ...  ...  \n",
       "83884   169.000000  ...  0.0  0.0  0.0  0.0  0.0  0.0  0.0  0.0  0.0  0.0  \n",
       "204082   23.000000  ...  0.0  0.0  0.0  0.0  0.0  0.0  0.0  0.0  0.0  0.0  \n",
       "161867   43.925373  ...  0.0  0.0  0.0  0.0  0.0  0.0  0.0  0.0  0.0  0.0  \n",
       "31955    80.640000  ...  0.0  0.0  0.0  0.0  0.0  1.0  0.0  0.0  0.0  0.0  \n",
       "35880    27.000000  ...  0.0  0.0  0.0  0.0  0.0  0.0  0.0  0.0  0.0  0.0  \n",
       "\n",
       "[382563 rows x 50 columns]"
      ]
     },
     "metadata": {},
     "output_type": "display_data"
    }
   ],
   "source": [
    "# Displaying final processed dataset\n",
    "display(race)"
   ]
  },
  {
   "cell_type": "markdown",
   "metadata": {
    "id": "BZOnaxJfLaBt"
   },
   "source": [
    "In the below cell, the sentiment_scores features is seperated into positive, negative, and neutral sentiment scores. "
   ]
  },
  {
   "cell_type": "code",
   "execution_count": null,
   "metadata": {
    "id": "zUx7QD-Pd0Na"
   },
   "outputs": [],
   "source": [
    "race['pos_sent'] = race['sentiment_scores'].apply(lambda row: glom(literal_eval(row), 'pos'))\n",
    "race['neg_sent'] = race['sentiment_scores'].apply(lambda row: glom(literal_eval(row), 'neg'))\n",
    "race['neu_sent'] = race['sentiment_scores'].apply(lambda row: glom(literal_eval(row), 'neu'))"
   ]
  },
  {
   "cell_type": "markdown",
   "metadata": {
    "id": "thyZtaamLzyI"
   },
   "source": [
    "We can see from this cell that sentiment_scores has been replaced with pos_sent, neg_sent, and neu_sent."
   ]
  },
  {
   "cell_type": "code",
   "execution_count": null,
   "metadata": {
    "colab": {
     "base_uri": "https://localhost:8080/"
    },
    "executionInfo": {
     "elapsed": 23,
     "status": "ok",
     "timestamp": 1681918479950,
     "user": {
      "displayName": "Madison Melton",
      "userId": "16522916168467104913"
     },
     "user_tz": 240
    },
    "id": "Vil35xVxfLRe",
    "outputId": "d670e81a-96f4-487d-ff7b-6797badd302a"
   },
   "outputs": [
    {
     "name": "stdout",
     "output_type": "stream",
     "text": [
      "Index(['subreddit_id', 'author', 'body', 'cleaned_body', 'race',\n",
      "       'text_len_norm', 'text_length', 'token_text', 'mean_w2v', 'ld_mtld',\n",
      "       'ld_maas', 'ld_hdd', 'sentiment_scores', 'syllable_count',\n",
      "       'percent_diff_words', 'NN', 'CC', 'VBZ', 'DT', 'RB', 'CD', 'WDT', 'JJ',\n",
      "       'NNS', 'IN', 'PRP$', 'NNP', 'VBN', 'TO', 'VBG', 'WP', 'WRB', 'VBD',\n",
      "       'NNPS', 'VBP', 'JJS', 'PRP', 'VB', 'JJR', 'MD', 'RP', 'RBR', 'EX', 'FW',\n",
      "       'RBS', 'PDT', 'UH', '$', 'WP$', 'LS', 'pos_sent', 'neg_sent',\n",
      "       'neu_sent'],\n",
      "      dtype='object')\n"
     ]
    }
   ],
   "source": [
    "print(race.columns)"
   ]
  },
  {
   "cell_type": "code",
   "execution_count": null,
   "metadata": {
    "id": "fFTmXuyaN4NR"
   },
   "outputs": [],
   "source": [
    "race.dropna(subset=['percent_diff_words'], inplace=True)\n",
    "race.dropna(subset=['ld_maas'], inplace=True)"
   ]
  },
  {
   "cell_type": "code",
   "execution_count": null,
   "metadata": {
    "id": "Eidp9sq5N_92"
   },
   "outputs": [],
   "source": [
    "race.drop('sentiment_scores', inplace=True, axis=1)"
   ]
  },
  {
   "cell_type": "code",
   "execution_count": null,
   "metadata": {
    "colab": {
     "base_uri": "https://localhost:8080/"
    },
    "executionInfo": {
     "elapsed": 30,
     "status": "ok",
     "timestamp": 1681918480727,
     "user": {
      "displayName": "Madison Melton",
      "userId": "16522916168467104913"
     },
     "user_tz": 240
    },
    "id": "9H5bl4OaOX0C",
    "outputId": "dc784cd1-0117-483b-c8bb-f5b9aa07aeb1"
   },
   "outputs": [
    {
     "name": "stdout",
     "output_type": "stream",
     "text": [
      "Index(['subreddit_id', 'author', 'body', 'cleaned_body', 'race',\n",
      "       'text_len_norm', 'text_length', 'token_text', 'mean_w2v', 'ld_mtld',\n",
      "       'ld_maas', 'ld_hdd', 'syllable_count', 'percent_diff_words', 'NN', 'CC',\n",
      "       'VBZ', 'DT', 'RB', 'CD', 'WDT', 'JJ', 'NNS', 'IN', 'PRP$', 'NNP', 'VBN',\n",
      "       'TO', 'VBG', 'WP', 'WRB', 'VBD', 'NNPS', 'VBP', 'JJS', 'PRP', 'VB',\n",
      "       'JJR', 'MD', 'RP', 'RBR', 'EX', 'FW', 'RBS', 'PDT', 'UH', '$', 'WP$',\n",
      "       'LS', 'pos_sent', 'neg_sent', 'neu_sent'],\n",
      "      dtype='object')\n"
     ]
    }
   ],
   "source": [
    "print(race.columns)"
   ]
  },
  {
   "cell_type": "code",
   "execution_count": null,
   "metadata": {
    "colab": {
     "base_uri": "https://localhost:8080/"
    },
    "executionInfo": {
     "elapsed": 26,
     "status": "ok",
     "timestamp": 1681918480729,
     "user": {
      "displayName": "Madison Melton",
      "userId": "16522916168467104913"
     },
     "user_tz": 240
    },
    "id": "kjYGFqu3YGUj",
    "outputId": "a98a03e5-c492-451d-dedd-cd9ee0938762"
   },
   "outputs": [
    {
     "name": "stdout",
     "output_type": "stream",
     "text": [
      "369494\n"
     ]
    }
   ],
   "source": [
    "race.reset_index(inplace=True, drop=True)\n",
    "print(len(race))"
   ]
  },
  {
   "cell_type": "markdown",
   "metadata": {
    "id": "6V3cIDLAJySQ"
   },
   "source": [
    "Below, the altered dataframe is saved as \"race_data.csv\""
   ]
  },
  {
   "cell_type": "code",
   "execution_count": null,
   "metadata": {
    "id": "oC1PzwS0OZyX"
   },
   "outputs": [],
   "source": [
    "race.to_csv(\"/DATA/Processed/race_data.csv\", index=False)"
   ]
  },
  {
   "cell_type": "code",
   "execution_count": null,
   "metadata": {
    "id": "qE-oVjIzcwAd"
   },
   "outputs": [],
   "source": [
    "X = race[['text_len_norm', 'mean_w2v', 'ld_mtld',\n",
    "       'ld_maas', 'ld_hdd', 'syllable_count', 'percent_diff_words', 'NN', 'CC',\n",
    "       'VBZ', 'DT', 'RB', 'CD', 'WDT', 'JJ', 'NNS', 'IN', 'PRP$', 'NNP', 'VBN',\n",
    "       'TO', 'VBG', 'WP', 'WRB', 'VBD', 'NNPS', 'VBP', 'JJS', 'PRP', 'VB',\n",
    "       'JJR', 'MD', 'RP', 'RBR', 'EX', 'FW', 'RBS', 'PDT', 'UH', '$', 'WP$',\n",
    "       'LS', 'pos_sent', 'neg_sent', 'neu_sent']]"
   ]
  },
  {
   "cell_type": "code",
   "execution_count": null,
   "metadata": {
    "id": "tuMe9RbOFEiJ"
   },
   "outputs": [],
   "source": [
    "Y = race[['race']]"
   ]
  },
  {
   "cell_type": "code",
   "execution_count": null,
   "metadata": {
    "colab": {
     "base_uri": "https://localhost:8080/"
    },
    "executionInfo": {
     "elapsed": 24,
     "status": "ok",
     "timestamp": 1681918517875,
     "user": {
      "displayName": "Madison Melton",
      "userId": "16522916168467104913"
     },
     "user_tz": 240
    },
    "id": "3IPaxM3NgAQG",
    "outputId": "0410b450-7ce6-45f6-8588-f0d11b044473"
   },
   "outputs": [
    {
     "data": {
      "text/plain": [
       "text_len_norm         False\n",
       "mean_w2v              False\n",
       "ld_mtld               False\n",
       "ld_maas               False\n",
       "ld_hdd                False\n",
       "syllable_count        False\n",
       "percent_diff_words    False\n",
       "NN                    False\n",
       "CC                    False\n",
       "VBZ                   False\n",
       "DT                    False\n",
       "RB                    False\n",
       "CD                    False\n",
       "WDT                   False\n",
       "JJ                    False\n",
       "NNS                   False\n",
       "IN                    False\n",
       "PRP$                  False\n",
       "NNP                   False\n",
       "VBN                   False\n",
       "TO                    False\n",
       "VBG                   False\n",
       "WP                    False\n",
       "WRB                   False\n",
       "VBD                   False\n",
       "NNPS                  False\n",
       "VBP                   False\n",
       "JJS                   False\n",
       "PRP                   False\n",
       "VB                    False\n",
       "JJR                   False\n",
       "MD                    False\n",
       "RP                    False\n",
       "RBR                   False\n",
       "EX                    False\n",
       "FW                    False\n",
       "RBS                   False\n",
       "PDT                   False\n",
       "UH                    False\n",
       "$                     False\n",
       "WP$                   False\n",
       "LS                    False\n",
       "pos_sent              False\n",
       "neg_sent              False\n",
       "neu_sent              False\n",
       "dtype: bool"
      ]
     },
     "execution_count": 22,
     "metadata": {},
     "output_type": "execute_result"
    }
   ],
   "source": [
    "X.isnull().any()"
   ]
  },
  {
   "cell_type": "code",
   "execution_count": null,
   "metadata": {
    "colab": {
     "base_uri": "https://localhost:8080/"
    },
    "executionInfo": {
     "elapsed": 20,
     "status": "ok",
     "timestamp": 1681918517876,
     "user": {
      "displayName": "Madison Melton",
      "userId": "16522916168467104913"
     },
     "user_tz": 240
    },
    "id": "kUn-U4prMna9",
    "outputId": "8dbc63b6-e516-4cda-e659-dbfa4d4e2036"
   },
   "outputs": [
    {
     "data": {
      "text/plain": [
       "array([['Native American'],\n",
       "       ['Asian'],\n",
       "       ['Black'],\n",
       "       ...,\n",
       "       ['Black'],\n",
       "       ['Asian'],\n",
       "       ['Asian']], dtype=object)"
      ]
     },
     "execution_count": 23,
     "metadata": {},
     "output_type": "execute_result"
    }
   ],
   "source": [
    "X.to_numpy()\n",
    "Y.to_numpy()"
   ]
  },
  {
   "cell_type": "markdown",
   "metadata": {
    "id": "eR4ICAxZMsvw"
   },
   "source": [
    "# #. Experiment #1: Logistic Regression (Version 1) - Implementation and Results\n",
    "\n",
    "Below is an experiment using a Logistic Regression model with input data that includes different features from the Version 2 LogReg experiment. [SPECIFY DIFFERENCES]\n",
    "\n",
    "Below the data is split into training and test data."
   ]
  },
  {
   "cell_type": "code",
   "execution_count": null,
   "metadata": {
    "id": "aAYHchVJD27B"
   },
   "outputs": [],
   "source": [
    "X_train, X_test, y_train, y_test = train_test_split(X, Y, test_size=0.2, random_state=0)"
   ]
  },
  {
   "cell_type": "markdown",
   "metadata": {
    "id": "renWNpAEupeh"
   },
   "source": [
    "In this cell, a StandardScaler object is used to standardize the training data."
   ]
  },
  {
   "cell_type": "code",
   "execution_count": null,
   "metadata": {
    "id": "M2R3avm0D292"
   },
   "outputs": [],
   "source": [
    "scaler = StandardScaler()\n",
    "X_train = scaler.fit_transform(X_train)"
   ]
  },
  {
   "cell_type": "markdown",
   "metadata": {
    "id": "_RybGX0nuu4Y"
   },
   "source": [
    "The multinomial LogReg model is created below and fit to the training data and labels."
   ]
  },
  {
   "cell_type": "code",
   "execution_count": null,
   "metadata": {
    "colab": {
     "base_uri": "https://localhost:8080/",
     "height": 273
    },
    "executionInfo": {
     "elapsed": 24692,
     "status": "ok",
     "timestamp": 1681918613889,
     "user": {
      "displayName": "Madison Melton",
      "userId": "16522916168467104913"
     },
     "user_tz": 240
    },
    "id": "wLJIS7inD3Ac",
    "outputId": "b37ab75b-4dea-46da-bc02-0b4a4173db4c"
   },
   "outputs": [
    {
     "name": "stderr",
     "output_type": "stream",
     "text": [
      "/usr/local/lib/python3.9/dist-packages/sklearn/utils/validation.py:1143: DataConversionWarning: A column-vector y was passed when a 1d array was expected. Please change the shape of y to (n_samples, ), for example using ravel().\n",
      "  y = column_or_1d(y, warn=True)\n",
      "/usr/local/lib/python3.9/dist-packages/sklearn/linear_model/_logistic.py:458: ConvergenceWarning: lbfgs failed to converge (status=1):\n",
      "STOP: TOTAL NO. of ITERATIONS REACHED LIMIT.\n",
      "\n",
      "Increase the number of iterations (max_iter) or scale the data as shown in:\n",
      "    https://scikit-learn.org/stable/modules/preprocessing.html\n",
      "Please also refer to the documentation for alternative solver options:\n",
      "    https://scikit-learn.org/stable/modules/linear_model.html#logistic-regression\n",
      "  n_iter_i = _check_optimize_result(\n"
     ]
    },
    {
     "data": {
      "text/html": [
       "<style>#sk-container-id-3 {color: black;background-color: white;}#sk-container-id-3 pre{padding: 0;}#sk-container-id-3 div.sk-toggleable {background-color: white;}#sk-container-id-3 label.sk-toggleable__label {cursor: pointer;display: block;width: 100%;margin-bottom: 0;padding: 0.3em;box-sizing: border-box;text-align: center;}#sk-container-id-3 label.sk-toggleable__label-arrow:before {content: \"▸\";float: left;margin-right: 0.25em;color: #696969;}#sk-container-id-3 label.sk-toggleable__label-arrow:hover:before {color: black;}#sk-container-id-3 div.sk-estimator:hover label.sk-toggleable__label-arrow:before {color: black;}#sk-container-id-3 div.sk-toggleable__content {max-height: 0;max-width: 0;overflow: hidden;text-align: left;background-color: #f0f8ff;}#sk-container-id-3 div.sk-toggleable__content pre {margin: 0.2em;color: black;border-radius: 0.25em;background-color: #f0f8ff;}#sk-container-id-3 input.sk-toggleable__control:checked~div.sk-toggleable__content {max-height: 200px;max-width: 100%;overflow: auto;}#sk-container-id-3 input.sk-toggleable__control:checked~label.sk-toggleable__label-arrow:before {content: \"▾\";}#sk-container-id-3 div.sk-estimator input.sk-toggleable__control:checked~label.sk-toggleable__label {background-color: #d4ebff;}#sk-container-id-3 div.sk-label input.sk-toggleable__control:checked~label.sk-toggleable__label {background-color: #d4ebff;}#sk-container-id-3 input.sk-hidden--visually {border: 0;clip: rect(1px 1px 1px 1px);clip: rect(1px, 1px, 1px, 1px);height: 1px;margin: -1px;overflow: hidden;padding: 0;position: absolute;width: 1px;}#sk-container-id-3 div.sk-estimator {font-family: monospace;background-color: #f0f8ff;border: 1px dotted black;border-radius: 0.25em;box-sizing: border-box;margin-bottom: 0.5em;}#sk-container-id-3 div.sk-estimator:hover {background-color: #d4ebff;}#sk-container-id-3 div.sk-parallel-item::after {content: \"\";width: 100%;border-bottom: 1px solid gray;flex-grow: 1;}#sk-container-id-3 div.sk-label:hover label.sk-toggleable__label {background-color: #d4ebff;}#sk-container-id-3 div.sk-serial::before {content: \"\";position: absolute;border-left: 1px solid gray;box-sizing: border-box;top: 0;bottom: 0;left: 50%;z-index: 0;}#sk-container-id-3 div.sk-serial {display: flex;flex-direction: column;align-items: center;background-color: white;padding-right: 0.2em;padding-left: 0.2em;position: relative;}#sk-container-id-3 div.sk-item {position: relative;z-index: 1;}#sk-container-id-3 div.sk-parallel {display: flex;align-items: stretch;justify-content: center;background-color: white;position: relative;}#sk-container-id-3 div.sk-item::before, #sk-container-id-3 div.sk-parallel-item::before {content: \"\";position: absolute;border-left: 1px solid gray;box-sizing: border-box;top: 0;bottom: 0;left: 50%;z-index: -1;}#sk-container-id-3 div.sk-parallel-item {display: flex;flex-direction: column;z-index: 1;position: relative;background-color: white;}#sk-container-id-3 div.sk-parallel-item:first-child::after {align-self: flex-end;width: 50%;}#sk-container-id-3 div.sk-parallel-item:last-child::after {align-self: flex-start;width: 50%;}#sk-container-id-3 div.sk-parallel-item:only-child::after {width: 0;}#sk-container-id-3 div.sk-dashed-wrapped {border: 1px dashed gray;margin: 0 0.4em 0.5em 0.4em;box-sizing: border-box;padding-bottom: 0.4em;background-color: white;}#sk-container-id-3 div.sk-label label {font-family: monospace;font-weight: bold;display: inline-block;line-height: 1.2em;}#sk-container-id-3 div.sk-label-container {text-align: center;}#sk-container-id-3 div.sk-container {/* jupyter's `normalize.less` sets `[hidden] { display: none; }` but bootstrap.min.css set `[hidden] { display: none !important; }` so we also need the `!important` here to be able to override the default hidden behavior on the sphinx rendered scikit-learn.org. See: https://github.com/scikit-learn/scikit-learn/issues/21755 */display: inline-block !important;position: relative;}#sk-container-id-3 div.sk-text-repr-fallback {display: none;}</style><div id=\"sk-container-id-3\" class=\"sk-top-container\"><div class=\"sk-text-repr-fallback\"><pre>LogisticRegression(C=0.5, multi_class=&#x27;multinomial&#x27;, random_state=0)</pre><b>In a Jupyter environment, please rerun this cell to show the HTML representation or trust the notebook. <br />On GitHub, the HTML representation is unable to render, please try loading this page with nbviewer.org.</b></div><div class=\"sk-container\" hidden><div class=\"sk-item\"><div class=\"sk-estimator sk-toggleable\"><input class=\"sk-toggleable__control sk-hidden--visually\" id=\"sk-estimator-id-3\" type=\"checkbox\" checked><label for=\"sk-estimator-id-3\" class=\"sk-toggleable__label sk-toggleable__label-arrow\">LogisticRegression</label><div class=\"sk-toggleable__content\"><pre>LogisticRegression(C=0.5, multi_class=&#x27;multinomial&#x27;, random_state=0)</pre></div></div></div></div></div>"
      ],
      "text/plain": [
       "LogisticRegression(C=0.5, multi_class='multinomial', random_state=0)"
      ]
     },
     "execution_count": 36,
     "metadata": {},
     "output_type": "execute_result"
    }
   ],
   "source": [
    "model = LogisticRegression(solver='lbfgs', C=0.5, multi_class='multinomial',\n",
    "                           random_state=0)\n",
    "model.fit(X_train, y_train)"
   ]
  },
  {
   "cell_type": "markdown",
   "metadata": {
    "id": "WuZpip5gIOex"
   },
   "source": [
    "Here we can see the details of the logistic regression model."
   ]
  },
  {
   "cell_type": "code",
   "execution_count": null,
   "metadata": {
    "colab": {
     "base_uri": "https://localhost:8080/",
     "height": 75
    },
    "executionInfo": {
     "elapsed": 21,
     "status": "ok",
     "timestamp": 1681918613891,
     "user": {
      "displayName": "Madison Melton",
      "userId": "16522916168467104913"
     },
     "user_tz": 240
    },
    "id": "8YDdASF_D3DV",
    "outputId": "f190a73d-36da-4e4e-f307-5db9ef52cce4"
   },
   "outputs": [
    {
     "data": {
      "text/html": [
       "<style>#sk-container-id-4 {color: black;background-color: white;}#sk-container-id-4 pre{padding: 0;}#sk-container-id-4 div.sk-toggleable {background-color: white;}#sk-container-id-4 label.sk-toggleable__label {cursor: pointer;display: block;width: 100%;margin-bottom: 0;padding: 0.3em;box-sizing: border-box;text-align: center;}#sk-container-id-4 label.sk-toggleable__label-arrow:before {content: \"▸\";float: left;margin-right: 0.25em;color: #696969;}#sk-container-id-4 label.sk-toggleable__label-arrow:hover:before {color: black;}#sk-container-id-4 div.sk-estimator:hover label.sk-toggleable__label-arrow:before {color: black;}#sk-container-id-4 div.sk-toggleable__content {max-height: 0;max-width: 0;overflow: hidden;text-align: left;background-color: #f0f8ff;}#sk-container-id-4 div.sk-toggleable__content pre {margin: 0.2em;color: black;border-radius: 0.25em;background-color: #f0f8ff;}#sk-container-id-4 input.sk-toggleable__control:checked~div.sk-toggleable__content {max-height: 200px;max-width: 100%;overflow: auto;}#sk-container-id-4 input.sk-toggleable__control:checked~label.sk-toggleable__label-arrow:before {content: \"▾\";}#sk-container-id-4 div.sk-estimator input.sk-toggleable__control:checked~label.sk-toggleable__label {background-color: #d4ebff;}#sk-container-id-4 div.sk-label input.sk-toggleable__control:checked~label.sk-toggleable__label {background-color: #d4ebff;}#sk-container-id-4 input.sk-hidden--visually {border: 0;clip: rect(1px 1px 1px 1px);clip: rect(1px, 1px, 1px, 1px);height: 1px;margin: -1px;overflow: hidden;padding: 0;position: absolute;width: 1px;}#sk-container-id-4 div.sk-estimator {font-family: monospace;background-color: #f0f8ff;border: 1px dotted black;border-radius: 0.25em;box-sizing: border-box;margin-bottom: 0.5em;}#sk-container-id-4 div.sk-estimator:hover {background-color: #d4ebff;}#sk-container-id-4 div.sk-parallel-item::after {content: \"\";width: 100%;border-bottom: 1px solid gray;flex-grow: 1;}#sk-container-id-4 div.sk-label:hover label.sk-toggleable__label {background-color: #d4ebff;}#sk-container-id-4 div.sk-serial::before {content: \"\";position: absolute;border-left: 1px solid gray;box-sizing: border-box;top: 0;bottom: 0;left: 50%;z-index: 0;}#sk-container-id-4 div.sk-serial {display: flex;flex-direction: column;align-items: center;background-color: white;padding-right: 0.2em;padding-left: 0.2em;position: relative;}#sk-container-id-4 div.sk-item {position: relative;z-index: 1;}#sk-container-id-4 div.sk-parallel {display: flex;align-items: stretch;justify-content: center;background-color: white;position: relative;}#sk-container-id-4 div.sk-item::before, #sk-container-id-4 div.sk-parallel-item::before {content: \"\";position: absolute;border-left: 1px solid gray;box-sizing: border-box;top: 0;bottom: 0;left: 50%;z-index: -1;}#sk-container-id-4 div.sk-parallel-item {display: flex;flex-direction: column;z-index: 1;position: relative;background-color: white;}#sk-container-id-4 div.sk-parallel-item:first-child::after {align-self: flex-end;width: 50%;}#sk-container-id-4 div.sk-parallel-item:last-child::after {align-self: flex-start;width: 50%;}#sk-container-id-4 div.sk-parallel-item:only-child::after {width: 0;}#sk-container-id-4 div.sk-dashed-wrapped {border: 1px dashed gray;margin: 0 0.4em 0.5em 0.4em;box-sizing: border-box;padding-bottom: 0.4em;background-color: white;}#sk-container-id-4 div.sk-label label {font-family: monospace;font-weight: bold;display: inline-block;line-height: 1.2em;}#sk-container-id-4 div.sk-label-container {text-align: center;}#sk-container-id-4 div.sk-container {/* jupyter's `normalize.less` sets `[hidden] { display: none; }` but bootstrap.min.css set `[hidden] { display: none !important; }` so we also need the `!important` here to be able to override the default hidden behavior on the sphinx rendered scikit-learn.org. See: https://github.com/scikit-learn/scikit-learn/issues/21755 */display: inline-block !important;position: relative;}#sk-container-id-4 div.sk-text-repr-fallback {display: none;}</style><div id=\"sk-container-id-4\" class=\"sk-top-container\"><div class=\"sk-text-repr-fallback\"><pre>LogisticRegression(C=0.5, multi_class=&#x27;multinomial&#x27;, random_state=0)</pre><b>In a Jupyter environment, please rerun this cell to show the HTML representation or trust the notebook. <br />On GitHub, the HTML representation is unable to render, please try loading this page with nbviewer.org.</b></div><div class=\"sk-container\" hidden><div class=\"sk-item\"><div class=\"sk-estimator sk-toggleable\"><input class=\"sk-toggleable__control sk-hidden--visually\" id=\"sk-estimator-id-4\" type=\"checkbox\" checked><label for=\"sk-estimator-id-4\" class=\"sk-toggleable__label sk-toggleable__label-arrow\">LogisticRegression</label><div class=\"sk-toggleable__content\"><pre>LogisticRegression(C=0.5, multi_class=&#x27;multinomial&#x27;, random_state=0)</pre></div></div></div></div></div>"
      ],
      "text/plain": [
       "LogisticRegression(C=0.5, multi_class='multinomial', random_state=0)"
      ]
     },
     "execution_count": 37,
     "metadata": {},
     "output_type": "execute_result"
    }
   ],
   "source": [
    "LogisticRegression(C=0.5, class_weight=None, dual=False, fit_intercept=True,\n",
    "                   intercept_scaling=1, l1_ratio=None, max_iter=100,\n",
    "                   multi_class='multinomial', n_jobs=None, penalty='l2', random_state=0,\n",
    "                   solver='lbfgs', tol=0.0001, verbose=0, warm_start=False)"
   ]
  },
  {
   "cell_type": "markdown",
   "metadata": {
    "id": "AQR1EJMbu5VQ"
   },
   "source": [
    "Below, the test data is standardized using the StandardScaler object."
   ]
  },
  {
   "cell_type": "code",
   "execution_count": null,
   "metadata": {
    "id": "gjfgFfk3D3GD"
   },
   "outputs": [],
   "source": [
    "X_test = scaler.transform(X_test)"
   ]
  },
  {
   "cell_type": "markdown",
   "metadata": {
    "id": "HPL8RRXlu_n2"
   },
   "source": [
    "In this cell, predictions are generated. Then some example of predictions and actual are printed for reference."
   ]
  },
  {
   "cell_type": "code",
   "execution_count": null,
   "metadata": {
    "colab": {
     "base_uri": "https://localhost:8080/"
    },
    "executionInfo": {
     "elapsed": 198,
     "status": "ok",
     "timestamp": 1681918614074,
     "user": {
      "displayName": "Madison Melton",
      "userId": "16522916168467104913"
     },
     "user_tz": 240
    },
    "id": "eYgHjHSMD3Ik",
    "outputId": "e39e16d4-76e8-4379-f46e-46a74e297f36"
   },
   "outputs": [
    {
     "name": "stdout",
     "output_type": "stream",
     "text": [
      "Prediction:  White\n",
      "Actual:  ['Native American']\n",
      "Prediction:  Asian\n",
      "Actual:  ['Asian']\n",
      "Prediction:  Black\n",
      "Actual:  ['Black']\n",
      "Prediction:  White\n",
      "Actual:  ['Native American']\n",
      "Prediction:  Asian\n",
      "Actual:  ['Asian']\n",
      "Prediction:  Black\n",
      "Actual:  ['Asian']\n",
      "Prediction:  White\n",
      "Actual:  ['Native American']\n",
      "Prediction:  Black\n",
      "Actual:  ['Black']\n",
      "Prediction:  Black\n",
      "Actual:  ['Black']\n",
      "Prediction:  White\n",
      "Actual:  ['White']\n"
     ]
    }
   ],
   "source": [
    "y_pred = model.predict(X_test)\n",
    "y_test_temp = np.array(y_test)\n",
    "for i in range(10):\n",
    "  print(\"Prediction: \", y_pred[i])\n",
    "  print(\"Actual: \", y_test_temp[i])"
   ]
  },
  {
   "cell_type": "markdown",
   "metadata": {
    "id": "fFXt8mKgxol4"
   },
   "source": [
    "This model performed at 63.66% accuracy during training."
   ]
  },
  {
   "cell_type": "code",
   "execution_count": null,
   "metadata": {
    "colab": {
     "base_uri": "https://localhost:8080/"
    },
    "executionInfo": {
     "elapsed": 2115,
     "status": "ok",
     "timestamp": 1681918616187,
     "user": {
      "displayName": "Madison Melton",
      "userId": "16522916168467104913"
     },
     "user_tz": 240
    },
    "id": "cWY-Bv8uF0H3",
    "outputId": "b3fd33ac-90b5-4bcc-8238-c92dca97794d"
   },
   "outputs": [
    {
     "data": {
      "text/plain": [
       "0.6380791285373568"
      ]
     },
     "execution_count": 40,
     "metadata": {},
     "output_type": "execute_result"
    }
   ],
   "source": [
    "model.score(X_train, y_train)"
   ]
  },
  {
   "cell_type": "markdown",
   "metadata": {
    "id": "JzD7DIn4IXAk"
   },
   "source": [
    "Below we can observe the confusion matrix for the logreg models predictions on the test data as well as an accuracy of 63%. Some observations are provided below:\n",
    "* Asian was often mislabelled as Black or Native American\n",
    "* Black was often mislabelled as Asian\n",
    "* Native American was often mislabelled as White or Asian\n",
    "* White was often mislabelled as Native American"
   ]
  },
  {
   "cell_type": "code",
   "execution_count": null,
   "metadata": {
    "colab": {
     "base_uri": "https://localhost:8080/",
     "height": 588
    },
    "executionInfo": {
     "elapsed": 1592,
     "status": "ok",
     "timestamp": 1681918617774,
     "user": {
      "displayName": "Madison Melton",
      "userId": "16522916168467104913"
     },
     "user_tz": 240
    },
    "id": "M3uQrFcaF0Ki",
    "outputId": "25bccf31-d203-4dce-fe7b-afa0b7c10777"
   },
   "outputs": [
    {
     "name": "stdout",
     "output_type": "stream",
     "text": [
      "Accuracy:  0.6359490656165848\n"
     ]
    },
    {
     "data": {
      "image/png": "[encoded data removed]",
      "text/plain": [
       "<Figure size 640x480 with 2 Axes>"
      ]
     },
     "metadata": {},
     "output_type": "display_data"
    }
   ],
   "source": [
    "print(\"Accuracy: \", model.score(X_test, y_test), \"\\n\")\n",
    "confusion_mat(y_test, y_pred, np.unique(y_pred))"
   ]
  },
  {
   "cell_type": "markdown",
   "metadata": {
    "id": "HHpsiD6bNRWr"
   },
   "source": [
    "# #. Experiment #2: Decision Tree (version 1) - Implementation and Results"
   ]
  },
  {
   "cell_type": "markdown",
   "metadata": {
    "id": "Lm9K38avJUO1"
   },
   "source": [
    "Below we have created a Decision Tree model, fit it to the training data and labels, generated predictions for the test data split, and printed the accuracy as well as visualized a confusion matrix. The Decision Tree model performed much better than the LogReg model on the same input data with an accuracy of 95%."
   ]
  },
  {
   "cell_type": "code",
   "execution_count": null,
   "metadata": {
    "colab": {
     "base_uri": "https://localhost:8080/",
     "height": 606
    },
    "executionInfo": {
     "elapsed": 4425,
     "status": "ok",
     "timestamp": 1681918622193,
     "user": {
      "displayName": "Madison Melton",
      "userId": "16522916168467104913"
     },
     "user_tz": 240
    },
    "id": "lXE6hQpnNQuU",
    "outputId": "3310438a-f633-40fb-b97e-1662b9502c68"
   },
   "outputs": [
    {
     "name": "stdout",
     "output_type": "stream",
     "text": [
      "Accuracy:  0.9500128553836994 \n",
      "\n"
     ]
    },
    {
     "data": {
      "image/png": "[encoded data removed]",
      "text/plain": [
       "<Figure size 640x480 with 2 Axes>"
      ]
     },
     "metadata": {},
     "output_type": "display_data"
    }
   ],
   "source": [
    "# Decision tree with entropy\n",
    "decision_tree = DecisionTreeClassifier(\n",
    "            criterion = \"entropy\", random_state = 100,\n",
    "            max_depth = 12, min_samples_leaf = 5)\n",
    "  \n",
    "# Performing training\n",
    "decision_tree.fit(X_train, y_train)\n",
    "\n",
    "# generate predictions\n",
    "y_pred = decision_tree.predict(X_test)\n",
    "\n",
    "print(\"Accuracy: \", metrics.accuracy_score(y_test, y_pred), \"\\n\")\n",
    "\n",
    "# print confusion matrix\n",
    "confusion_mat(y_test, y_pred, np.unique(y_pred))\n",
    "\n"
   ]
  },
  {
   "cell_type": "markdown",
   "metadata": {
    "id": "uuFHNDmpOO36"
   },
   "source": [
    "# #. References\n",
    "\n",
    "https://www.geeksforgeeks.org/decision-tree-implementation-python/\n",
    "\n",
    "w3schools. (n.d.). Machine learning - confusion matrix. Python Machine Learning - Confusion Matrix. Retrieved 24AD, from https://www.w3schools.com/python/python_ml_confusion_matrix.asp"
   ]
  }
 ],
 "metadata": {
  "colab": {
   "provenance": []
  },
  "gpuClass": "standard",
  "kernelspec": {
   "display_name": "Python 3 (ipykernel)",
   "language": "python",
   "name": "python3"
  },
  "language_info": {
   "codemirror_mode": {
    "name": "ipython",
    "version": 3
   },
   "file_extension": ".py",
   "mimetype": "text/x-python",
   "name": "python",
   "nbconvert_exporter": "python",
   "pygments_lexer": "ipython3",
   "version": "3.9.12"
  }
 },
 "nbformat": 4,
 "nbformat_minor": 1
}
